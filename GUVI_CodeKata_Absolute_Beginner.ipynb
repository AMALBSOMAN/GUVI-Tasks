{
  "cells": [
    {
      "cell_type": "markdown",
      "metadata": {
        "id": "view-in-github",
        "colab_type": "text"
      },
      "source": [
        "<a href=\"https://colab.research.google.com/github/AMALBSOMAN/GUVI-Tasks/blob/main/GUVI_CodeKata_Absolute_Beginner.ipynb\" target=\"_parent\"><img src=\"https://colab.research.google.com/assets/colab-badge.svg\" alt=\"Open In Colab\"/></a>"
      ]
    },
    {
      "cell_type": "code",
      "source": [
        "#1. You are given a number A in Kilometers. Convert this into B: Meters and C: Centi-Metres\n",
        "A = int(input())\n",
        "B = 1000*A\n",
        "C = 100000*A\n",
        "print(B)\n",
        "print(C)"
      ],
      "metadata": {
        "id": "LZjQrIz3E9Fi"
      },
      "id": "LZjQrIz3E9Fi",
      "execution_count": null,
      "outputs": []
    },
    {
      "cell_type": "code",
      "source": [
        "#2. You are given Two Numbers, A and B. If C = A + B. Find C. Note: Round off the output to a single decimal place\n",
        "a = float(input())\n",
        "b = float(input())\n",
        "c=a+b\n",
        "print(\"%.1f\" % round(c, 1))"
      ],
      "metadata": {
        "id": "l6Gya9J4FFnQ"
      },
      "id": "l6Gya9J4FFnQ",
      "execution_count": null,
      "outputs": []
    },
    {
      "cell_type": "code",
      "source": [
        "#3. You are given with a number \"N\", find its cube\n",
        "x= int(input())\n",
        "print(x*x*x)"
      ],
      "metadata": {
        "id": "boyoDNUpFNvl"
      },
      "id": "boyoDNUpFNvl",
      "execution_count": null,
      "outputs": []
    },
    {
      "cell_type": "code",
      "execution_count": null,
      "id": "04bb3fda",
      "metadata": {
        "id": "04bb3fda",
        "outputId": "74eb2d82-172a-45d4-fd6e-bcf9b9de7cf5"
      },
      "outputs": [
        {
          "name": "stdout",
          "output_type": "stream",
          "text": [
            "20\n"
          ]
        }
      ],
      "source": [
        "#4. Find the area of the equilateral triangle\n",
        "import math\n",
        "a = int(input())\n",
        "A = 0.25*math.sqrt(3)*a*a\n",
        "print('%.2f'%A)"
      ]
    },
    {
      "cell_type": "code",
      "execution_count": null,
      "id": "d1c206ac",
      "metadata": {
        "id": "d1c206ac",
        "outputId": "2ee156f6-37e6-4787-966a-662cbb0ad9e8"
      },
      "outputs": [
        {
          "name": "stdout",
          "output_type": "stream",
          "text": [
            "38\n",
            "100.40\n"
          ]
        }
      ],
      "source": [
        "#5. the temperature in Celcius. Write a program to convert this into Fahrenheit\n",
        "c = int(input())\n",
        "f = (c*9/5) + 32\n",
        "print('%.2f'%f)"
      ]
    },
    {
      "cell_type": "code",
      "execution_count": null,
      "id": "a33d4043",
      "metadata": {
        "id": "a33d4043",
        "outputId": "53d7895c-bcfe-47c4-91d4-83ca4ba287ad"
      },
      "outputs": [
        {
          "name": "stdout",
          "output_type": "stream",
          "text": [
            "100\n",
            "Error\n"
          ]
        }
      ],
      "source": [
        "#6. You will be provided with a number. Print the number of days in the month corresponding to that number\n",
        "m = int(input())\n",
        "if ((m == 1) or (m == 3) or (m == 5) or (m == 7) or (m == 8) or (m == 10) or (m == 12)):\n",
        "    print(31)\n",
        "elif ((m == 4) or (m == 6) or (m == 9) or (m == 11)):\n",
        "    print(30)\n",
        "elif ((m == 2)):\n",
        "    print(28)\n",
        "else:\n",
        "    print('Error')"
      ]
    },
    {
      "cell_type": "code",
      "source": [
        "#7. You are provided with a number \"N\", Find the Nth term of the series: 1, 4, 9, 16, 25, 36, 49, 64, 81, .......\n",
        "n = int(input())\n",
        "print(n*n)"
      ],
      "metadata": {
        "id": "GvXNxu1MFg1-"
      },
      "id": "GvXNxu1MFg1-",
      "execution_count": null,
      "outputs": []
    },
    {
      "cell_type": "code",
      "execution_count": null,
      "id": "68eaa4cb",
      "metadata": {
        "id": "68eaa4cb",
        "outputId": "92913fd7-2049-42a8-d3a9-a3a2a6fea473"
      },
      "outputs": [
        {
          "name": "stdout",
          "output_type": "stream",
          "text": [
            "3\n",
            "3 6 9\n"
          ]
        }
      ],
      "source": [
        "#8. Print the First 3 multiples of the given number \"N\"\n",
        "n = int(input())\n",
        "print(n,n*2,n*3)"
      ]
    },
    {
      "cell_type": "code",
      "execution_count": null,
      "id": "79a87fb0",
      "metadata": {
        "id": "79a87fb0",
        "outputId": "d26416db-6a29-45b1-ca96-d3d2a02ccbb4"
      },
      "outputs": [
        {
          "name": "stdout",
          "output_type": "stream",
          "text": [
            "1000 1.1 5\n",
            "55.00\n"
          ]
        }
      ],
      "source": [
        "#9. You are given with Principle amount($), Interest Rate(%) and Time (years) in that order. Find Simple Interest\n",
        "p,t,r = input().split()\n",
        "p,t,r = [float(p),float(t),float(r)]\n",
        "print('%.2f'%(p*t*r/100))"
      ]
    },
    {
      "cell_type": "code",
      "execution_count": null,
      "id": "1d818b6b",
      "metadata": {
        "id": "1d818b6b",
        "outputId": "199080f9-2101-4234-e296-dffffffdf4b8"
      },
      "outputs": [
        {
          "name": "stdout",
          "output_type": "stream",
          "text": [
            "2\n",
            "12.57\n"
          ]
        }
      ],
      "source": [
        "#10. You are provided with the radius of a circle \"A\". Find the length of its circumference\n",
        "r = float(input())\n",
        "if r > 0:\n",
        "    print('%.2f'%(22*2*r/7))\n",
        "else:\n",
        "    print('error')"
      ]
    },
    {
      "cell_type": "code",
      "execution_count": null,
      "id": "11518499",
      "metadata": {
        "id": "11518499",
        "outputId": "fff07a34-2112-4541-b784-59fc2d9882d7"
      },
      "outputs": [
        {
          "name": "stdout",
          "output_type": "stream",
          "text": [
            "3\n",
            "9 18 27\n"
          ]
        }
      ],
      "source": [
        "#11. Using the method of looping, write a program to print the table of 9 till N in the format as follows:\n",
        "#(N is input by the user)\n",
        "#9 18 27...\n",
        "n = int(input())\n",
        "if n > 0:\n",
        "    for i in range(1,n):\n",
        "        print(9*i,end=' ')\n",
        "    print(9*n)\n",
        "else:\n",
        "    print('NULL')"
      ]
    },
    {
      "cell_type": "code",
      "execution_count": null,
      "id": "46ab1983",
      "metadata": {
        "id": "46ab1983",
        "outputId": "585fa421-89e4-4198-eed9-5ec07ef7be05"
      },
      "outputs": [
        {
          "name": "stdout",
          "output_type": "stream",
          "text": [
            "2 5\n",
            "2\n",
            "2\n",
            "2\n",
            "2\n",
            "2\n"
          ]
        }
      ],
      "source": [
        "#12. Write a code to get 2 integers A and N. Print the integer A, N times in separate line.\n",
        "x, n = input().split()\n",
        "x, n = [int(x), int(n)]\n",
        "for i in range(1,n+1):\n",
        "    print(x)"
      ]
    },
    {
      "cell_type": "code",
      "execution_count": null,
      "id": "bf6fe6a5",
      "metadata": {
        "id": "bf6fe6a5",
        "outputId": "6158d2ac-2552-4490-f77e-3052ccecd74f"
      },
      "outputs": [
        {
          "name": "stdout",
          "output_type": "stream",
          "text": [
            "4\n",
            "2\n",
            "1\n",
            "4\n"
          ]
        }
      ],
      "source": [
        "#13. You are given three numbers A, B & C. Print the largest amongst these three numbers.\n",
        "a = int(input())\n",
        "b = int(input())\n",
        "c = int(input())\n",
        "if (a > b) & (a > c):\n",
        "    print(a)\n",
        "elif (b > a) & (b > c):\n",
        "    print(b)\n",
        "else:\n",
        "    print(c)"
      ]
    },
    {
      "cell_type": "code",
      "execution_count": null,
      "id": "8b9017d0",
      "metadata": {
        "id": "8b9017d0",
        "outputId": "cff446e0-f6c3-45f6-8e31-4b40394a07bd"
      },
      "outputs": [
        {
          "name": "stdout",
          "output_type": "stream",
          "text": [
            "3\n",
            "3\n",
            "3\n",
            "3\n",
            "3\n",
            "3\n"
          ]
        }
      ],
      "source": [
        "#14. Write a code to get the input and print it 5 times\n",
        "n = int(input())\n",
        "for i in range(5):\n",
        "    print(n)"
      ]
    },
    {
      "cell_type": "code",
      "execution_count": null,
      "id": "d02472bb",
      "metadata": {
        "id": "d02472bb",
        "outputId": "e1e4db97-0c96-4d61-88f6-9751faec32c5"
      },
      "outputs": [
        {
          "name": "stdout",
          "output_type": "stream",
          "text": [
            "1 5 6\n",
            "-2.00\n",
            "-3.00\n"
          ]
        }
      ],
      "source": [
        "#15. You are given the coefficients of a quadratic equation in order A, B & C\n",
        "import math\n",
        "a,b,c = input().split()\n",
        "a,b,c = [int(a), int(b), int(c)]\n",
        "r1 = ((-b)+math.sqrt((b*b)-(4*a*c)))/(2*a)\n",
        "r2 = ((-b)-math.sqrt((b*b)-(4*a*c)))/(2*a)\n",
        "print('%.2f'%(r1))\n",
        "print('%.2f'%(r2))"
      ]
    },
    {
      "cell_type": "code",
      "execution_count": null,
      "id": "dce55d36",
      "metadata": {
        "id": "dce55d36",
        "outputId": "98ebf9ac-9588-44ea-aee8-4995399626b9"
      },
      "outputs": [
        {
          "name": "stdout",
          "output_type": "stream",
          "text": [
            "4 1\n",
            "1\n"
          ]
        }
      ],
      "source": [
        "#16. Print the smallest number\n",
        "a,b = input().split()\n",
        "a,b = [int(a),int(b)]\n",
        "if a > b:\n",
        "    print(b)\n",
        "else:\n",
        "    print(a)"
      ]
    },
    {
      "cell_type": "code",
      "execution_count": null,
      "id": "18003695",
      "metadata": {
        "id": "18003695",
        "outputId": "7874faf4-ea97-4593-858c-51e998ba50fd"
      },
      "outputs": [
        {
          "name": "stdout",
          "output_type": "stream",
          "text": [
            "3\n",
            "4\n",
            "12\n"
          ]
        }
      ],
      "source": [
        "#17. You are given A = Length of a rectangle & B = breadth of a rectangle. Find its area “C”\n",
        "a = int(input())\n",
        "b = int(input())\n",
        "print(a*b)"
      ]
    },
    {
      "cell_type": "code",
      "execution_count": null,
      "id": "26c7195f",
      "metadata": {
        "id": "26c7195f",
        "outputId": "5e7558f6-4577-4d81-9932-1c96e1bd9c6e"
      },
      "outputs": [
        {
          "name": "stdout",
          "output_type": "stream",
          "text": [
            "a m al\n",
            "4\n"
          ]
        }
      ],
      "source": [
        "#18. Let \"A\"  be a string. Remove all the whitespaces and find it's length\n",
        "string = input()\n",
        "count = len(string.replace(' ',''))\n",
        "print(count)"
      ]
    },
    {
      "cell_type": "code",
      "execution_count": null,
      "id": "8b2dcd6c",
      "metadata": {
        "id": "8b2dcd6c",
        "outputId": "509d8385-5bf0-45c5-ae49-e653980a0bef"
      },
      "outputs": [
        {
          "name": "stdout",
          "output_type": "stream",
          "text": [
            "2011\n",
            "N\n"
          ]
        }
      ],
      "source": [
        "#19. Let \"A\" be a year, write a program to check whether this year is a leap year or not\n",
        "year = int(input())\n",
        "if ((year%4 == 0) & (year%400 == 0)):\n",
        "    print('Y')\n",
        "elif (year%4 != 0):\n",
        "    print('N')\n",
        "elif ((year%4 == 0) & (year%100 == 0)):\n",
        "    print('N')\n",
        "elif ((year%4)==0 & (year%100!=0)):\n",
        "    print('Y')"
      ]
    },
    {
      "cell_type": "code",
      "execution_count": null,
      "id": "0630f7ae",
      "metadata": {
        "id": "0630f7ae",
        "outputId": "69875448-f1f5-44f7-8b19-db0cd4a827c6"
      },
      "outputs": [
        {
          "name": "stdout",
          "output_type": "stream",
          "text": [
            "10\n",
            "55\n"
          ]
        }
      ],
      "source": [
        "#20. Write a code to get an integer N and print the sum of  values from 1 to N\n",
        "n = int(input())\n",
        "s = 0\n",
        "a = range(n+1)\n",
        "for i in a:\n",
        "    s = s+i\n",
        "print(s)"
      ]
    },
    {
      "cell_type": "code",
      "execution_count": null,
      "id": "47170f76",
      "metadata": {
        "id": "47170f76",
        "outputId": "c5b7874a-c398-4756-b320-6447d6dba2e4"
      },
      "outputs": [
        {
          "name": "stdout",
          "output_type": "stream",
          "text": [
            "44221423332\n",
            "2 2 2 2 4 4 4\n",
            "1 3 3 3\n"
          ]
        }
      ],
      "source": [
        "#21. Write a code get an integer number as input and print the odd and even digits of the number separately\n",
        "a=input()\n",
        "odd=[]\n",
        "even=[]\n",
        "for i in a:\n",
        "    i=int(i)\n",
        "    if(i%2==0):\n",
        "        even.append(i)\n",
        "    else:\n",
        "        odd.append(i)\n",
        "even.sort()\n",
        "odd.sort()\n",
        "print(*even,sep=\" \")\n",
        "print(*odd,sep=\" \")"
      ]
    },
    {
      "cell_type": "code",
      "execution_count": null,
      "id": "761e6838",
      "metadata": {
        "id": "761e6838",
        "outputId": "62569ea8-0811-4b97-9686-9a4e1269b3cc"
      },
      "outputs": [
        {
          "name": "stdout",
          "output_type": "stream",
          "text": [
            "5\n",
            "2\n",
            "4\n"
          ]
        }
      ],
      "source": [
        "#22. Write a code to get an integer N and print the even values from 1 till N in a separate line.\n",
        "n = int(input())\n",
        "for i in range(1,n+1):\n",
        "    if i%2==0:\n",
        "        print(i)"
      ]
    },
    {
      "cell_type": "code",
      "execution_count": null,
      "id": "c41471f6",
      "metadata": {
        "id": "c41471f6",
        "outputId": "7da77eef-7308-4112-a185-546a59974e8f"
      },
      "outputs": [
        {
          "name": "stdout",
          "output_type": "stream",
          "text": [
            "3\n",
            "6\n"
          ]
        }
      ],
      "source": [
        "#23. Find factorial\n",
        "import math\n",
        "n = int(input())\n",
        "print(math.factorial(n))"
      ]
    },
    {
      "cell_type": "code",
      "execution_count": null,
      "id": "79e60a99",
      "metadata": {
        "id": "79e60a99",
        "outputId": "c94b45ab-8ec7-48a2-f6af-63bb4c60fe94"
      },
      "outputs": [
        {
          "name": "stdout",
          "output_type": "stream",
          "text": [
            "431\n",
            "4 3 1\n"
          ]
        }
      ],
      "source": [
        "#24. Write a code to get an integer N and print the digits of the integer\n",
        "n = input()\n",
        "ar=[]\n",
        "for i in n:\n",
        "    i = int(i)\n",
        "    ar.append(i)\n",
        "print(*ar, sep=\" \")"
      ]
    },
    {
      "cell_type": "code",
      "execution_count": null,
      "id": "753e0614",
      "metadata": {
        "id": "753e0614",
        "outputId": "7be4a319-f9c6-4ee7-8c82-34d57ff0050d"
      },
      "outputs": [
        {
          "name": "stdout",
          "output_type": "stream",
          "text": [
            "GUVI\n",
            "IVUG\n"
          ]
        }
      ],
      "source": [
        "#25. Write a program to get a string as input and reverse the string without using temporary variable\n",
        "txt = input()\n",
        "rtxt = txt[::-1]\n",
        "print(rtxt)"
      ]
    },
    {
      "cell_type": "code",
      "execution_count": null,
      "id": "65cbf1f8",
      "metadata": {
        "id": "65cbf1f8",
        "outputId": "5086e9cd-91b9-44b1-9fb5-2f2fda5153bf"
      },
      "outputs": [
        {
          "name": "stdout",
          "output_type": "stream",
          "text": [
            "5\n",
            "1\n",
            "2\n",
            "3\n",
            "4\n",
            "5\n"
          ]
        }
      ],
      "source": [
        "#26. Write a code to get an integer N and print values from 1 till N in a separate line.\n",
        "n = int(input())\n",
        "for i in range(1,n+1):\n",
        "    print(i)"
      ]
    },
    {
      "cell_type": "code",
      "execution_count": null,
      "id": "2f2667c7",
      "metadata": {
        "id": "2f2667c7",
        "outputId": "4f1727fc-88f9-4bbe-972f-729a9e2b7a82"
      },
      "outputs": [
        {
          "name": "stdout",
          "output_type": "stream",
          "text": [
            "124\n",
            "7\n"
          ]
        }
      ],
      "source": [
        "#27. Write a code get an integer number as input and print the sum of the digits\n",
        "n = input()\n",
        "s = 0\n",
        "for i in n:\n",
        "    s = s + int(i)\n",
        "print(s)"
      ]
    },
    {
      "cell_type": "code",
      "execution_count": null,
      "id": "c41bc5c6",
      "metadata": {
        "id": "c41bc5c6",
        "outputId": "93b7a0f3-39a2-4168-b0e1-f4f8e773d43c"
      },
      "outputs": [
        {
          "name": "stdout",
          "output_type": "stream",
          "text": [
            "5\n",
            "5\n",
            "4\n",
            "3\n",
            "2\n",
            "1\n"
          ]
        }
      ],
      "source": [
        "#28. Write a code to get an integer N and print the values from N to 1\n",
        "n = int(input())\n",
        "for i in range(1,n+1):\n",
        "    print(n+1-i)"
      ]
    },
    {
      "cell_type": "code",
      "execution_count": null,
      "id": "3f0b5bd9",
      "metadata": {
        "id": "3f0b5bd9",
        "outputId": "7258f5b6-28e0-4faa-ea0e-67a2b23c7df5"
      },
      "outputs": [
        {
          "name": "stdout",
          "output_type": "stream",
          "text": [
            "19 38\n"
          ]
        },
        {
          "data": {
            "text/plain": [
              "19"
            ]
          },
          "execution_count": 100,
          "metadata": {},
          "output_type": "execute_result"
        }
      ],
      "source": [
        "#29. Write a code to get 2 integers as input and find the HCF of the 2 integer without using recursion or Euclidean algorithm\n",
        "def compute_hcf(x,y):\n",
        "    if x > y:\n",
        "        small = y\n",
        "    else:\n",
        "        small = x\n",
        "    for i in range(1,small+1):\n",
        "        if (x%i==0) and (y%i==0):\n",
        "            hcf = i\n",
        "    return hcf\n",
        "x,y = input().split()\n",
        "x,y = [int(x),int(y)]\n",
        "compute_hcf(x,y)"
      ]
    },
    {
      "cell_type": "code",
      "execution_count": null,
      "id": "8684bc4a",
      "metadata": {
        "id": "8684bc4a",
        "outputId": "06eada72-ae8b-4b13-a493-90e0a19fe251"
      },
      "outputs": [
        {
          "name": "stdout",
          "output_type": "stream",
          "text": [
            "0\n",
            "Zero\n"
          ]
        }
      ],
      "source": [
        "#30. You are provided with a number check whether its odd or even\n",
        "f = float(input())\n",
        "n = round(f)\n",
        "if n == 0:\n",
        "    print('Zero')\n",
        "elif n%2==0:\n",
        "    print('Even')\n",
        "else:\n",
        "    print('Odd')"
      ]
    }
  ],
  "metadata": {
    "kernelspec": {
      "display_name": "Python 3 (ipykernel)",
      "language": "python",
      "name": "python3"
    },
    "language_info": {
      "codemirror_mode": {
        "name": "ipython",
        "version": 3
      },
      "file_extension": ".py",
      "mimetype": "text/x-python",
      "name": "python",
      "nbconvert_exporter": "python",
      "pygments_lexer": "ipython3",
      "version": "3.9.7"
    },
    "colab": {
      "name": "Absolute_Beginner.ipynb",
      "provenance": [],
      "collapsed_sections": [],
      "include_colab_link": true
    }
  },
  "nbformat": 4,
  "nbformat_minor": 5
}