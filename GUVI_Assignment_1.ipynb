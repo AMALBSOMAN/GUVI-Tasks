{
  "nbformat": 4,
  "nbformat_minor": 0,
  "metadata": {
    "colab": {
      "name": "GUVI_Assignment_1.ipynb",
      "provenance": [],
      "collapsed_sections": [],
      "authorship_tag": "ABX9TyMeReqrr/Ext1HM7jg005Gn",
      "include_colab_link": true
    },
    "kernelspec": {
      "name": "python3",
      "display_name": "Python 3"
    },
    "language_info": {
      "name": "python"
    }
  },
  "cells": [
    {
      "cell_type": "markdown",
      "metadata": {
        "id": "view-in-github",
        "colab_type": "text"
      },
      "source": [
        "<a href=\"https://colab.research.google.com/github/AMALBSOMAN/GUVI-Tasks/blob/main/GUVI_Assignment_1.ipynb\" target=\"_parent\"><img src=\"https://colab.research.google.com/assets/colab-badge.svg\" alt=\"Open In Colab\"/></a>"
      ]
    },
    {
      "cell_type": "code",
      "execution_count": null,
      "metadata": {
        "id": "hsT_-e0OKelI"
      },
      "outputs": [],
      "source": [
        "import re\n",
        "def registration():\n",
        "  def isEmail(email):\n",
        "    email = email\n",
        "    check = '[A-Za-z]+[A-Za-z0-9]*\\@[a-z]+\\.[a-z]{2,3}'\n",
        "    if re.match(check,email):\n",
        "      return True\n",
        "    return False\n",
        "\n",
        "  email = input('Enter your email id \\n')\n",
        "  isEmail(email)\n",
        "\n",
        "  while isEmail(email) == False:\n",
        "    email = input('Unacceptable email id, please enter again  \\n')\n",
        "\n",
        "  def isPass(password):\n",
        "    password = password\n",
        "    checkPass = '^(?=.*?[A-Z])(?=.*?[a-z])(?=.*?[0-9])(?=.*?[#?!@$%^&*-]).{6,15}$'\n",
        "    if re.match(checkPass,password):\n",
        "      return True\n",
        "    return False\n",
        "\n",
        "  password = input('Enter a password \\n')\n",
        "  isPass(password)\n",
        "\n",
        "  while isPass(password) == False:\n",
        "    password = input('Unacceptable password, please enter alpha numeric with upper\\\n",
        "and lower case \\n')\n",
        "\n",
        "  writetext = str(email)+' '+str(password)+' txt'\n",
        "  f = open(\"userfile.txt\",\"a\")\n",
        "  f.write(writetext)\n",
        "  f.write(\"\\n\")\n",
        "  f.close()\n",
        "  print('Registration successful, you can now login \\n')\n",
        "  login()\n",
        "\n",
        "def login():\n",
        "  inpemail = input('Enter your email id \\n')\n",
        "  f = open(\"userfile.txt\",\"a\")\n",
        "  f.close()\n",
        "  f = open('userfile.txt','r')\n",
        "  if inpemail not in f.read():\n",
        "    print('Email id does not exist, Please register')\n",
        "    registration()\n",
        "  else:\n",
        "    inppass = input('Enter your password \\n')\n",
        "    inputkeyword = 'retry password'\n",
        "    flag = 0\n",
        "    while inputkeyword != 'forgot password' and flag == 0:\n",
        "      for line in open(\"userfile.txt\",\"r\").readlines():\n",
        "        login_info = line.split(' ')\n",
        "        if login_info[0] == inpemail:\n",
        "          if login_info[1] == inppass:\n",
        "            print('Credentials verified, you are now logged in')\n",
        "            flag = 1\n",
        "          else:\n",
        "            inputkeyword = input('Wrong password, You can enter password again or \\\n",
        "retrieve password by entering \\\"forgot password\\\" \\n')\n",
        "          break\n",
        "    if flag == 0:\n",
        "      print('Your correct password is ',login_info[1])\n",
        "\n",
        "userinput = input('Do you want to register or login? \\n')\n",
        "if userinput == 'register':\n",
        "  registration()\n",
        "else:\n",
        "  login()"
      ]
    },
    {
      "cell_type": "code",
      "source": [
        ""
      ],
      "metadata": {
        "id": "cAx1CcizKuho"
      },
      "execution_count": null,
      "outputs": []
    }
  ]
}