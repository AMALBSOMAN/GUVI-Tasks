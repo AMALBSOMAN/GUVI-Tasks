{
  "nbformat": 4,
  "nbformat_minor": 0,
  "metadata": {
    "colab": {
      "name": "GUVI_Tasks",
      "provenance": [],
      "collapsed_sections": [],
      "authorship_tag": "ABX9TyONzUskQNtFid5MmyzVDRI0"
    },
    "kernelspec": {
      "name": "python3",
      "display_name": "Python 3"
    },
    "language_info": {
      "name": "python"
    }
  },
  "cells": [
    {
      "cell_type": "markdown",
      "source": [
        "Print current date and time"
      ],
      "metadata": {
        "id": "hvDwfEKlh31I"
      }
    },
    {
      "cell_type": "code",
      "execution_count": null,
      "metadata": {
        "colab": {
          "base_uri": "https://localhost:8080/"
        },
        "id": "8rCjft8AAdQt",
        "outputId": "a20fb6dd-e056-4b8e-85c7-8276ce19a102"
      },
      "outputs": [
        {
          "output_type": "stream",
          "name": "stdout",
          "text": [
            "2022-05-31 15:21:45.035751+05:30\n"
          ]
        }
      ],
      "source": [
        "#1. Write a Python program to display the current date and time\n",
        "from datetime import datetime\n",
        "import pytz # for timezone() \n",
        "today = date.today()\n",
        "#print(today) # print in yyyy-mm-dd format\n",
        "#print(today.strftime(\"%d/%m/%Y\")) # print in dd/mm/yyyy format\n",
        "#print(today.strftime(\"%m/%d/%Y\")) # print in mm/dd/yyyy format\n",
        "#print(today.strftime(\"%B %d, %Y\")) # print in Month dd, yyyy format\n",
        "#print(today.strftime(\"%b-%d-%Y\")) # print in Mon-dd-yyyy format\n",
        "time_now = datetime.now(pytz.timezone('Asia/Kolkata')) # get India time zone\n",
        "print(time_now)"
      ]
    },
    {
      "cell_type": "code",
      "source": [
        "#2. Write a Python program which accepts a sequence of comma-separated numbers from user and generate a list and a tuple with those number\n",
        "a = input().split(',')\n",
        "for i in range(len(a)):\n",
        "  a[i] = int(a[i])\n",
        "print(a) #printing the list\n",
        "print(tuple(a)) #printing the tuple"
      ],
      "metadata": {
        "colab": {
          "base_uri": "https://localhost:8080/"
        },
        "id": "Cb3DhapEdXQT",
        "outputId": "44ff314d-6997-4169-fc76-1f152241892e"
      },
      "execution_count": null,
      "outputs": [
        {
          "output_type": "stream",
          "name": "stdout",
          "text": [
            "1,2,3\n",
            "[1, 2, 3]\n",
            "(1, 2, 3)\n"
          ]
        }
      ]
    },
    {
      "cell_type": "code",
      "source": [
        "#3. Write a Python program to display the first and last colors from the following list.\n",
        "color_list = [\"Red\",\"Green\",\"White\" ,\"Black\"]\n",
        "print(color_list[0])\n",
        "print(color_list[len(color_list)-1])"
      ],
      "metadata": {
        "colab": {
          "base_uri": "https://localhost:8080/"
        },
        "id": "Bwbysy-slKRV",
        "outputId": "caac33a0-584b-4493-cf3b-cc16b0a29bda"
      },
      "execution_count": null,
      "outputs": [
        {
          "output_type": "stream",
          "name": "stdout",
          "text": [
            "Red\n",
            "Black\n"
          ]
        }
      ]
    },
    {
      "cell_type": "code",
      "source": [
        "#4. Write a Python program to test whether a number is within 100 of 1000 or 2000\n",
        "n = int(input())\n",
        "if (n >= 900 and n <= 1100) or (n >= 1900 and n <= 2100):\n",
        "  print('yes')\n",
        "else:\n",
        "  print('no')"
      ],
      "metadata": {
        "colab": {
          "base_uri": "https://localhost:8080/"
        },
        "id": "XVI6zPxipUPi",
        "outputId": "dfcc4cf7-7ec4-4e7f-be13-0727ccb6d383"
      },
      "execution_count": null,
      "outputs": [
        {
          "output_type": "stream",
          "name": "stdout",
          "text": [
            "50\n",
            "no\n"
          ]
        }
      ]
    },
    {
      "cell_type": "code",
      "source": [
        "#5. Write a Python program to print all even numbers\n",
        "n = int(input('Until what number do you want the even numbers to be printed: '))\n",
        "for i in range(2,n+1,2):\n",
        "  print(i)"
      ],
      "metadata": {
        "colab": {
          "base_uri": "https://localhost:8080/"
        },
        "id": "va5SlNFwryKW",
        "outputId": "26ce5cf9-88e1-4a8d-88f3-6f16c61c5db8"
      },
      "execution_count": null,
      "outputs": [
        {
          "output_type": "stream",
          "name": "stdout",
          "text": [
            "Until what number do you want the even numbers to be printed 11\n",
            "2\n",
            "4\n",
            "6\n",
            "8\n",
            "10\n"
          ]
        }
      ]
    },
    {
      "cell_type": "code",
      "source": [
        "#6. Write a Python program to get the difference between the two lists\n",
        "l1 = input('Enter list 1  ').split(',')\n",
        "l2 = input('Enter list 2  ').split(',')\n",
        "for i in range(len(l1)):\n",
        "  l1[i] = int(l1[i])\n",
        "for i in range(len(l2)):\n",
        "  l2[i] = int(l2[i])\n",
        "def list_diff(l1,l2):\n",
        "  return (list(set(l1)-set(l2)) + list(set(l2)-set(l1)))\n",
        "print(list_diff(l1,l2))"
      ],
      "metadata": {
        "colab": {
          "base_uri": "https://localhost:8080/"
        },
        "id": "jRZrK9NawPik",
        "outputId": "a7f66ac2-cd53-4df1-f45b-c45e1bc0cdd9"
      },
      "execution_count": 9,
      "outputs": [
        {
          "output_type": "stream",
          "name": "stdout",
          "text": [
            "Enter list 1  1,2,3,4,5,5\n",
            "Enter list 2  1,3,7,8\n",
            "[2, 4, 5, 8, 7]\n"
          ]
        }
      ]
    },
    {
      "cell_type": "code",
      "source": [
        "#7. Write a Python program to find the list in a list of lists whose sum of elements is the highest\n",
        "L = [[1,2,3], [4,5,6], [10,11,12], [7,8,9]]\n",
        "n = len(L)\n",
        "summ = [0]*n\n",
        "for i in range(0,len(L)):\n",
        "  for j in range(0,len(L[i])):\n",
        "    summ[i] = summ[i] + L[i][j]\n",
        "print(L[summ.index(max(summ))])"
      ],
      "metadata": {
        "id": "J-5GkCZGXzWw",
        "colab": {
          "base_uri": "https://localhost:8080/"
        },
        "outputId": "93b4e73b-da26-4a8a-df72-8169dec1b369"
      },
      "execution_count": 21,
      "outputs": [
        {
          "output_type": "stream",
          "name": "stdout",
          "text": [
            "[10, 11, 12]\n"
          ]
        }
      ]
    },
    {
      "cell_type": "code",
      "source": [
        "#8. Write a Python program to round every number of a given list of numbers and print the total sum multiplied by the length of the list\n",
        "L = [22.4, 4.0, -16.22, -9.1, 11.0, -12.22, 14.2, -5.2, 17.5]\n",
        "sum1 = 0\n",
        "for i in range(0,len(L)):\n",
        "  sum1 = sum1 + round(L[i])\n",
        "print(sum1*len(L))"
      ],
      "metadata": {
        "colab": {
          "base_uri": "https://localhost:8080/"
        },
        "id": "hkjtB2pXIAAH",
        "outputId": "1312832c-43d4-4f7f-d31d-c9905bdd4e7a"
      },
      "execution_count": 30,
      "outputs": [
        {
          "output_type": "stream",
          "name": "stdout",
          "text": [
            "243\n"
          ]
        }
      ]
    },
    {
      "cell_type": "code",
      "source": [
        "#9. Write a Python program to remove specific words from a given list\n",
        "L1 = ['red', 'green', 'blue', 'white', 'black', 'orange']\n",
        "L2 = ['white', 'orange']\n",
        "print(list(set(L1)-set(L2)))"
      ],
      "metadata": {
        "colab": {
          "base_uri": "https://localhost:8080/"
        },
        "id": "dlcMAKhCLn3W",
        "outputId": "8b366695-e586-4c87-f3a8-cc10236e4a79"
      },
      "execution_count": 35,
      "outputs": [
        {
          "output_type": "stream",
          "name": "stdout",
          "text": [
            "['blue', 'green', 'black', 'red']\n"
          ]
        }
      ]
    },
    {
      "cell_type": "code",
      "source": [
        "#10. Write a Python script to concatenate following dictionaries to create a new one\n",
        "dic1={1:10, 2:20}\n",
        "dic2={3:30, 4:40}\n",
        "dic3={5:50, 6:60}\n",
        "dic = dic1\n",
        "dic.update(dic2)\n",
        "dic.update(dic3)\n",
        "print(dic)"
      ],
      "metadata": {
        "colab": {
          "base_uri": "https://localhost:8080/"
        },
        "id": "hupF7w8EOFWx",
        "outputId": "5f8de0d3-8185-4b5d-ab02-98f5c673d03c"
      },
      "execution_count": 41,
      "outputs": [
        {
          "output_type": "stream",
          "name": "stdout",
          "text": [
            "{1: 10, 2: 20, 3: 30, 4: 40, 5: 50, 6: 60}\n"
          ]
        }
      ]
    },
    {
      "cell_type": "code",
      "source": [
        "#11. Write a Python program to multiply all the items in a dictionary\n",
        "dic = {1:10, 2:20, 3:30, 4:40, 5:50, 6:60}\n",
        "pdt_values = 1\n",
        "pdt_keys = 1\n",
        "pdt_all = 1\n",
        "for i in dic:\n",
        "  pdt_values = pdt_values*dic[i]\n",
        "  pdt_keys = pdt_keys*i\n",
        "  pdt_all = pdt_all*i*dic[i]\n",
        "print('product of values = ',pdt_values)\n",
        "print('product of keys = ',pdt_keys)\n",
        "print('product of both = ',pdt_values*pdt_keys)"
      ],
      "metadata": {
        "colab": {
          "base_uri": "https://localhost:8080/"
        },
        "id": "E-2VPj-tOXeL",
        "outputId": "d800d575-e1d3-4619-9d61-937cafd2a5e6"
      },
      "execution_count": 17,
      "outputs": [
        {
          "output_type": "stream",
          "name": "stdout",
          "text": [
            "product of values =  720000000\n",
            "product of keys =  720\n",
            "product of both =  518400000000\n"
          ]
        }
      ]
    },
    {
      "cell_type": "code",
      "source": [
        "#12. Write a Python program to get the 4th element and 4th element from last of a tuple\n",
        "tup = (1,2,3,4,5,6,7,8,9,10)\n",
        "print('4th element is ',tup[3])\n",
        "print('4th element from last is ',tup[len(tup)-4])"
      ],
      "metadata": {
        "colab": {
          "base_uri": "https://localhost:8080/"
        },
        "id": "jP4AFKpAR-Tr",
        "outputId": "ec8b4615-ffd0-4a8b-c812-e0c9e8d0aa7b"
      },
      "execution_count": 22,
      "outputs": [
        {
          "output_type": "stream",
          "name": "stdout",
          "text": [
            "4th element is  4\n",
            "4th element from last is  7\n"
          ]
        }
      ]
    },
    {
      "cell_type": "code",
      "source": [
        "#13.  Write a Python program to convert a tuple to a dictionary\n",
        "di = {}\n",
        "def tup2dict(t):\n",
        "\tdi = dict(t)\n",
        "\treturn di\n",
        "\n",
        "tup = [(1, 10), (2, 20), (3, 30),\n",
        "\t(4, 40), (5, 50), (6, 60)]\n",
        "print (tup2dict(tup))\n"
      ],
      "metadata": {
        "colab": {
          "base_uri": "https://localhost:8080/"
        },
        "id": "-Uqtl22QxwjY",
        "outputId": "522136ef-59b9-4a55-8244-1d53ee6085b3"
      },
      "execution_count": 32,
      "outputs": [
        {
          "output_type": "stream",
          "name": "stdout",
          "text": [
            "{1: 10, 2: 20, 3: 30, 4: 40, 5: 50, 6: 60}\n"
          ]
        }
      ]
    },
    {
      "cell_type": "code",
      "source": [
        "#14. Write a Python program to remove all elements from a given set\n",
        "se = {1,2,3,4,5}\n",
        "se.clear()\n",
        "print(se)"
      ],
      "metadata": {
        "colab": {
          "base_uri": "https://localhost:8080/"
        },
        "id": "not5TRE5ydV1",
        "outputId": "b908d9f1-4757-4d1c-81fd-d7c31e382ea4"
      },
      "execution_count": 35,
      "outputs": [
        {
          "output_type": "stream",
          "name": "stdout",
          "text": [
            "set()\n"
          ]
        }
      ]
    },
    {
      "cell_type": "code",
      "source": [
        "#15. Write a Python program to check if a given set is superset of itself and superset of another given set\n",
        "set1 = {1,2,3,4,5,6,7,8,9,10}\n",
        "set2 = {1,2,3}\n",
        "print('Is set 1 a subset of set 2: ',(set1.issubset(set2)))\n",
        "print('Is set 1 a superset of set 2: ',(set1.issuperset(set2)))"
      ],
      "metadata": {
        "colab": {
          "base_uri": "https://localhost:8080/"
        },
        "id": "8YhTgmzP3NCq",
        "outputId": "40a1741a-dc6d-44fc-a87a-a5d52e67e8bf"
      },
      "execution_count": 38,
      "outputs": [
        {
          "output_type": "stream",
          "name": "stdout",
          "text": [
            "Is set 1 a subset of set 2:  False\n",
            "Is set 1 a superset of set 2:  True\n"
          ]
        }
      ]
    },
    {
      "cell_type": "code",
      "source": [
        ""
      ],
      "metadata": {
        "id": "ImKxgkCO3pIk"
      },
      "execution_count": null,
      "outputs": []
    }
  ]
}