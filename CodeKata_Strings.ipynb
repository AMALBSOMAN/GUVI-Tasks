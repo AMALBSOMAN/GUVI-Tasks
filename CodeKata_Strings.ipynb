{
  "nbformat": 4,
  "nbformat_minor": 0,
  "metadata": {
    "colab": {
      "provenance": [],
      "collapsed_sections": [],
      "authorship_tag": "ABX9TyON0NgiLh6cXKTbXE1lFyaA",
      "include_colab_link": true
    },
    "kernelspec": {
      "name": "python3",
      "display_name": "Python 3"
    },
    "language_info": {
      "name": "python"
    }
  },
  "cells": [
    {
      "cell_type": "markdown",
      "metadata": {
        "id": "view-in-github",
        "colab_type": "text"
      },
      "source": [
        "<a href=\"https://colab.research.google.com/github/AMALBSOMAN/GUVI-Tasks/blob/main/CodeKata_Strings.ipynb\" target=\"_parent\"><img src=\"https://colab.research.google.com/assets/colab-badge.svg\" alt=\"Open In Colab\"/></a>"
      ]
    },
    {
      "cell_type": "code",
      "source": [
        "#3. Print consonants\n",
        "inpsent = input()\n",
        "outsent = []\n",
        "vowels = ['a','e','i','o','u','A','E','I','O','U']\n",
        "for i in inpsent:\n",
        "    if i not in vowels:\n",
        "        outsent.append(i)\n",
        "if len(outsent)==0:\n",
        "    print(-1)\n",
        "else:\n",
        "    print(*outsent,sep=\"\")"
      ],
      "metadata": {
        "colab": {
          "base_uri": "https://localhost:8080/"
        },
        "id": "h5_yqcxIns-q",
        "outputId": "3b5c3b74-9f0d-40f7-a75d-1a64f4e17dda"
      },
      "execution_count": null,
      "outputs": [
        {
          "output_type": "stream",
          "name": "stdout",
          "text": [
            "I am shrey\n",
            " m shry\n"
          ]
        }
      ]
    },
    {
      "cell_type": "code",
      "source": [
        "#4. you are given a string made up of parenthesis only.Your task is to check \n",
        "#whether parenthesis are balanced or not.If they are balanced print 1 else print 0\n",
        "inp = input()\n",
        "if inp.count('(')==inp.count(')') and inp.count('{')==inp.count('}') and inp.count('[')==inp.count(']'):\n",
        "    print(1)\n",
        "else:\n",
        "    print(0)"
      ],
      "metadata": {
        "id": "lFjtrucwns6i",
        "colab": {
          "base_uri": "https://localhost:8080/"
        },
        "outputId": "676dcb7f-cce4-450f-d8cf-1aeaa8e9a349"
      },
      "execution_count": null,
      "outputs": [
        {
          "output_type": "stream",
          "name": "stdout",
          "text": [
            "{(})\n",
            "1\n"
          ]
        }
      ]
    },
    {
      "cell_type": "code",
      "source": [
        "#6. Engine no is sum of all the integers present on car’s Number plate.\n",
        "vehNum = input()\n",
        "engNum = 0\n",
        "for i in vehNum:\n",
        "    try:\n",
        "      engNum = engNum + int(i)\n",
        "    except:\n",
        "      continue\n",
        "print(engNum)"
      ],
      "metadata": {
        "id": "jqhvz-gynsec",
        "colab": {
          "base_uri": "https://localhost:8080/"
        },
        "outputId": "23f351ae-447c-415c-db01-e687c8d945c0"
      },
      "execution_count": null,
      "outputs": [
        {
          "output_type": "stream",
          "name": "stdout",
          "text": [
            "HR05-AA-2669\n",
            "28\n"
          ]
        }
      ]
    },
    {
      "cell_type": "code",
      "source": [
        "#7. delete all the repeating characters and print the result left\n",
        "word = input()\n",
        "outword = []\n",
        "for i in word:\n",
        "  if word.count(i) == 1:\n",
        "    outword.append(i)\n",
        "print(*outword,sep=\"\")"
      ],
      "metadata": {
        "colab": {
          "base_uri": "https://localhost:8080/"
        },
        "id": "offS93wMwFPT",
        "outputId": "67828a7a-a37f-4688-977d-3386aada29a4"
      },
      "execution_count": null,
      "outputs": [
        {
          "output_type": "stream",
          "name": "stdout",
          "text": [
            "missibis;\n",
            "mb;\n"
          ]
        }
      ]
    },
    {
      "cell_type": "code",
      "source": [
        "#8. You are given a number with duplicate digits your task is to remove the\n",
        "# immediate duplicate digits and print the result\n",
        "num = input()\n",
        "out = []\n",
        "for i in num:\n",
        "  out.append(i)\n",
        "for i in range(len(out)-1):\n",
        "  if out[i] == out[i+1]:\n",
        "    out[i] == ''\n",
        "    out[i+1] == ''\n",
        "    print(out)\n",
        "\n",
        "print(*out,sep='')"
      ],
      "metadata": {
        "colab": {
          "base_uri": "https://localhost:8080/"
        },
        "id": "oEef8Ib4mSSL",
        "outputId": "5af7e58c-02b2-4c25-abb7-a275891d5ab0"
      },
      "execution_count": null,
      "outputs": [
        {
          "output_type": "stream",
          "name": "stdout",
          "text": [
            "1441\n",
            "['1', '4', '4', '1']\n",
            "1441\n"
          ]
        }
      ]
    },
    {
      "cell_type": "code",
      "execution_count": null,
      "metadata": {
        "colab": {
          "base_uri": "https://localhost:8080/"
        },
        "id": "JVcwkT1u1CG_",
        "outputId": "adb35673-80d8-4d16-baad-564a87ec05c9"
      },
      "outputs": [
        {
          "output_type": "stream",
          "name": "stdout",
          "text": [
            "rtfg\n",
            "no\n"
          ]
        }
      ],
      "source": [
        "#9. Check for vowel in a word\n",
        "def isvowel(a):\n",
        "  vowels = {'a','e','i','o','u'}\n",
        "  alp = {a}\n",
        "  if alp.issubset(vowels):\n",
        "    return 1\n",
        "  else: return 0\n",
        "\n",
        "st = input()\n",
        "flag = 0\n",
        "for i in st:\n",
        "  flag = flag + isvowel(i)\n",
        "if flag == 0: print('no')\n",
        "else: print('yes')"
      ]
    },
    {
      "cell_type": "code",
      "source": [
        "#10. Sort words in phrase\n",
        "n = int(input())\n",
        "phr = input().split(' ')\n",
        "phr.sort()\n",
        "print(*phr)"
      ],
      "metadata": {
        "colab": {
          "base_uri": "https://localhost:8080/"
        },
        "id": "dVLzZQWC11c_",
        "outputId": "cdded026-1b6c-477d-83d0-155172cfdce1"
      },
      "execution_count": null,
      "outputs": [
        {
          "output_type": "stream",
          "name": "stdout",
          "text": [
            "3\n",
            "waters water wateaver\n",
            "wateaver water waters\n"
          ]
        }
      ]
    },
    {
      "cell_type": "code",
      "source": [
        "#11. print word after article\n",
        "def isarticle(word):\n",
        "  articles = {'a','an','the', 'The', 'A', 'An'}\n",
        "  wordset = {word}\n",
        "  if wordset.issubset(articles):\n",
        "    return 1\n",
        "  else: return 0\n",
        "\n",
        "sentence = input().split(' ')\n",
        "output = []\n",
        "count = 0\n",
        "for i in range(0,len(sentence)):\n",
        "  if isarticle(sentence[i]) == 1:\n",
        "    count = count + 1\n",
        "    output.append(sentence[i+1])\n",
        "if count >= 1:\n",
        "  print(*output)\n",
        "else: print(-1)"
      ],
      "metadata": {
        "colab": {
          "base_uri": "https://localhost:8080/"
        },
        "id": "mmW2LyxWdY9q",
        "outputId": "9b3869d2-3c7d-4b08-dd00-a62914398a2f"
      },
      "execution_count": null,
      "outputs": [
        {
          "output_type": "stream",
          "name": "stdout",
          "text": [
            "The sun rises in the east\n",
            "sun east\n"
          ]
        }
      ]
    },
    {
      "cell_type": "code",
      "source": [
        "#12. True word or not\n",
        "def asciisum(word):\n",
        "  vowels = {'a','e','i','o','u'}\n",
        "  sum = 0\n",
        "  for i in word:\n",
        "    alp = {i}\n",
        "    if alp.issubset(vowels):\n",
        "      sum = sum + ord(i)\n",
        "    else: sum = sum\n",
        "  return sum\n",
        "\n",
        "word = input()\n",
        "if asciisum(word)%8 == 0:\n",
        "  print(1)\n",
        "else: print(0)"
      ],
      "metadata": {
        "colab": {
          "base_uri": "https://localhost:8080/"
        },
        "id": "gKh2UCgfkDrO",
        "outputId": "8f692c83-1cae-4b09-880d-a49114e37e3c"
      },
      "execution_count": null,
      "outputs": [
        {
          "output_type": "stream",
          "name": "stdout",
          "text": [
            "amal\n",
            "0\n"
          ]
        }
      ]
    },
    {
      "cell_type": "code",
      "source": [
        "#13. Largest integer in string\n",
        "punctuations = '''!()-[]{};:'\"\\,<>./?@#$%^&*_~'''\n",
        "inp_str = input()\n",
        "no_punc = \"\"\n",
        "for char in inp_str:\n",
        "   if char not in punctuations:\n",
        "       no_punc = no_punc + char\n",
        "\n",
        "sent = no_punc.split(' ')\n",
        "lis = []\n",
        "for i in sent:\n",
        "  try:\n",
        "    inte = int(i)\n",
        "    lis.append(inte)\n",
        "  except:\n",
        "    ValueError\n",
        "    pass\n",
        "print(max(lis))"
      ],
      "metadata": {
        "colab": {
          "base_uri": "https://localhost:8080/"
        },
        "id": "FVotl3MA7Jny",
        "outputId": "5e37e93a-713b-41b7-9a69-c653ba654031"
      },
      "execution_count": null,
      "outputs": [
        {
          "output_type": "stream",
          "name": "stdout",
          "text": [
            " I was born on 12 october 1998.\n",
            "1998\n"
          ]
        }
      ]
    },
    {
      "cell_type": "code",
      "source": [
        "#14. You are given a string ‘s’.Your task is to print the\n",
        "# string in the order they are present and then sum of digits\n",
        "inpstr = input()\n",
        "inplist = [i for i in inpstr]\n",
        "nums = ['0','1','2','3','4','5','6','7','8','9']\n",
        "sum = 0\n",
        "outlist = []\n",
        "for i in inplist:\n",
        "    if i in nums:\n",
        "        sum = sum+int(i)\n",
        "    else:\n",
        "        outlist.append(i)\n",
        "outlist.append(sum)\n",
        "print(*outlist,sep='')"
      ],
      "metadata": {
        "colab": {
          "base_uri": "https://localhost:8080/"
        },
        "id": "zFnz-ZSswzZC",
        "outputId": "13eff7e1-5c83-4395-c847-1b7a1dce424e"
      },
      "execution_count": null,
      "outputs": [
        {
          "output_type": "stream",
          "name": "stdout",
          "text": [
            "AC30BD40\n",
            "ACBD7\n"
          ]
        }
      ]
    },
    {
      "cell_type": "code",
      "source": [
        "#15. Given a string S, print it after changing the middle element to *\n",
        "l = list(input())\n",
        "if len(l)%2==0:\n",
        "  l[int(len(l)/2)-1] = '*'\n",
        "  l[int(len(l)/2)] = '*'\n",
        "else:\n",
        "  l[int(len(l)//2)] = '*'\n",
        "print(*l,sep=\"\")"
      ],
      "metadata": {
        "id": "QCvK0DbaDvSi",
        "colab": {
          "base_uri": "https://localhost:8080/"
        },
        "outputId": "c612a94c-fae8-4dcf-99d2-4d52733fc883"
      },
      "execution_count": null,
      "outputs": [
        {
          "output_type": "stream",
          "name": "stdout",
          "text": [
            "hours\n",
            "ho*rs\n"
          ]
        }
      ]
    },
    {
      "cell_type": "code",
      "source": [
        "#16. Print 1 if String is palindrome or 0 if not\n",
        "l = list(input())\n",
        "flag = 0\n",
        "for i in range(len(l)//2):\n",
        "  if l[i]!=l[len(l)-i-1]:\n",
        "    flag += 1\n",
        "if flag == 0:\n",
        "  print(1)\n",
        "else:\n",
        "  print(0)"
      ],
      "metadata": {
        "colab": {
          "base_uri": "https://localhost:8080/"
        },
        "id": "Km2FbvH_NAbc",
        "outputId": "3efedc18-f8f2-46b0-e0a4-428a434ef03a"
      },
      "execution_count": null,
      "outputs": [
        {
          "output_type": "stream",
          "name": "stdout",
          "text": [
            "niti\n",
            "0\n"
          ]
        }
      ]
    },
    {
      "cell_type": "code",
      "source": [
        "#18. reverse the string\n",
        "inp = input()\n",
        "revInp = inp[::-1]\n",
        "print(revInp.capitalize())"
      ],
      "metadata": {
        "id": "BeMQLi4UQVcT",
        "colab": {
          "base_uri": "https://localhost:8080/"
        },
        "outputId": "c1d17c9e-f629-4b6e-d001-e04eb35157e4"
      },
      "execution_count": null,
      "outputs": [
        {
          "output_type": "stream",
          "name": "stdout",
          "text": [
            "amal\n",
            "Lama\n"
          ]
        }
      ]
    },
    {
      "cell_type": "code",
      "source": [
        "#19. Check if PAN or not\n",
        "chPan = input()\n",
        "import re\n",
        "regex = '[A-Z]{5}[1-9]{4}[A-Z]{1}'\n",
        "if re.fullmatch(regex, chPan) and len(chPan) == 10:\n",
        "  print('pan')\n",
        "else:\n",
        "  print('not pan')"
      ],
      "metadata": {
        "id": "kSrxnkWexOH3",
        "colab": {
          "base_uri": "https://localhost:8080/"
        },
        "outputId": "f8c8df3e-df79-4613-c69b-c2fc79c070d2"
      },
      "execution_count": null,
      "outputs": [
        {
          "output_type": "stream",
          "name": "stdout",
          "text": [
            "AXLPS8067K\n",
            "not pan\n"
          ]
        }
      ]
    },
    {
      "cell_type": "code",
      "source": [
        "#20. Remove duplicate words\n",
        "inpSent = list(input().split())\n",
        "should_start = True\n",
        "while should_start:\n",
        "  should_start = False\n",
        "  for i,e in enumerate(inpSent):\n",
        "    if inpSent[i] == inpSent[i-1]:\n",
        "        inpSent.remove(e)\n",
        "        inpSent.remove(e)\n",
        "        should_start = True\n",
        "if len(inpSent) > 0:\n",
        "  print(*inpSent,sep=\" \")\n",
        "else:\n",
        "  print(-1)"
      ],
      "metadata": {
        "colab": {
          "base_uri": "https://localhost:8080/"
        },
        "id": "8HrGErcO6q86",
        "outputId": "6f34f101-89c2-47ff-b76d-a383a0c0be8d"
      },
      "execution_count": null,
      "outputs": [
        {
          "output_type": "stream",
          "name": "stdout",
          "text": [
            "I am john cena cena john\n",
            "I am\n"
          ]
        }
      ]
    },
    {
      "cell_type": "code",
      "source": [
        "#21. Given a string S, print 'yes' if it is a palindrome or 'no' if it is not a palindrome\n",
        "class Myclass:\n",
        "    def isPal(word):\n",
        "        flag = 1\n",
        "        for i,e in enumerate(word):\n",
        "            if word[i] != word[-i-1]:\n",
        "                flag = 0\n",
        "                break\n",
        "        if flag == 1:\n",
        "          return 'yes'\n",
        "        else:\n",
        "          return 'no'\n",
        "word = input()\n",
        "print(Myclass.isPal(word))"
      ],
      "metadata": {
        "id": "_IRwnLBk67yR",
        "colab": {
          "base_uri": "https://localhost:8080/"
        },
        "outputId": "ca7aa212-8f82-4fbe-ff7c-5099b094a82a"
      },
      "execution_count": null,
      "outputs": [
        {
          "output_type": "stream",
          "name": "stdout",
          "text": [
            "amal\n",
            "no\n"
          ]
        }
      ]
    },
    {
      "cell_type": "code",
      "source": [
        "#22. You are given a string ‘s’. Your task is to tell whether string is beautiful or not\n",
        "word = input()\n",
        "if (word[0] in ['a','A']):\n",
        "  if (word[int((len(word)+1)/2)-1] in ['m','M']):\n",
        "    if (word[len(word)-1] in ['z','Z']):\n",
        "      print(1)\n",
        "    else:\n",
        "      print(0)\n",
        "  else:\n",
        "    print(0)\n",
        "else:\n",
        "    print(0)"
      ],
      "metadata": {
        "colab": {
          "base_uri": "https://localhost:8080/"
        },
        "id": "ZhD7j07plxzY",
        "outputId": "66e68ddf-ac86-4b30-9813-87529bc276db"
      },
      "execution_count": null,
      "outputs": [
        {
          "output_type": "stream",
          "name": "stdout",
          "text": [
            "Amz\n",
            "A m z\n",
            "1\n"
          ]
        }
      ]
    },
    {
      "cell_type": "code",
      "source": [
        "#23. All the three characters must be distinct. Print 1 if string is beautiful and 0 when it is not beautiful\n",
        "word = input()\n",
        "if len(word)==3 and word.count(word[0])==1 and word.count(word[1])==1:\n",
        "  print(1)\n",
        "else:\n",
        "  print(0)"
      ],
      "metadata": {
        "colab": {
          "base_uri": "https://localhost:8080/"
        },
        "id": "BNYLYKAEozA_",
        "outputId": "ad51a052-6a3f-4ab7-d8ac-68973d07e3a7"
      },
      "execution_count": null,
      "outputs": [
        {
          "output_type": "stream",
          "name": "stdout",
          "text": [
            "Aab\n",
            "1\n"
          ]
        }
      ]
    },
    {
      "cell_type": "code",
      "source": [
        "#24. Write a program to get a string S, Type of conversion (1 - Convert to Lowercase,\n",
        "# 2 - Convert to Uppercase) T, and integer P .\n",
        "# Convert the case of the letters in the positions which are multiples of P.(1 based indexing).\n",
        "word = input()\n",
        "wordlist = [i for i in word]\n",
        "n = int(input())\n",
        "p = int(input())\n",
        "times = int(len(word)//p)\n",
        "for i in range(1,times+1):\n",
        "    if n == 1:\n",
        "        wordlist[i*p-1] = wordlist[i*p-1].lower()\n",
        "    else:\n",
        "        wordlist[i*p-1] = wordlist[i*p-1].upper()\n",
        "print(*wordlist,sep='')"
      ],
      "metadata": {
        "colab": {
          "base_uri": "https://localhost:8080/"
        },
        "id": "EktleUNC0kv2",
        "outputId": "9d310269-4ee5-41fd-83fa-2ab240629006"
      },
      "execution_count": null,
      "outputs": [
        {
          "output_type": "stream",
          "name": "stdout",
          "text": [
            "GuViGEek\n",
            "1\n",
            "3\n",
            "GuviGeek\n"
          ]
        }
      ]
    },
    {
      "cell_type": "code",
      "source": [
        "#25. Given a sentence and string S, find how many times S occurs in the given sentence.\n",
        "#If S is not found in the sentence print -1\n",
        "sentlist = list(input().split())\n",
        "word = input()\n",
        "if word in sentlist:\n",
        "    print(sentlist.count(word))\n",
        "else:\n",
        "    print(-1)"
      ],
      "metadata": {
        "id": "3aFwRhU4twCr",
        "colab": {
          "base_uri": "https://localhost:8080/"
        },
        "outputId": "9f255f1a-f3a0-4871-ba0d-de54d782be56"
      },
      "execution_count": null,
      "outputs": [
        {
          "output_type": "stream",
          "name": "stdout",
          "text": [
            "ghos g\n",
            "hg\n",
            "-1\n"
          ]
        }
      ]
    },
    {
      "cell_type": "code",
      "source": [
        "#26. sort words\n",
        "inplist = list(input().split())\n",
        "inplist.sort()\n",
        "print(*inplist)"
      ],
      "metadata": {
        "colab": {
          "base_uri": "https://localhost:8080/"
        },
        "id": "V6pfUJqd6G7-",
        "outputId": "eaef7eb9-613f-4d04-a326-a92129635583"
      },
      "execution_count": null,
      "outputs": [
        {
          "output_type": "stream",
          "name": "stdout",
          "text": [
            "virat kohli\n",
            "kohli virat\n"
          ]
        }
      ]
    },
    {
      "cell_type": "code",
      "source": [
        "#27 Guvi developed a new system to make sure no two usernames are same.\n",
        "# So, they hired you as a developer to develop this system. They have set some rules to do the same.\n",
        "#If you see the same username that already exists,\n",
        "# just add a number at the end of that username ,else print \"Verified\".\n",
        "n = int(input())\n",
        "nameslist = list(input().split())\n",
        "templist = []\n",
        "outlist = []\n",
        "for i in nameslist:\n",
        "    if i in templist:\n",
        "        outlist.append(i+'1')\n",
        "        templist.append(i+'1')\n",
        "    else:\n",
        "        outlist.append('Verified')\n",
        "        templist.append(i)\n",
        "print(*outlist)"
      ],
      "metadata": {
        "colab": {
          "base_uri": "https://localhost:8080/"
        },
        "id": "j6ca0jE26G0C",
        "outputId": "ec38185d-9170-4cb5-af4c-a98a7b7a7020"
      },
      "execution_count": null,
      "outputs": [
        {
          "output_type": "stream",
          "name": "stdout",
          "text": [
            "4\n",
            "abc aab abc aba\n",
            "Verified Verified abc1 Verified\n"
          ]
        }
      ]
    },
    {
      "cell_type": "code",
      "source": [
        "#28. You are given a string ‘s’.Print all the duplicate characters of string\n",
        "inplett = input()\n",
        "outlett = []\n",
        "for i in inplett:\n",
        "    if inplett.count(i) > 1 and i not in outlett:\n",
        "        outlett.append(i)\n",
        "if len(outlett)>0:\n",
        "    print(*outlett)\n",
        "else:\n",
        "    print(-1)"
      ],
      "metadata": {
        "colab": {
          "base_uri": "https://localhost:8080/"
        },
        "id": "DFblrcDj67nN",
        "outputId": "e8a9e3bd-fee0-42bd-e517-99639b4d3495"
      },
      "execution_count": null,
      "outputs": [
        {
          "output_type": "stream",
          "name": "stdout",
          "text": [
            "aabcdee\n",
            "a e\n"
          ]
        }
      ]
    },
    {
      "cell_type": "code",
      "source": [
        "#29. Find the first non repeating character \n",
        "word = input()\n",
        "flag = 0\n",
        "for i in word:\n",
        "    if word.count(i) == 1:\n",
        "        print(i)\n",
        "        flag = 1\n",
        "        break\n",
        "if flag == 0:\n",
        "    print(-1)"
      ],
      "metadata": {
        "id": "VUd6sCQ38FOA"
      },
      "execution_count": null,
      "outputs": []
    },
    {
      "cell_type": "code",
      "source": [
        "#30. A pair of strings is said to be str set if one string is substring of other\n",
        "str1,str2 = input().split()\n",
        "set1 = set(str1)\n",
        "set2 = set(str2)\n",
        "if set1.issubset(set2) or set2.issubset(set1):\n",
        "    print('Yes')\n",
        "else:\n",
        "    print('No')"
      ],
      "metadata": {
        "colab": {
          "base_uri": "https://localhost:8080/"
        },
        "id": "fnE7QO8nhMq-",
        "outputId": "22d65b33-e162-40fd-880f-fad07a722926"
      },
      "execution_count": null,
      "outputs": [
        {
          "output_type": "stream",
          "name": "stdout",
          "text": [
            "abc ab\n",
            "Yes\n"
          ]
        }
      ]
    },
    {
      "cell_type": "code",
      "source": [
        "#31. Your task is to print the characters which are not repeated with a single space in between the characters\n",
        "inpword = input()\n",
        "outword = []\n",
        "for i in inpword:\n",
        "    if inpword.count(i) == 1:\n",
        "        outword.append(i)\n",
        "print(*outword,sep=\" \")"
      ],
      "metadata": {
        "id": "FgRjAsIyiKeX",
        "colab": {
          "base_uri": "https://localhost:8080/"
        },
        "outputId": "945609b8-25ae-4092-b2b6-268e84a9dc20"
      },
      "execution_count": null,
      "outputs": [
        {
          "output_type": "stream",
          "name": "stdout",
          "text": [
            "dabbc\n",
            "d a c\n"
          ]
        }
      ]
    },
    {
      "cell_type": "code",
      "source": [
        "#32. A weight of character is defined as the ASCII value of corresponding character\n",
        "inpword = input()\n",
        "sum = 0\n",
        "for i in inpword:\n",
        "    sum += ord(i)\n",
        "print(sum)"
      ],
      "metadata": {
        "colab": {
          "base_uri": "https://localhost:8080/"
        },
        "id": "JtAoCUQTKEpn",
        "outputId": "0392c63f-da6f-4ea7-b466-fe66b51c32c4"
      },
      "execution_count": null,
      "outputs": [
        {
          "output_type": "stream",
          "name": "stdout",
          "text": [
            "abc\n",
            "294\n"
          ]
        }
      ]
    },
    {
      "cell_type": "code",
      "source": [
        "#33. Given a string S, print the reverse of the string\n",
        "inpword = input()\n",
        "print(inpword[::-1])"
      ],
      "metadata": {
        "colab": {
          "base_uri": "https://localhost:8080/"
        },
        "id": "-d_7yhgMKzGo",
        "outputId": "cc2d08ac-bec5-47d8-a3b0-fb18759e01c8"
      },
      "execution_count": null,
      "outputs": [
        {
          "output_type": "stream",
          "name": "stdout",
          "text": [
            "amal\n",
            "lama\n"
          ]
        }
      ]
    },
    {
      "cell_type": "code",
      "source": [
        "#35. Given a string S, find its length(including the spaces)without using any pre-defined functions\n",
        "inpword = input()\n",
        "j = 0\n",
        "for i in inpword:\n",
        "    j += 1\n",
        "print(j)"
      ],
      "metadata": {
        "id": "6_4-Z-7QLSeJ",
        "colab": {
          "base_uri": "https://localhost:8080/"
        },
        "outputId": "ed1844b5-f87d-4140-abdf-8c5e0a836b10"
      },
      "execution_count": null,
      "outputs": [
        {
          "output_type": "stream",
          "name": "stdout",
          "text": [
            "GUVI IVI\n",
            "8\n"
          ]
        }
      ]
    },
    {
      "cell_type": "code",
      "source": [
        "#36. You are given a string ‘s’.Your task is to print the string in alternate lowercase and uppercase order\n",
        "inplist = list(input().split())\n",
        "outlist = []\n",
        "for i,e in enumerate(inplist):\n",
        "  if i%2==0:\n",
        "    outlist.append(e.upper())\n",
        "  else:\n",
        "    outlist.append(e.lower())\n",
        "print(*outlist)"
      ],
      "metadata": {
        "colab": {
          "base_uri": "https://localhost:8080/"
        },
        "id": "5bBlZ8Fv3lUW",
        "outputId": "e68dfdbd-23c5-4505-d409-d962b6c79496"
      },
      "execution_count": null,
      "outputs": [
        {
          "output_type": "stream",
          "name": "stdout",
          "text": [
            "abcd efgh ijkl\n",
            "ABCD efgh IJKL\n"
          ]
        }
      ]
    },
    {
      "cell_type": "code",
      "source": [
        "#37. Your task is to tell whether the pair of strings is panagram\n",
        "def isPal(word):\n",
        "  count = 0\n",
        "  for i,e in enumerate(word):\n",
        "    if word[i] == word[-i-1]:\n",
        "      count += 1\n",
        "  if count == len(word):\n",
        "    return True\n",
        "  else:\n",
        "    return False\n",
        "\n",
        "def isAna(word1,word2):\n",
        "  count = 0\n",
        "  if len(word1) == len(word2):\n",
        "    for i in word1:\n",
        "      if word1.count(i) == word2.count(i):\n",
        "        count += 1\n",
        "    if count == len(word1):\n",
        "      return True\n",
        "    else:\n",
        "      return False\n",
        "  else:\n",
        "    return False\n",
        "word1, word2 = input().split()\n",
        "if isPal(word1)==True and isPal(word2)==True and isAna(word1,word2)==True:\n",
        "  print(1)\n",
        "else:\n",
        "  print(0)"
      ],
      "metadata": {
        "colab": {
          "base_uri": "https://localhost:8080/"
        },
        "id": "piVb5o5b4gin",
        "outputId": "1ae6fe8d-f074-4790-f23d-10df530528fe"
      },
      "execution_count": null,
      "outputs": [
        {
          "output_type": "stream",
          "name": "stdout",
          "text": [
            "nitin intnin\n",
            "0\n"
          ]
        }
      ]
    },
    {
      "cell_type": "code",
      "source": [
        "#38. Given 2 strings S1 and s2, check whether they are case senitively equal without\n",
        "# using any predefined function(case sensitive).If they are not same print 'no'\n",
        "inp1,inp2 = input().split()\n",
        "if inp1 == inp2:\n",
        "    print('yes')\n",
        "else:\n",
        "    print('no')"
      ],
      "metadata": {
        "colab": {
          "base_uri": "https://localhost:8080/"
        },
        "id": "s9lb_5A0SoC3",
        "outputId": "d894a50c-5cdc-484e-abca-6025032db2b4"
      },
      "execution_count": null,
      "outputs": [
        {
          "output_type": "stream",
          "name": "stdout",
          "text": [
            "GUVI GUVI\n",
            "yes\n"
          ]
        }
      ]
    },
    {
      "cell_type": "code",
      "source": [
        "#39. Given a string S.Validate if a given string is numeric.print 'yes' if it is a numeric otherwise print 'no'\n",
        "inp = input()\n",
        "if inp.isnumeric() == True:\n",
        "    print('yes')\n",
        "else:\n",
        "    print('no')"
      ],
      "metadata": {
        "id": "2p9ZXm4F8X7C",
        "colab": {
          "base_uri": "https://localhost:8080/"
        },
        "outputId": "33b1c900-391c-4788-9e8e-b5fae0de7f00"
      },
      "execution_count": null,
      "outputs": [
        {
          "output_type": "stream",
          "name": "stdout",
          "text": [
            "glss\n",
            "no\n"
          ]
        }
      ]
    },
    {
      "cell_type": "code",
      "source": [
        "#40. Given a number ‘n’, your task is to  generate all n-bit grey code sequences,\n",
        "# “a grey code sequence is a sequence such that successive patterns in it differ by one bit”\n",
        "from sympy.combinatorics import GrayCode\n",
        "n = int(input())\n",
        "a = GrayCode(n)\n",
        "outlist = []\n",
        "graylist = list(a.generate_gray())\n",
        "print(*graylist)"
      ],
      "metadata": {
        "id": "nj8GWzb3Q9bI",
        "colab": {
          "base_uri": "https://localhost:8080/"
        },
        "outputId": "52053600-30a5-4318-abb5-a9f47529e389"
      },
      "execution_count": null,
      "outputs": [
        {
          "output_type": "stream",
          "name": "stdout",
          "text": [
            "3\n",
            "000 001 011 010 110 111 101 100\n"
          ]
        }
      ]
    },
    {
      "cell_type": "code",
      "source": [
        "#41. Given a string S, print the reverse of the string after removing the vowels.\n",
        "#If the resulting string is empty print '-1'\n",
        "inpword = input()\n",
        "outword = []\n",
        "vowels = ['a','e','i','o','u']\n",
        "for i in inpword:\n",
        "    if i not in vowels:\n",
        "        outword.append(i)\n",
        "outword = outword[::-1]\n",
        "if len(outword) == 0:\n",
        "  print(-1)\n",
        "else:\n",
        "  print(*outword,sep = \"\")"
      ],
      "metadata": {
        "colab": {
          "base_uri": "https://localhost:8080/"
        },
        "id": "RQ8wW0WlWni3",
        "outputId": "56b97fc9-91aa-4b11-fef7-f6a2dc9fe67e"
      },
      "execution_count": null,
      "outputs": [
        {
          "output_type": "stream",
          "name": "stdout",
          "text": [
            "codekata\n",
            "tkdc\n"
          ]
        }
      ]
    },
    {
      "cell_type": "code",
      "source": [
        "#43. Given a day, print 'yes' if it is a holiday otherwise print'no'.Assume that weekend days are holidays\n",
        "holidays = ['saturday','sunday']\n",
        "inpday = input()\n",
        "if inpday in holidays:\n",
        "    print('yes')\n",
        "else:\n",
        "    print('no')"
      ],
      "metadata": {
        "colab": {
          "base_uri": "https://localhost:8080/"
        },
        "id": "xcCrLYlPXgKF",
        "outputId": "a097dd5f-6831-4f6c-c9bf-303d28694e76"
      },
      "execution_count": null,
      "outputs": [
        {
          "output_type": "stream",
          "name": "stdout",
          "text": [
            "sunday\n",
            "yes\n"
          ]
        }
      ]
    },
    {
      "cell_type": "code",
      "source": [
        "#44. Given a number N,check whether it has repeating digits in it\n",
        "#print 'yes' if it has repeating digits otherwise print 'no'\n",
        "inp = input()\n",
        "flag = 0\n",
        "for i in inp:\n",
        "    if inp.count(i) > 1:\n",
        "        flag = 1\n",
        "        break\n",
        "if flag == 0:\n",
        "    print('no')\n",
        "else:\n",
        "    print('yes')"
      ],
      "metadata": {
        "id": "BoRXJujNYjva",
        "colab": {
          "base_uri": "https://localhost:8080/"
        },
        "outputId": "514bb305-a75d-467d-eda3-e8ef4bac76d8"
      },
      "execution_count": null,
      "outputs": [
        {
          "output_type": "stream",
          "name": "stdout",
          "text": [
            "11223\n",
            "no\n"
          ]
        }
      ]
    },
    {
      "cell_type": "code",
      "source": [
        "#45. Your task is to tell which candidate is winner and if there is a tie print the \n",
        "# name of candidate whose come first in lexicographical order\n",
        "inplist = list(input().split())\n",
        "inplist.sort()\n",
        "out = ['test',0]\n",
        "for i in inplist:\n",
        "    if inplist.count(i) > out[1]:\n",
        "        out = [i,inplist.count(i)]\n",
        "print(*out)"
      ],
      "metadata": {
        "colab": {
          "base_uri": "https://localhost:8080/"
        },
        "id": "TUw1OcrHBFMC",
        "outputId": "aac2ddec-4a3c-4e5a-c25d-0ecfea6b74a8"
      },
      "execution_count": null,
      "outputs": [
        {
          "output_type": "stream",
          "name": "stdout",
          "text": [
            "john johnny jackie johnny john jackie jamie jamie john johnny jamie johnny john\n",
            "john 4\n"
          ]
        }
      ]
    },
    {
      "cell_type": "code",
      "source": [
        "#46. Given a string S, print the encoded string by adding 3 to each character(\n",
        "inp = input()\n",
        "out = []\n",
        "for i in inp:\n",
        "  if i == 'x':\n",
        "    out.append('a')\n",
        "  elif i == 'y':\n",
        "    out.append('b')\n",
        "  elif i == 'z':\n",
        "    out.append('c')\n",
        "  elif i == 'X':\n",
        "    out.append('A')\n",
        "  elif i == 'Y':\n",
        "    out.append('B')\n",
        "  elif i == 'Z':\n",
        "    out.append('C')\n",
        "  else:\n",
        "    out.append(chr(ord(i)+3))\n",
        "print(*out,sep=\"\")"
      ],
      "metadata": {
        "colab": {
          "base_uri": "https://localhost:8080/"
        },
        "id": "NbEz-haWCQEg",
        "outputId": "63f48134-d8fb-442d-ed8a-440166cb038a"
      },
      "execution_count": null,
      "outputs": [
        {
          "output_type": "stream",
          "name": "stdout",
          "text": [
            "RADARxyzXYZ\n",
            "UDGDUabcABC\n"
          ]
        }
      ]
    },
    {
      "cell_type": "code",
      "source": [
        "#47 Binary to Octal\n",
        "bin = input()\n",
        "dec = int(bin, 2)\n",
        "octa = oct(dec)\n",
        "print(octa[2:])"
      ],
      "metadata": {
        "colab": {
          "base_uri": "https://localhost:8080/"
        },
        "id": "KcgKr4WBPIfD",
        "outputId": "65b93453-6e07-4268-ee5d-eda75b4d1a5c"
      },
      "execution_count": null,
      "outputs": [
        {
          "output_type": "stream",
          "name": "stdout",
          "text": [
            "1100100\n",
            "144\n"
          ]
        }
      ]
    },
    {
      "cell_type": "code",
      "source": [
        "#48. Given 2 strings.check if the second string is a substring of the first string\n",
        "str1,str2 = input().split()\n",
        "flag = 0\n",
        "for i in range(len(str1)):\n",
        "    for j in range(len(str1)):\n",
        "        if str2 == str1[i:j]:\n",
        "            flag = 1\n",
        "if flag == 1:\n",
        "    print('yes')\n",
        "else:\n",
        "    print('no')"
      ],
      "metadata": {
        "id": "wTiBTpwOD2Xd",
        "colab": {
          "base_uri": "https://localhost:8080/"
        },
        "outputId": "8886349a-51e8-48ef-e521-e4e70f293b5d"
      },
      "execution_count": null,
      "outputs": [
        {
          "output_type": "stream",
          "name": "stdout",
          "text": [
            "codekata code\n",
            "yes\n"
          ]
        }
      ]
    },
    {
      "cell_type": "code",
      "source": [
        "#49. Given a string/sentence remove all the spaces and print the result\n",
        "str1,str2 = input().split()\n",
        "print(*str1,*str2,sep=\"\")"
      ],
      "metadata": {
        "colab": {
          "base_uri": "https://localhost:8080/"
        },
        "id": "zhUnP-cIQlt9",
        "outputId": "9ed03034-0f2e-47b3-f1be-ebabf41354a3"
      },
      "execution_count": null,
      "outputs": [
        {
          "output_type": "stream",
          "name": "stdout",
          "text": [
            "guvi geeks\n",
            "guvigeeks\n"
          ]
        }
      ]
    },
    {
      "cell_type": "code",
      "source": [
        "#50. Given a sentence S take out the extra spaces.If no extra space is present print the same as output\n",
        "strlist = list(input().split())\n",
        "newlist = []\n",
        "for i in strlist:\n",
        "  newlist.append(i)\n",
        "print(*newlist)\n"
      ],
      "metadata": {
        "colab": {
          "base_uri": "https://localhost:8080/"
        },
        "id": "ryh1ewKZRRnd",
        "outputId": "720cd720-5358-4fbf-f6c1-36be7e0870be"
      },
      "execution_count": null,
      "outputs": [
        {
          "output_type": "stream",
          "name": "stdout",
          "text": [
            "amal b  soman\n",
            "amal b soman\n"
          ]
        }
      ]
    },
    {
      "cell_type": "code",
      "source": [
        "#51 Remove the 2nd string from 1st string\n",
        "s = list(input().split())\n",
        "x = input()\n",
        "if x in s:\n",
        "  s.remove(x)\n",
        "print(*s)"
      ],
      "metadata": {
        "id": "C3qVwznhR7Dx",
        "colab": {
          "base_uri": "https://localhost:8080/"
        },
        "outputId": "3c5e9a8a-c5d1-445f-d6e6-9ecf0afc86a0"
      },
      "execution_count": null,
      "outputs": [
        {
          "output_type": "stream",
          "name": "stdout",
          "text": [
            "helo all\n",
            "hi\n",
            "helo all\n"
          ]
        }
      ]
    },
    {
      "cell_type": "code",
      "source": [
        "#52 Given a string S, print 2 strings such that first string containing all \n",
        "#characters in odd position(s) and other containing all characters in even position(s)\n",
        "inp = input()\n",
        "out1 = inp[0::2]\n",
        "out2 = inp[1::2]\n",
        "print(*out1, end = ' ',sep=\"\")\n",
        "print(*out2,sep=\"\")"
      ],
      "metadata": {
        "colab": {
          "base_uri": "https://localhost:8080/"
        },
        "id": "0hw6FhKHPesB",
        "outputId": "9c16cadb-53aa-4ee5-a7eb-ccd268177fd0"
      },
      "execution_count": null,
      "outputs": [
        {
          "output_type": "stream",
          "name": "stdout",
          "text": [
            "XCODE\n",
            "XOE CD\n"
          ]
        }
      ]
    },
    {
      "cell_type": "code",
      "source": [
        "#53. Given a number N, find the number of ones in its binary representation.\n",
        "mylist = []\n",
        "def DecToBin(num):\n",
        "  if num > 1:\n",
        "    DecToBin(num//2)\n",
        "  mylist.append(num%2)\n",
        "n = int(input())\n",
        "DecToBin(n)\n",
        "print(mylist.count(1))"
      ],
      "metadata": {
        "colab": {
          "base_uri": "https://localhost:8080/"
        },
        "id": "7VSB6kHnQcAS",
        "outputId": "77b3a695-5705-4f5e-da11-db893fdcbdee"
      },
      "execution_count": null,
      "outputs": [
        {
          "output_type": "stream",
          "name": "stdout",
          "text": [
            "5\n",
            "2\n"
          ]
        }
      ]
    },
    {
      "cell_type": "code",
      "source": [
        "#54. Given 2 numbers N,K and an array of N strings, find if any K consecutive strings are same\n",
        "n,k = map(int,input().split())\n",
        "count = 1\n",
        "inpstr = ''\n",
        "for i in range(n):\n",
        "    oldstr = inpstr\n",
        "    inpstr = input()\n",
        "    if oldstr == inpstr:\n",
        "        count += 1\n",
        "    else:\n",
        "        count = 1\n",
        "if count >= k:\n",
        "    print('yes')\n",
        "else:\n",
        "    print('no')"
      ],
      "metadata": {
        "colab": {
          "base_uri": "https://localhost:8080/"
        },
        "id": "tnmB28H0umAZ",
        "outputId": "7a82eb1b-588b-4511-e050-72af606cff33"
      },
      "execution_count": null,
      "outputs": [
        {
          "output_type": "stream",
          "name": "stdout",
          "text": [
            "5 3\n",
            "abc\n",
            "adk\n",
            "ab\n",
            "ab\n",
            "ab\n",
            "yes\n"
          ]
        }
      ]
    },
    {
      "cell_type": "code",
      "source": [
        "#55. Given a number N and an array of N strings, find the number of strings that are an anagram of 'kabali'.\n",
        "#If there exists no anagram for the given string print '0'\n",
        "n = int(input())\n",
        "kabali = ['k','a','b','a','l','i']\n",
        "count = 0\n",
        "wordcount = 0\n",
        "for i in range(n):\n",
        "    inpstr = input()\n",
        "    if len(inpstr) == 6:\n",
        "        count = 0\n",
        "        for j in kabali:\n",
        "            if j in inpstr:\n",
        "                count += 1\n",
        "        #print(count)\n",
        "        if count == 6:\n",
        "            wordcount += 1\n",
        "print(wordcount)"
      ],
      "metadata": {
        "colab": {
          "base_uri": "https://localhost:8080/"
        },
        "id": "MXdMq4VLuuRe",
        "outputId": "09e4a4a9-074a-459a-ca8e-c681d7742613"
      },
      "execution_count": null,
      "outputs": [
        {
          "output_type": "stream",
          "name": "stdout",
          "text": [
            "5\n",
            "kabali\n",
            "6\n",
            "kababa\n",
            "4\n",
            "kaabli\n",
            "6\n",
            "kab\n",
            "kabail\n",
            "6\n",
            "3\n"
          ]
        }
      ]
    },
    {
      "cell_type": "code",
      "source": [
        "#56. Given a string two strings S1 and S2, remove characters from the S1 which are present in the S2.\n",
        "#If S1 becomes empty then print -1\n",
        "str1,str2 = input().split()\n",
        "outstr = str1\n",
        "for i in str1:\n",
        "    if i in str2:\n",
        "        outstr = outstr.replace(i,\"\")\n",
        "if len(outstr) > 0:\n",
        "  print(outstr)\n",
        "else:\n",
        "  print(-1)"
      ],
      "metadata": {
        "colab": {
          "base_uri": "https://localhost:8080/"
        },
        "id": "y8LRnnZ1xWOP",
        "outputId": "6d1b298a-2c31-45af-9f2e-47cd7ff4ef60"
      },
      "execution_count": null,
      "outputs": [
        {
          "output_type": "stream",
          "name": "stdout",
          "text": [
            "amal lab\n",
            "ml\n",
            "ml\n",
            "m\n",
            "m\n"
          ]
        }
      ]
    },
    {
      "cell_type": "code",
      "source": [
        "#57. Print the position of first 1 from right to left, in binary representation of an Integer\n",
        "n = input()\n",
        "for i in range(1,len(n)+1):\n",
        "    if n[-i] == '1':\n",
        "        position = i\n",
        "        break\n",
        "binary = '1'+(position-1)*'0'\n",
        "print(position)\n",
        "#print(binary)\n",
        "#decimal = int(binary,2)\n",
        "#print(decimal)"
      ],
      "metadata": {
        "colab": {
          "base_uri": "https://localhost:8080/"
        },
        "id": "fOncQnngSq3H",
        "outputId": "767fe563-269e-4269-ab4e-7b15a6323776"
      },
      "execution_count": null,
      "outputs": [
        {
          "output_type": "stream",
          "name": "stdout",
          "text": [
            "100\n",
            "3\n"
          ]
        }
      ]
    },
    {
      "cell_type": "code",
      "source": [
        "#60. Given a string S, print the 1st and 3rd character of the string\n",
        "inpstr = input()\n",
        "print(inpstr[0],inpstr[2],sep=\"\")"
      ],
      "metadata": {
        "id": "3BkzmlOYz5vj",
        "colab": {
          "base_uri": "https://localhost:8080/"
        },
        "outputId": "c28cd71b-01a6-4a91-99bc-b3b5e507ff17"
      },
      "execution_count": null,
      "outputs": [
        {
          "output_type": "stream",
          "name": "stdout",
          "text": [
            "hello\n",
            "hl\n"
          ]
        }
      ]
    },
    {
      "cell_type": "code",
      "source": [
        "#61. Given a binary number convert it to hexadecimal\n",
        "inp = input()\n",
        "print(hex(int(inp,2))[2:])"
      ],
      "metadata": {
        "colab": {
          "base_uri": "https://localhost:8080/"
        },
        "id": "-_Ji9dR_b_sR",
        "outputId": "f5d123d4-d832-4c05-c855-34e98a64e918"
      },
      "execution_count": null,
      "outputs": [
        {
          "output_type": "stream",
          "name": "stdout",
          "text": [
            "1100100\n",
            "64\n"
          ]
        }
      ]
    },
    {
      "cell_type": "code",
      "source": [
        "#62. Given a number N and an array of N strings, find if two consecutive words are same.\n",
        "n = int(input())\n",
        "flag = 0\n",
        "preword = ''\n",
        "for i in range(n):\n",
        "    word = input()\n",
        "    if word == preword:\n",
        "        flag = 1\n",
        "        print('yes')\n",
        "        break\n",
        "    preword = word\n",
        "if flag == 0:\n",
        "    print('no')"
      ],
      "metadata": {
        "colab": {
          "base_uri": "https://localhost:8080/"
        },
        "id": "nxjeZeGdraZ_",
        "outputId": "e8c38620-5801-4566-c8ff-8ba49e0eeb86"
      },
      "execution_count": null,
      "outputs": [
        {
          "output_type": "stream",
          "name": "stdout",
          "text": [
            "2\n",
            "amal\n",
            "amal\n",
            "yes\n"
          ]
        }
      ]
    },
    {
      "cell_type": "code",
      "source": [
        "#63. Reverse word and put - in between\n",
        "inpWord = input()\n",
        "revWord = inpWord[::-1]\n",
        "wordList = []\n",
        "for i in revWord:\n",
        "  wordList.append(i)\n",
        "print(*wordList,sep=\"-\")"
      ],
      "metadata": {
        "colab": {
          "base_uri": "https://localhost:8080/"
        },
        "id": "ie_38AmssRWq",
        "outputId": "e7aa4a31-1464-4d06-9f27-75ad5c70e284"
      },
      "execution_count": null,
      "outputs": [
        {
          "output_type": "stream",
          "name": "stdout",
          "text": [
            "code\n",
            "e-d-o-c\n"
          ]
        }
      ]
    },
    {
      "cell_type": "code",
      "source": [
        "#64. Given a string and a number K.Print every kth character from the beginning.\n",
        "inpstr, k = input().split()\n",
        "k = int(k)\n",
        "outstr = []\n",
        "for i in range(1,len(inpstr)+1):\n",
        "    if i%k == 0:\n",
        "        outstr.append(inpstr[i-1])\n",
        "print(*outstr,sep = ' ')"
      ],
      "metadata": {
        "id": "iJBNaZa5ukWK",
        "colab": {
          "base_uri": "https://localhost:8080/"
        },
        "outputId": "18c9a013-2691-4b33-a3cf-7bda5ca360af"
      },
      "execution_count": null,
      "outputs": [
        {
          "output_type": "stream",
          "name": "stdout",
          "text": [
            "string 3\n",
            "r g\n"
          ]
        }
      ]
    },
    {
      "cell_type": "code",
      "source": [
        "#65. Given a string S, retain the character(s) once irrespective of number of times it occurs in the given string\n",
        "inpstr = input()\n",
        "outstr = []\n",
        "for i in inpstr:\n",
        "    if i not in outstr:\n",
        "        outstr.append(i)\n",
        "print(*outstr, sep = \"\")"
      ],
      "metadata": {
        "colab": {
          "base_uri": "https://localhost:8080/"
        },
        "id": "BTPqgcyEcSBd",
        "outputId": "8e13d32e-e796-44bd-e555-53708ed3f43d"
      },
      "execution_count": null,
      "outputs": [
        {
          "output_type": "stream",
          "name": "stdout",
          "text": [
            "aalblsjbb\n",
            "albsj\n"
          ]
        }
      ]
    },
    {
      "cell_type": "code",
      "source": [
        "#66. A number is given as input.Find the maximum number that can be formed using the digits\n",
        "inpnum = input()\n",
        "outnum = []\n",
        "for i in inpnum:\n",
        "    outnum.append(int(i))\n",
        "outnum.sort(reverse = True)\n",
        "print(*outnum, sep = \"\")"
      ],
      "metadata": {
        "colab": {
          "base_uri": "https://localhost:8080/"
        },
        "id": "K8tDXYtHdbbQ",
        "outputId": "78d7a055-b276-41f4-84df-6c18d4cc5272"
      },
      "execution_count": null,
      "outputs": [
        {
          "output_type": "stream",
          "name": "stdout",
          "text": [
            "5739\n",
            "9753\n"
          ]
        }
      ]
    },
    {
      "cell_type": "code",
      "source": [
        "#67. Given 2 strings,check whether they have any common characters.If found print 'yes' else print 'no'\n",
        "str1,str2 = input().split()\n",
        "if str1 in str2:\n",
        "    print('yes')\n",
        "else:\n",
        "    print('no')"
      ],
      "metadata": {
        "id": "QfugDjtReF5B",
        "colab": {
          "base_uri": "https://localhost:8080/"
        },
        "outputId": "9577b229-c9cb-44bc-e5b7-7ceb89785f06"
      },
      "execution_count": null,
      "outputs": [
        {
          "output_type": "stream",
          "name": "stdout",
          "text": [
            "guvi guvigeek\n",
            "yes\n"
          ]
        }
      ]
    },
    {
      "cell_type": "code",
      "source": [
        "#68. Given a string S, print 'yes' if the strings 'GUVI' and 'GEEK' is \n",
        "#present case-sensitively in the string else print 'no'\n",
        "inplist = list(input().split())\n",
        "flag = 0\n",
        "for i in inplist:\n",
        "    if 'GUVI' in i:\n",
        "        flag += 1\n",
        "    if 'GEEK' in i:\n",
        "        flag += 1\n",
        "if flag >= 2:\n",
        "    print('yes')\n",
        "else:\n",
        "    print('no')"
      ],
      "metadata": {
        "colab": {
          "base_uri": "https://localhost:8080/"
        },
        "id": "cNTyqriUKNwG",
        "outputId": "f3c994c4-e699-4a3a-9dbb-9cb57f1f0182"
      },
      "execution_count": null,
      "outputs": [
        {
          "output_type": "stream",
          "name": "stdout",
          "text": [
            "GUVI GEEK\n",
            "yes\n"
          ]
        }
      ]
    },
    {
      "cell_type": "code",
      "source": [
        "#69. Given a string S of length N, find if it can be a valid Hexadecimal representation\n",
        "# of a number.If it i0s valid,print 'yes' otherwise print 'no'.\n",
        "inp = input()\n",
        "import re\n",
        "regex = '[A-F0-9]+'\n",
        "if re.fullmatch(regex, inp):\n",
        "  print('yes')\n",
        "else:\n",
        "  print('no')"
      ],
      "metadata": {
        "colab": {
          "base_uri": "https://localhost:8080/"
        },
        "id": "U6fQpcl2d8N_",
        "outputId": "afcae6f2-0ded-4d2a-b677-9fcadf355b29"
      },
      "execution_count": null,
      "outputs": [
        {
          "output_type": "stream",
          "name": "stdout",
          "text": [
            "1AE23\n",
            "yes\n"
          ]
        }
      ]
    },
    {
      "cell_type": "code",
      "source": [
        "#71. Given a string print reverse all words except the first and last words\n",
        "inplist = list(input().split())\n",
        "outlist = [inplist[0]]\n",
        "for i in range(1,len(inplist)-1):\n",
        "    outlist.append(inplist[i][::-1])\n",
        "outlist.append(inplist[-1])\n",
        "print(*outlist, sep = \" \")"
      ],
      "metadata": {
        "colab": {
          "base_uri": "https://localhost:8080/"
        },
        "id": "jcOUxvWkLpBK",
        "outputId": "4cbdf291-e6c2-45cf-bc71-02cb43791c05"
      },
      "execution_count": null,
      "outputs": [
        {
          "output_type": "stream",
          "name": "stdout",
          "text": [
            "Hi how are you\n",
            "Hi woh era you\n"
          ]
        }
      ]
    },
    {
      "cell_type": "code",
      "source": [
        "#72. Given a String S and a string P, find if P is a substring of S. Print 'yes' if it is a substring else 'no'\n",
        "str1,str2 = input().split()\n",
        "if str2 in str1:\n",
        "    print('yes')\n",
        "else:\n",
        "    print('no')"
      ],
      "metadata": {
        "id": "2l_1Ds1TOePL",
        "colab": {
          "base_uri": "https://localhost:8080/"
        },
        "outputId": "f9dd82be-747a-4336-81c3-82d42e0a086c"
      },
      "execution_count": null,
      "outputs": [
        {
          "output_type": "stream",
          "name": "stdout",
          "text": [
            "sunder sun\n",
            "yes\n"
          ]
        }
      ]
    },
    {
      "cell_type": "code",
      "source": [
        "#74. You are given with string of words,we have to arrange them in reverse saturated order.\n",
        "inplist = list(input().split())\n",
        "outlist = []\n",
        "for i in inplist:\n",
        "    outlist.append(i[::-1])\n",
        "print(*outlist,sep = \" \")"
      ],
      "metadata": {
        "colab": {
          "base_uri": "https://localhost:8080/"
        },
        "id": "rXRxeylVk5bV",
        "outputId": "327ccb8e-6f92-4268-a700-84ea449fd3c8"
      },
      "execution_count": null,
      "outputs": [
        {
          "output_type": "stream",
          "name": "stdout",
          "text": [
            "I am kohli fan\n",
            "I ma ilhok naf\n"
          ]
        }
      ]
    },
    {
      "cell_type": "code",
      "source": [
        "#75.Given a set of numbers of length N. Your task is to find the quad ret (x1,x2,x3,x4) which will\n",
        "# result the sum in 1. If quad ret exists print Yes else print No\n",
        "n = int(input())\n",
        "inplist = list(map(int,input().split()))[:n]\n",
        "flag = 0\n",
        "for i in inplist:\n",
        "    for j in inplist:\n",
        "        for k in inplist:\n",
        "            for l in inplist:\n",
        "                if i+j+k+l == 1:\n",
        "                    flag = 1\n",
        "                    break\n",
        "if flag == 1:\n",
        "    print('Yes')\n",
        "else:\n",
        "    print('No')\n",
        "# did not work for n = 3, inp = 4 5 -8"
      ],
      "metadata": {
        "colab": {
          "base_uri": "https://localhost:8080/"
        },
        "id": "B8vcD3wDlbfV",
        "outputId": "9d624532-cf8e-4f9e-e8b6-054e771e2896"
      },
      "execution_count": null,
      "outputs": [
        {
          "output_type": "stream",
          "name": "stdout",
          "text": [
            "4\n",
            "1 3 4 3\n",
            "No\n"
          ]
        }
      ]
    },
    {
      "cell_type": "code",
      "source": [
        "# 77. Given a string/sentence print its corresponding camelcase convention.\n",
        "inpwords = list(input().split())\n",
        "outwords = []\n",
        "for i in inpwords:\n",
        "    outwords.append(i.capitalize())\n",
        "print(*outwords,sep=\"\")"
      ],
      "metadata": {
        "id": "wWe51bzZopwK"
      },
      "execution_count": null,
      "outputs": []
    },
    {
      "cell_type": "code",
      "source": [
        "#78. Given 2 strings check whether they differ exacly by one character.If yes then print 'yes' otherwise print 'no'\n",
        "str1,str2 = input().split()\n",
        "flag = 0\n",
        "for i in range(len(str1)):\n",
        "    if str1[i] != str2[i]:\n",
        "        flag += 1\n",
        "if flag == 1:\n",
        "    print('yes')\n",
        "else:\n",
        "    print('no')"
      ],
      "metadata": {
        "colab": {
          "base_uri": "https://localhost:8080/"
        },
        "id": "dLEszYPwKeP1",
        "outputId": "ee97d9d0-a3fc-4ec5-bd4e-0c0a1ca72bcd"
      },
      "execution_count": null,
      "outputs": [
        {
          "output_type": "stream",
          "name": "stdout",
          "text": [
            "codekata codekate\n",
            "yes\n"
          ]
        }
      ]
    },
    {
      "cell_type": "code",
      "source": [
        "#79. Given a string 'S' and a character 'K', find how many \n",
        "#times 'K' got repeated in 'S'.If 'K' is not found in 'S' print -1\n",
        "inpstr,k = input().split()\n",
        "count = 0\n",
        "for i in inpstr:\n",
        "    if i == k:\n",
        "        count += 1\n",
        "if count == 0:\n",
        "    print(-1)\n",
        "else:\n",
        "    print(count)"
      ],
      "metadata": {
        "colab": {
          "base_uri": "https://localhost:8080/"
        },
        "id": "uKxYer4xKibp",
        "outputId": "aac71c0e-1488-4c26-d204-72ff8da9daa1"
      },
      "execution_count": null,
      "outputs": [
        {
          "output_type": "stream",
          "name": "stdout",
          "text": [
            "code e\n",
            "1\n"
          ]
        }
      ]
    },
    {
      "cell_type": "code",
      "source": [
        "#80. Given a string S consisting of only '(' and ')', print 'yes' if it is balanced otherwise print 'no'\n",
        "inpstr = input()\n",
        "if inpstr.count('(') == inpstr.count(')'):\n",
        "    print('yes')\n",
        "else:\n",
        "    print('no')"
      ],
      "metadata": {
        "colab": {
          "base_uri": "https://localhost:8080/"
        },
        "id": "SsFxevDALrah",
        "outputId": "07f7afb4-bc63-462c-bfb6-b3dbd32e4151"
      },
      "execution_count": null,
      "outputs": [
        {
          "output_type": "stream",
          "name": "stdout",
          "text": [
            "(()())\n",
            "yes\n"
          ]
        }
      ]
    },
    {
      "cell_type": "code",
      "source": [
        "#81. Given a number N, print the sum of its first and last digit.\n",
        "inpnum = input()\n",
        "print(int(inpnum[0])+int(inpnum[-1]))"
      ],
      "metadata": {
        "id": "63U38hImMQTP",
        "colab": {
          "base_uri": "https://localhost:8080/"
        },
        "outputId": "533ca78f-1dcb-4475-acfa-4ae0449a4ac1"
      },
      "execution_count": null,
      "outputs": [
        {
          "output_type": "stream",
          "name": "stdout",
          "text": [
            "4509\n",
            "13\n"
          ]
        }
      ]
    },
    {
      "cell_type": "code",
      "source": [
        "#82. Given a string S of length N, reverse the case of each letter\n",
        "word = input()\n",
        "print(word.swapcase())"
      ],
      "metadata": {
        "colab": {
          "base_uri": "https://localhost:8080/"
        },
        "id": "04BATerEk1de",
        "outputId": "83d5f595-31af-4d77-e257-c698d644d00a"
      },
      "execution_count": null,
      "outputs": [
        {
          "output_type": "stream",
          "name": "stdout",
          "text": [
            "GuVi\n",
            "gUvI\n"
          ]
        }
      ]
    },
    {
      "cell_type": "code",
      "source": [
        "#83. Given a string S change upper case to lowercase and lowercase to uppercase\n",
        "word = input()\n",
        "print(word.swapcase())"
      ],
      "metadata": {
        "colab": {
          "base_uri": "https://localhost:8080/"
        },
        "id": "bO-F3v-ulPZn",
        "outputId": "f04cc31f-933c-44f4-d78b-5dc5855f7c50"
      },
      "execution_count": null,
      "outputs": [
        {
          "output_type": "stream",
          "name": "stdout",
          "text": [
            "SamE\n",
            "sAMe\n"
          ]
        }
      ]
    },
    {
      "cell_type": "code",
      "source": [
        "#84. Given a number N, print the sum of the squares of its digits\n",
        "num = input()\n",
        "sum = 0\n",
        "for i in num:\n",
        "    sum = sum + int(i)**2\n",
        "print(sum)"
      ],
      "metadata": {
        "colab": {
          "base_uri": "https://localhost:8080/"
        },
        "id": "3iYkY_TLlgw6",
        "outputId": "60143f35-5c72-4ce8-a909-1cfd69f66425"
      },
      "execution_count": null,
      "outputs": [
        {
          "output_type": "stream",
          "name": "stdout",
          "text": [
            "783\n",
            "122\n"
          ]
        }
      ]
    },
    {
      "cell_type": "code",
      "source": [
        "#85. Given a number N, print the kth digit from the given position p(given order N P K)\n",
        "num,p,k = input().split()\n",
        "p = int(p)\n",
        "k = int(k)\n",
        "print(num[p+k-1])"
      ],
      "metadata": {
        "colab": {
          "base_uri": "https://localhost:8080/"
        },
        "id": "Uf600VyMmHIQ",
        "outputId": "be1df7cf-14ed-49e9-8d00-223cf5cd532d"
      },
      "execution_count": null,
      "outputs": [
        {
          "output_type": "stream",
          "name": "stdout",
          "text": [
            "758736 2 3\n",
            "3\n"
          ]
        }
      ]
    },
    {
      "cell_type": "code",
      "source": [
        "#88. Given a string S consisting of a sentence, the task is to reverse every\n",
        "# word of the sentence except the first and last character of the words.\n",
        "sent_list = list(input().split())\n",
        "outlist = []\n",
        "for i in sent_list:\n",
        "    if len(i) == 1:\n",
        "      j = i\n",
        "    else:\n",
        "      j = i[0]+i[-2:0:-1]+i[-1]\n",
        "    outlist.append(j)\n",
        "print(*outlist)"
      ],
      "metadata": {
        "id": "X5jfjAE8mpBx",
        "colab": {
          "base_uri": "https://localhost:8080/"
        },
        "outputId": "120737ff-108b-4af3-d21c-10cf6ab378e4"
      },
      "execution_count": null,
      "outputs": [
        {
          "output_type": "stream",
          "name": "stdout",
          "text": [
            "i enjoy codekata\n",
            "i eojny ctakedoa\n"
          ]
        }
      ]
    },
    {
      "cell_type": "code",
      "source": [
        "#89. Given 2 strings and a number K, check whether they differ exactly by K characters\n",
        "inp1,inp2,k = input().split()\n",
        "count = 0\n",
        "k = int(k)\n",
        "for i,e in enumerate(inp1):\n",
        "    if inp1[i] != inp2[i]:\n",
        "        count += 1\n",
        "if count == k:\n",
        "    print('yes')\n",
        "else:\n",
        "    print('no')"
      ],
      "metadata": {
        "colab": {
          "base_uri": "https://localhost:8080/"
        },
        "id": "suapdJ-JNlzD",
        "outputId": "cbc5b2bb-e194-46b9-d2fb-2d200840e0a2"
      },
      "execution_count": null,
      "outputs": [
        {
          "output_type": "stream",
          "name": "stdout",
          "text": [
            "codekata codeguvi 4\n",
            "yes\n"
          ]
        }
      ]
    },
    {
      "cell_type": "code",
      "source": [
        "#90. Given a string, print the least repeated characters in the string.\n",
        "# If there are more than one character repeated preserve the order as in the input\n",
        "word = input()\n",
        "counter = []\n",
        "out1 = []\n",
        "out2 = []\n",
        "for i in word:\n",
        "    counter.append(word.count(i))\n",
        "least = sorted(counter)[0]\n",
        "for i in word:\n",
        "    if word.count(i) == least:\n",
        "        out1.append(i)\n",
        "try:\n",
        "  out1.remove(\" \")\n",
        "except:\n",
        "  pass\n",
        "for i in out1:\n",
        "  if out2.count(i) == 0 :\n",
        "    out2.append(i)\n",
        "print(*out2,sep = \"\")"
      ],
      "metadata": {
        "id": "VuczydBfMokU",
        "colab": {
          "base_uri": "https://localhost:8080/"
        },
        "outputId": "d975617b-ebb4-4f4a-adfa-b6b189e01388"
      },
      "execution_count": null,
      "outputs": [
        {
          "output_type": "stream",
          "name": "stdout",
          "text": [
            "gguuvvii\n",
            "guvi\n"
          ]
        }
      ]
    },
    {
      "cell_type": "code",
      "source": [
        "#91. Given a string 'S' and a character 'K', find at what position the character 'K'\n",
        "# occurs for the first time in 'S'.(Assume the index of string starts at 1).If the character is not found in\n",
        "# 'S' then print -1\n",
        "inpword,k = input().split()\n",
        "location = 0\n",
        "flag = 0\n",
        "for i in inpword:\n",
        "    location += 1\n",
        "    if i == k:\n",
        "        flag = 1\n",
        "        break\n",
        "if flag == 0:\n",
        "    print(-1)\n",
        "else:\n",
        "    print(location)"
      ],
      "metadata": {
        "id": "PWiU8WilYX_r",
        "colab": {
          "base_uri": "https://localhost:8080/"
        },
        "outputId": "d8abb73a-3a61-414a-a0d4-df72e2e8b0ea"
      },
      "execution_count": null,
      "outputs": [
        {
          "output_type": "stream",
          "name": "stdout",
          "text": [
            "codekata a\n",
            "6\n"
          ]
        }
      ]
    },
    {
      "cell_type": "code",
      "source": [
        "#92. Given a number N and an array of N strings, find the lexicographically smallest string\n",
        "n = int(input())\n",
        "wordlist = []\n",
        "for i in range(n):\n",
        "    wordlist.append(input())\n",
        "print(min(wordlist, key=len))"
      ],
      "metadata": {
        "colab": {
          "base_uri": "https://localhost:8080/"
        },
        "id": "MplGGMdiePI7",
        "outputId": "8579b5bc-5e34-4801-b40d-98afd57da5bb"
      },
      "execution_count": null,
      "outputs": [
        {
          "output_type": "stream",
          "name": "stdout",
          "text": [
            "3\n",
            "code\n",
            "learn\n",
            "practice\n",
            "code\n"
          ]
        }
      ]
    },
    {
      "cell_type": "code",
      "source": [
        "#94. Given a number N and an array of N elements, print the prefix sum array.\n",
        "n = int(input())\n",
        "inplist = list(map(int,input().split()))[:n]\n",
        "outlist = [0]\n",
        "for i,e in enumerate(inplist):\n",
        "  outlist.append(outlist[i]+e)\n",
        "print(*outlist[1:])"
      ],
      "metadata": {
        "colab": {
          "base_uri": "https://localhost:8080/"
        },
        "id": "3BmDHUeQfVB_",
        "outputId": "80a1baf7-37de-4067-b21c-788b60f361aa"
      },
      "execution_count": null,
      "outputs": [
        {
          "output_type": "stream",
          "name": "stdout",
          "text": [
            "4\n",
            "2 4 4 2\n",
            "2 6 10 12\n"
          ]
        }
      ]
    },
    {
      "cell_type": "code",
      "source": [
        "#95. Find the word having maximum length in a given sentence and print it.\n",
        "# If two words are of same length return the first occuring word of max-length\n",
        "wordslist = list(input().split())\n",
        "longest = ''\n",
        "for word in wordslist:\n",
        "    if len(word) > len(longest):\n",
        "        longest = word\n",
        "print(longest)"
      ],
      "metadata": {
        "id": "MMi2S29Xmc73",
        "colab": {
          "base_uri": "https://localhost:8080/"
        },
        "outputId": "f573a6ae-da1e-4001-d2aa-50968ff9416a"
      },
      "execution_count": null,
      "outputs": [
        {
          "output_type": "stream",
          "name": "stdout",
          "text": [
            "guvi geek\n",
            "guvi\n"
          ]
        }
      ]
    },
    {
      "cell_type": "code",
      "source": [
        "#96. Given a string S. Find the maximum length of substring alternating characters of vowel and consonants\n",
        "vowels = ['a','e','i','o','u','A','E','I','O','U']\n",
        "vowlist = []\n",
        "conslist = []\n",
        "word = input()\n",
        "for letter in word:\n",
        "    if letter in vowels:\n",
        "        vowlist.append(letter)\n",
        "    else:\n",
        "        conslist.append(letter)\n",
        "if len(vowlist) < len(conslist):\n",
        "    print(len(vowlist)*2)\n",
        "else:\n",
        "    print(len(conslist)*2)"
      ],
      "metadata": {
        "colab": {
          "base_uri": "https://localhost:8080/"
        },
        "id": "tLXXKNImdaty",
        "outputId": "fc22e06c-a581-45fe-c85f-1001ee7a3844"
      },
      "execution_count": null,
      "outputs": [
        {
          "output_type": "stream",
          "name": "stdout",
          "text": [
            "bebibo\n",
            "6\n"
          ]
        }
      ]
    },
    {
      "cell_type": "code",
      "source": [
        "#97. Given a string S, check whether it contains only the characters 'a' and 'b' or only 'a' or only 'b'\n",
        "word = input()\n",
        "flag = 0\n",
        "for letter in word:\n",
        "    if letter not in ['a','b']:\n",
        "        flag = 1\n",
        "        break\n",
        "if flag == 1:\n",
        "    print('no')\n",
        "else:\n",
        "    print('yes')"
      ],
      "metadata": {
        "colab": {
          "base_uri": "https://localhost:8080/"
        },
        "id": "ch_4lPwQe7Xz",
        "outputId": "c61b8b8b-ace6-42b2-e06a-ea0b51744922"
      },
      "execution_count": null,
      "outputs": [
        {
          "output_type": "stream",
          "name": "stdout",
          "text": [
            "aabbbaab\n",
            "yes\n"
          ]
        }
      ]
    },
    {
      "cell_type": "code",
      "source": [
        "#101. Given a number N and a number K, check if it has all digits from 0 to k in it\n",
        "num,k = input().split()\n",
        "count = 0\n",
        "k = int(k)\n",
        "for i in range(0,k+1):\n",
        "    if str(i) in num:\n",
        "        count += 1\n",
        "if count == k+1:\n",
        "    print('yes')\n",
        "else:\n",
        "    print('no')"
      ],
      "metadata": {
        "id": "M7cQ-lP1ge39",
        "colab": {
          "base_uri": "https://localhost:8080/"
        },
        "outputId": "5af3c47e-00d5-4594-984a-9f06d22426bc"
      },
      "execution_count": null,
      "outputs": [
        {
          "output_type": "stream",
          "name": "stdout",
          "text": [
            "1234034 4\n",
            "yes\n"
          ]
        }
      ]
    },
    {
      "cell_type": "code",
      "source": [
        "#102. Given a string S,count the maximum number of times a character repeated\n",
        "# in the string.If no character is repeated print '0'\n",
        "word = input()\n",
        "countlist = []\n",
        "for i in word:\n",
        "    countlist.append(word.count(i))\n",
        "sortedcount = sorted(countlist)\n",
        "if sortedcount[-1] == 1:\n",
        "    print(0)\n",
        "else:\n",
        "    print(sortedcount[-1])"
      ],
      "metadata": {
        "colab": {
          "base_uri": "https://localhost:8080/"
        },
        "id": "U60j4jzzBkAr",
        "outputId": "9b8f965f-53b5-4faa-d7e1-6ba84e7e1346"
      },
      "execution_count": null,
      "outputs": [
        {
          "output_type": "stream",
          "name": "stdout",
          "text": [
            "codekata\n",
            "2\n"
          ]
        }
      ]
    },
    {
      "cell_type": "code",
      "source": [
        "#106. Given a date(DD-MM-YYYY),print the month in words\n",
        "day,month,year = input().split('-')\n",
        "month = int(month)\n",
        "months = {1:'January',2:'February',3:'March',4:'April',5:'May',6:'June',7:'July',8:'August',9:'September',10:'October',11:'November',12:'December'}\n",
        "print(months[month])"
      ],
      "metadata": {
        "colab": {
          "base_uri": "https://localhost:8080/"
        },
        "id": "TaeUC9HwCuvD",
        "outputId": "0101f141-fc35-4ca7-88d1-7453de4a87d4"
      },
      "execution_count": null,
      "outputs": [
        {
          "output_type": "stream",
          "name": "stdout",
          "text": [
            "01-01-2018\n",
            "January\n"
          ]
        }
      ]
    },
    {
      "cell_type": "code",
      "source": [
        "#107. Given 2 strings S1 and S2,work on the strings such that both string has the same\n",
        "# number of characters.To adjust the length reduce number of exceeding characters from longer string\n",
        "s1 = input()\n",
        "s2 = input()\n",
        "if len(s2) > len(s1):\n",
        "    s2adj = s2[:len(s1)]\n",
        "    s1adj = s1\n",
        "else:\n",
        "    s1adj = s1[:len(s2)]\n",
        "    s2adj = s2\n",
        "print(s1adj+s2adj,sep=\"\")\n",
        "#not passing test"
      ],
      "metadata": {
        "colab": {
          "base_uri": "https://localhost:8080/"
        },
        "id": "Lz5wNyb-EpFQ",
        "outputId": "87b4a361-8939-4994-ff29-fdf9d8c633a0"
      },
      "execution_count": null,
      "outputs": [
        {
          "output_type": "stream",
          "name": "stdout",
          "text": [
            "guvi\n",
            "geek\n",
            "guvigeek\n"
          ]
        }
      ]
    },
    {
      "cell_type": "code",
      "source": [
        "#113. Given 2 strings S and X print the word position of X in S.(word count starts from 1).\n",
        "#If the given word doesn't exists in S print '-1'.\n",
        "wordlist = list(input().split())\n",
        "word = input()\n",
        "count = 0\n",
        "for index,element in enumerate(wordlist):\n",
        "    if element == word:\n",
        "        print(index+1)\n",
        "        count = 1\n",
        "        break\n",
        "if count == 0:\n",
        "    print(-1)"
      ],
      "metadata": {
        "id": "XKO_yH1UGAT4"
      },
      "execution_count": null,
      "outputs": []
    },
    {
      "cell_type": "code",
      "source": [
        "# 119. you are given with two strings.Your task is to check whether one of the string is substring\n",
        "# of the other.If substring exists,then print the starting index of sub-string.\n",
        "str1 = input()\n",
        "str2 = input()\n",
        "if str1 in str2:\n",
        "    print(str2.index(str1[0]))\n",
        "else:\n",
        "    print(-1)\n",
        "# not correct"
      ],
      "metadata": {
        "colab": {
          "base_uri": "https://localhost:8080/"
        },
        "id": "beh9nniUxOYP",
        "outputId": "2afc501b-cf06-4458-df2e-fccce877be81"
      },
      "execution_count": null,
      "outputs": [
        {
          "output_type": "stream",
          "name": "stdout",
          "text": [
            "guvi\n",
            "gesguvigeek\n",
            "0\n"
          ]
        }
      ]
    },
    {
      "cell_type": "code",
      "source": [
        "#123. Given a roman numeral N, convert it into integer.Take L=50, C=100.If it is not a valid roman numeral print '-1'\n",
        "rom = input()\n",
        "romlist = [letter for letter in rom]\n",
        "RomtoNum = {'I':1,\"V\":5,'X':10,'L':50,'C':100}\n",
        "value = 0\n",
        "for letter in romlist:\n",
        "  value = value + RomtoNum[letter]\n",
        "print(value)"
      ],
      "metadata": {
        "colab": {
          "base_uri": "https://localhost:8080/"
        },
        "id": "w-oHpfVUxPXF",
        "outputId": "095d6a42-b23a-41c3-846f-f936e97664c3"
      },
      "execution_count": null,
      "outputs": [
        {
          "output_type": "stream",
          "name": "stdout",
          "text": [
            "IV\n",
            "6\n"
          ]
        }
      ]
    },
    {
      "cell_type": "code",
      "source": [
        "#129. Given a string 'S', sort the characters based on the frequency(highest and lowest)\n",
        "# and print the resultant string.(Note:If the frequency of different character is same then sort\n",
        "# based on alphabetical order).\n",
        "inp = input()\n",
        "out = ''\n",
        "for letter in inp:\n",
        "    if letter not in out:\n",
        "        out = out + letter*inp.count(letter)\n",
        "print(out)"
      ],
      "metadata": {
        "colab": {
          "base_uri": "https://localhost:8080/"
        },
        "id": "zmy11CAb0KBM",
        "outputId": "3786f27c-a61c-4079-948c-bc620c765ee6"
      },
      "execution_count": null,
      "outputs": [
        {
          "output_type": "stream",
          "name": "stdout",
          "text": [
            "aabbba\n",
            "aaabbb\n"
          ]
        }
      ]
    },
    {
      "cell_type": "code",
      "source": [
        "#130 Given a string S of length N, write a program that would reverse every word in the string.\n",
        "inplist = list(input().split())\n",
        "outlist = []\n",
        "for word in inplist:\n",
        "    outlist.append(word[::-1])\n",
        "print(*outlist)"
      ],
      "metadata": {
        "colab": {
          "base_uri": "https://localhost:8080/"
        },
        "id": "TBNx1JK3Gwuk",
        "outputId": "28f9e5af-bb74-439f-85e1-c638fa07edf4"
      },
      "execution_count": null,
      "outputs": [
        {
          "output_type": "stream",
          "name": "stdout",
          "text": [
            "Hello world\n",
            "olleH dlrow\n"
          ]
        }
      ]
    },
    {
      "cell_type": "code",
      "source": [
        "#133. Given a sequence of strings remove extra spaces in the string\n",
        "#(there can be atmost one space between 2 strings).\n",
        "inplist = list(input().split())\n",
        "outlist = []\n",
        "for i in inplist:\n",
        "    outlist.append(i.replace(\" \", \"\"))\n",
        "print(*outlist)"
      ],
      "metadata": {
        "id": "8J_SBFf-H_qK"
      },
      "execution_count": null,
      "outputs": []
    },
    {
      "cell_type": "code",
      "source": [
        "#134. Given a string S of length N, reverse the words at odd positions.\n",
        "sentlist = input().split()\n",
        "outlist = []\n",
        "for index,word in enumerate(sentlist):\n",
        "    if index%2==0:\n",
        "        outlist.append(word[::-1])\n",
        "    else:\n",
        "        outlist.append(word)\n",
        "print(*outlist)"
      ],
      "metadata": {
        "id": "IAXpoKae3DOC"
      },
      "execution_count": null,
      "outputs": []
    },
    {
      "cell_type": "code",
      "source": [
        "#135. Given 2 strings P,Q of length N,M generate a password from two strings by combining\n",
        "# corresponding index letter of each string.If the any one string is less than the other\n",
        "# then numbers starting from1,2,3.... are taken to equate the length of the strings.\n",
        "word1,word2 = input().split()\n",
        "password = ''\n",
        "if len(word1) < len(word2):\n",
        "    a = [i for i in range(1,(len(word2)-len(word1))+1)]\n",
        "    for i in range(len(a)):\n",
        "      word1 = word1 + str(a[i])\n",
        "elif len(word2) < len(word1):\n",
        "    a = [i for i in range(1,(len(word1)-len(word2))+1)]\n",
        "    for i in range(len(a)):\n",
        "      word2 = word2 + str(a[i])\n",
        "for i in range(len(word1)):\n",
        "    password = password + word1[i] + word2[i]\n",
        "print(password)"
      ],
      "metadata": {
        "colab": {
          "base_uri": "https://localhost:8080/"
        },
        "id": "0JxbsTIJ35SK",
        "outputId": "02e06b88-62c3-4cfc-a422-391922497af2"
      },
      "execution_count": null,
      "outputs": [
        {
          "output_type": "stream",
          "name": "stdout",
          "text": [
            "soman amal\n",
            "saommaaln1\n"
          ]
        }
      ]
    },
    {
      "cell_type": "code",
      "source": [
        "# 137. Given a string S, remove the characters which exist more than one times,and print the remaining string\n",
        "word = input()\n",
        "out = ''\n",
        "for letter in word:\n",
        "    if word.count(letter) == 1:\n",
        "        out = out+letter\n",
        "print(out)"
      ],
      "metadata": {
        "id": "ybUUgbalBPO6",
        "colab": {
          "base_uri": "https://localhost:8080/"
        },
        "outputId": "8fb6591c-4351-4c67-8fd6-50023d2d2d7a"
      },
      "execution_count": null,
      "outputs": [
        {
          "output_type": "stream",
          "name": "stdout",
          "text": [
            "engineer\n",
            "gir\n"
          ]
        }
      ]
    },
    {
      "cell_type": "code",
      "source": [
        "#138. Given 2 strings S,X. Print 'yes' if their lengths are co-prime otherwise print 'no'\n",
        "def coprime(a,b):\n",
        "    flag = 0\n",
        "    for i in range(2,a+1):\n",
        "        if a%i == 0 and b%i == 0:\n",
        "            flag = 1\n",
        "            break\n",
        "    if flag == 0:\n",
        "        return 'yes'\n",
        "    else:\n",
        "        return 'no'\n",
        "word1,word2 = input().split()\n",
        "print(coprime(len(word1),len(word2)))"
      ],
      "metadata": {
        "colab": {
          "base_uri": "https://localhost:8080/"
        },
        "id": "cw4WRYxymzNO",
        "outputId": "84497161-ad0f-48fb-8cb8-3d348d3e7708"
      },
      "execution_count": null,
      "outputs": [
        {
          "output_type": "stream",
          "name": "stdout",
          "text": [
            "GUVIS GEEKTEC\n",
            "yes\n"
          ]
        }
      ]
    },
    {
      "cell_type": "code",
      "source": [
        "#140. Given two numbers S1 and S2 represented as strings, return multiplication of the numbers as a string\n",
        "a,b = map(int,input().split())\n",
        "print(a*b)"
      ],
      "metadata": {
        "id": "kXwqZ9e8pOm1"
      },
      "execution_count": null,
      "outputs": []
    },
    {
      "cell_type": "code",
      "source": [
        "#142. You are given with a sequence of n words to manipulate.If in a sequence,if two same words come \n",
        "# together then they will destroy each other.After the complete execution print the length of string obtained.\n",
        "n = int(input())\n",
        "words = list(input().split())\n",
        "repeat = True\n",
        "while repeat == True:\n",
        "    flag = 0\n",
        "    for index in range(len(words)-1):\n",
        "        if words[index] == words[index+1]:\n",
        "            words.remove(words[index+1])\n",
        "            words.remove(words[index])\n",
        "            flag = 1\n",
        "            break\n",
        "    if flag == 1:\n",
        "        repeat = True\n",
        "    else:\n",
        "        repeat = False\n",
        "print(len(words))"
      ],
      "metadata": {
        "colab": {
          "base_uri": "https://localhost:8080/"
        },
        "id": "n2ysAPybWw6z",
        "outputId": "f217da7a-248f-49f2-df6d-737493c6f2b2"
      },
      "execution_count": null,
      "outputs": [
        {
          "output_type": "stream",
          "name": "stdout",
          "text": [
            "4\n",
            "abc ab ab ac\n",
            "2\n"
          ]
        }
      ]
    },
    {
      "cell_type": "code",
      "source": [
        "#145. Given a string S and a number K. Print all the substrings of S of length K(space separeted output).\n",
        "word,k = input().split()\n",
        "k = int(k)\n",
        "output = []\n",
        "for i in range(0,len(word)-k+1):\n",
        "    temp = ''\n",
        "    for j in range(k):\n",
        "      temp = temp + word[i+j]\n",
        "    output.append(temp)\n",
        "print(*output)"
      ],
      "metadata": {
        "colab": {
          "base_uri": "https://localhost:8080/"
        },
        "id": "PRj1EdQWZK5A",
        "outputId": "18f6d1fe-76a0-4018-a436-67e0c0dcf09e"
      },
      "execution_count": null,
      "outputs": [
        {
          "output_type": "stream",
          "name": "stdout",
          "text": [
            "amalbs 2\n",
            "am ma al lb bs\n"
          ]
        }
      ]
    },
    {
      "cell_type": "code",
      "source": [
        "#149. Given a number N followed by N numbers. Find the largest number which can be formed \n",
        "# from the given numbers and print it.\n",
        "n = int(input())\n",
        "numlist = list(map(int,input().split()))\n",
        "numlist = sorted(numlist,reverse=True)\n",
        "print(*numlist,sep='')"
      ],
      "metadata": {
        "colab": {
          "base_uri": "https://localhost:8080/"
        },
        "id": "JqApJ0xMbFwj",
        "outputId": "9fbfe51f-3c3d-4b3c-8d87-00eae989ef6f"
      },
      "execution_count": null,
      "outputs": [
        {
          "output_type": "stream",
          "name": "stdout",
          "text": [
            "5\n",
            "5 6 7 8 9\n",
            "98765\n"
          ]
        }
      ]
    },
    {
      "cell_type": "code",
      "source": [
        "#150\n",
        "'''\n",
        "Email Validation :\n",
        "Given a string S check if is a valid email id based on the following Conditions.\n",
        "1)@ should be present;\n",
        "2)@ & . should not be repeated;\n",
        "3)there should be atleast four characters between @ and .;\n",
        "4)there should be at-least 3 characters before @ ;\n",
        "5)the end of mail id should be .com;\n",
        "If its a valid email id print 'yes' else print 'no'.\n",
        "'''\n",
        "import re\n",
        "s = input()\n",
        "pattern = '[a-zA-Z0-9]{3,}@{1}[a-zA-Z]{4,}.com'\n",
        "if re.fullmatch(pattern,s):\n",
        "    print('yes')\n",
        "else:\n",
        "    print('no')"
      ],
      "metadata": {
        "id": "SJHDjJlYeX5-",
        "colab": {
          "base_uri": "https://localhost:8080/"
        },
        "outputId": "4aca95ae-71cc-48e3-ca21-cf3230c769c6"
      },
      "execution_count": null,
      "outputs": [
        {
          "output_type": "stream",
          "name": "stdout",
          "text": [
            "amal@gmai.com\n",
            "yes\n"
          ]
        }
      ]
    },
    {
      "cell_type": "code",
      "source": [
        "#151. Given a sentence S.check whether it is in camelcase.print 'yes' if it is in camelcase otherwise print 'no'.\n",
        "word = input()\n",
        "if word != word.lower() and word != word.upper():\n",
        "  print('yes')\n",
        "else:\n",
        "  print('no')"
      ],
      "metadata": {
        "colab": {
          "base_uri": "https://localhost:8080/"
        },
        "id": "M4Yr4sa9vCYF",
        "outputId": "c2bc827e-4cd8-483f-f888-d80842911c98"
      },
      "execution_count": null,
      "outputs": [
        {
          "output_type": "stream",
          "name": "stdout",
          "text": [
            "Amalsoman\n",
            "yes\n"
          ]
        }
      ]
    },
    {
      "cell_type": "code",
      "source": [
        "#154. Given a string S of length N, find if it forms a double string after deleting 1 character.\n",
        "word = input()\n",
        "flag = 0\n",
        "tempword = ''\n",
        "if len(word)%2 == 0:\n",
        "    print('NO')\n",
        "else:\n",
        "    for letter in word:\n",
        "        tempword = word.replace(letter,'',1)\n",
        "        if tempword[:int((len(word)+1)/2)-1] == tempword[int((len(word)+1)/2)-1:]:\n",
        "            print('YES')\n",
        "            flag = 1\n",
        "            break\n",
        "    if flag == 0:\n",
        "        print('NO')"
      ],
      "metadata": {
        "colab": {
          "base_uri": "https://localhost:8080/"
        },
        "id": "W25NfePbyJiY",
        "outputId": "ae25872c-e0f9-43d2-a6c7-1f3f9f4bb31b"
      },
      "execution_count": null,
      "outputs": [
        {
          "output_type": "stream",
          "name": "stdout",
          "text": [
            "abxab\n",
            "YES\n"
          ]
        }
      ]
    },
    {
      "cell_type": "code",
      "source": [
        "#156. Given a string S of length N, reverse every word in place.\n",
        "wordlist = list(input().split())\n",
        "outlist = []\n",
        "for word in wordlist:\n",
        "    outlist.append(word[::-1])\n",
        "print(*outlist)"
      ],
      "metadata": {
        "id": "QQhoYBY9z1br",
        "colab": {
          "base_uri": "https://localhost:8080/"
        },
        "outputId": "74ea35c3-ba87-4379-fe21-d31e5535eb7c"
      },
      "execution_count": null,
      "outputs": [
        {
          "output_type": "stream",
          "name": "stdout",
          "text": [
            "guvi geek\n",
            "ivug keeg\n"
          ]
        }
      ]
    },
    {
      "cell_type": "code",
      "source": [
        "#159. Given a string S of length N, find if it forms a Palindrome after deleting 1 character\n",
        "word = input()\n",
        "flag = 0\n",
        "tempword = ''\n",
        "temp1 = ''\n",
        "if len(word)%2 == 0:\n",
        "    print('NO')\n",
        "else:\n",
        "    for letter in word:\n",
        "        tempword = word.replace(letter,'',1)\n",
        "        temp1  = tempword[int((len(word)+1)/2)-1:]\n",
        "        if tempword[:int((len(word)+1)/2)-1] == temp1[::-1]:\n",
        "            print('YES')\n",
        "            flag = 1\n",
        "            break\n",
        "    if flag == 0:\n",
        "        print('NO')"
      ],
      "metadata": {
        "colab": {
          "base_uri": "https://localhost:8080/"
        },
        "id": "B3iFHkGpRz7X",
        "outputId": "f6b5985a-9434-40eb-d29a-13a41439d347"
      },
      "execution_count": null,
      "outputs": [
        {
          "output_type": "stream",
          "name": "stdout",
          "text": [
            "abxba\n",
            "YES\n"
          ]
        }
      ]
    },
    {
      "cell_type": "code",
      "source": [
        "#169. Given a string S convert each characters of the string into ASCII values and print the sum of the numbers.\n",
        "inp = input()\n",
        "sum = 0\n",
        "for i in inp:\n",
        "    sum += ord(i)\n",
        "print(sum)"
      ],
      "metadata": {
        "id": "j2YCaZ8FSdNi"
      },
      "execution_count": null,
      "outputs": []
    },
    {
      "cell_type": "code",
      "source": [
        "#170. Given a number N and N strings of length atmost M, print the longest common prefix\n",
        "n = int(input())\n",
        "wordlist = []\n",
        "lcount = 0\n",
        "temp = ''\n",
        "for i in range(n):\n",
        "    wordlist.append(input())\n",
        "wordlist = sorted(wordlist,key=len)\n",
        "for i in range(len(wordlist[0])):\n",
        "    temp = wordlist[0][i]\n",
        "    wcount = 0\n",
        "    for word in wordlist:\n",
        "        if word[i] == temp:\n",
        "            wcount += 1\n",
        "    if wcount == len(wordlist):\n",
        "        lcount += 1\n",
        "    else:\n",
        "      break\n",
        "outword = wordlist[0]\n",
        "print(outword[:lcount])"
      ],
      "metadata": {
        "id": "sEWhSQM1X16U",
        "colab": {
          "base_uri": "https://localhost:8080/"
        },
        "outputId": "9c2f28c7-5c13-4852-b85d-fa398caacb17"
      },
      "execution_count": null,
      "outputs": [
        {
          "output_type": "stream",
          "name": "stdout",
          "text": [
            "2\n",
            "Vivek\n",
            "Vijek\n",
            "Vi\n"
          ]
        }
      ]
    },
    {
      "cell_type": "code",
      "source": [
        "#173. Given 2 strings X and Y convert X to Y as cheaply as possible.\n",
        "# Let the cost of insertion, deletion and updation be 1. Print the minimum cost.\n",
        "word1,word2 = input().split()\n",
        "count = 0\n",
        "temp = []\n",
        "for i in word1:\n",
        "  if word1.count(i) != word2.count(i) and i not in temp:\n",
        "    temp.append(i)\n",
        "    count += abs(word1.count(i) - word2.count(i))\n",
        "    #print(i)\n",
        "    #print(abs(word1.count(i) - word2.count(i)))\n",
        "print(count)"
      ],
      "metadata": {
        "colab": {
          "base_uri": "https://localhost:8080/"
        },
        "id": "8b4B2bfYySNA",
        "outputId": "d0284565-3f7d-4bf1-93d5-7c3a393798aa"
      },
      "execution_count": null,
      "outputs": [
        {
          "output_type": "stream",
          "name": "stdout",
          "text": [
            "codekata code\n",
            "k\n",
            "1\n",
            "a\n",
            "2\n",
            "t\n",
            "1\n",
            "4\n"
          ]
        }
      ]
    },
    {
      "cell_type": "code",
      "source": [
        "#174. In this task you have to find the minimal remaining string. The minimal remaining string is as follows: \n",
        "# Take a given string and find the maximal prefix which when reversed is also a suffix.\n",
        "# Remove this prefix and suffix. What you have left now is the minimal remaining string\n",
        "inpword = input()\n",
        "for i in range(len(inpword)):\n",
        "  if inpword[0] == inpword[-1]:\n",
        "      inpword=inpword.replace(inpword[0],'',1)\n",
        "      inpword=inpword[::-1].replace(inpword[-1],'',1)\n",
        "      inpword=inpword[::-1]\n",
        "  else:\n",
        "    break\n",
        "print(inpword)"
      ],
      "metadata": {
        "id": "encIyDON4Q3E",
        "colab": {
          "base_uri": "https://localhost:8080/"
        },
        "outputId": "b741c9ec-3f4d-46f2-913a-6ed7f7966c8e"
      },
      "execution_count": null,
      "outputs": [
        {
          "output_type": "stream",
          "name": "stdout",
          "text": [
            "ebcabdbbecbaccaeedcdedbbceceeaedbedeebbddeacbbecedddcebbbdaadbdcabbbceecaabbdaeeeccbddee\n",
            "bcabdbbecbaccaeedcdedbbceceeaedbedeebbddeacbbecedddcebbbdaadbdcabbbceecaabbdaeeeccbdde\n"
          ]
        }
      ]
    },
    {
      "cell_type": "code",
      "source": [
        "#179. You are given a string ‘s’, find the minimum number of characters to be inserted to convert it to palindrome.\n",
        "inpword = input()\n",
        "count = 0\n",
        "for i in range(len(inpword)):\n",
        "    if inpword[i] != inpword[-i-1]:\n",
        "        count += 1\n",
        "        #inpword = inpword+inpword[i]\n",
        "if count == len(inpword):\n",
        "  print(count-1)\n",
        "else:\n",
        "  print(count)"
      ],
      "metadata": {
        "colab": {
          "base_uri": "https://localhost:8080/"
        },
        "id": "NqxZTdzblAEN",
        "outputId": "65a2149f-661f-4525-a254-ca6a453018e5"
      },
      "execution_count": null,
      "outputs": [
        {
          "output_type": "stream",
          "name": "stdout",
          "text": [
            "abcd\n",
            "3\n"
          ]
        }
      ]
    },
    {
      "cell_type": "code",
      "source": [
        "#191. Given a string S, check whether the given string is an anagram of the string “dhoni”.\n",
        "dhoni = ['d','h','o','n','i']\n",
        "count = 0\n",
        "inpstr = input()\n",
        "if len(inpstr) == 5:\n",
        "    count = 0\n",
        "    for i in dhoni:\n",
        "        if i in inpstr:\n",
        "            count += 1\n",
        "    if count == 5:\n",
        "        print('yes')\n",
        "    else:\n",
        "      print('no')\n",
        "else:\n",
        "  print('no')"
      ],
      "metadata": {
        "id": "b6HNzb3ptcrt"
      },
      "execution_count": null,
      "outputs": []
    },
    {
      "cell_type": "code",
      "source": [],
      "metadata": {
        "id": "cveISMTdVEXF"
      },
      "execution_count": null,
      "outputs": []
    }
  ]
}