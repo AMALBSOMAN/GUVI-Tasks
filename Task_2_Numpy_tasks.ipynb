{
  "cells": [
    {
      "cell_type": "markdown",
      "metadata": {
        "id": "h3ZLAA2JfAlW"
      },
      "source": [
        "# Numpy\n",
        "\n"
      ]
    },
    {
      "cell_type": "markdown",
      "metadata": {
        "id": "uAHDZBb4fAlY"
      },
      "source": [
        "#### 1. Import the numpy package under the name `np` (★☆☆) \n",
        "(**hint**: import … as …)"
      ]
    },
    {
      "cell_type": "code",
      "execution_count": 1,
      "metadata": {
        "collapsed": true,
        "id": "o9WvtHV3fAlY"
      },
      "outputs": [],
      "source": [
        "import numpy as np"
      ]
    },
    {
      "cell_type": "markdown",
      "metadata": {
        "id": "BzWeRRrFfAlZ"
      },
      "source": [
        "#### 2. Print the numpy version and the configuration (★☆☆) \n",
        "(**hint**: np.\\_\\_version\\_\\_, np.show\\_config)"
      ]
    },
    {
      "cell_type": "code",
      "execution_count": null,
      "metadata": {
        "id": "6eZSBZGofAla",
        "colab": {
          "base_uri": "https://localhost:8080/"
        },
        "outputId": "f9233b9b-ac61-46dc-a868-4517927de7f0"
      },
      "outputs": [
        {
          "output_type": "stream",
          "name": "stdout",
          "text": [
            "1.21.6\n",
            "<module 'numpy.__config__' from '/usr/local/lib/python3.7/dist-packages/numpy/__config__.py'>\n"
          ]
        }
      ],
      "source": [
        "print(np.__version__)\n",
        "print(np.__config__)"
      ]
    },
    {
      "cell_type": "markdown",
      "metadata": {
        "id": "VtzLjwoTfAla"
      },
      "source": [
        "#### 3. Create a null vector of size 10 (★☆☆) \n",
        "(**hint**: np.zeros)"
      ]
    },
    {
      "cell_type": "code",
      "execution_count": null,
      "metadata": {
        "id": "bVvqh6cFfAla",
        "colab": {
          "base_uri": "https://localhost:8080/"
        },
        "outputId": "55340916-ae94-4ded-ba46-ec07f76ef8b5"
      },
      "outputs": [
        {
          "output_type": "stream",
          "name": "stdout",
          "text": [
            "[0. 0. 0. 0. 0. 0. 0. 0. 0. 0.]\n"
          ]
        }
      ],
      "source": [
        "null_vector = np.zeros(10)\n",
        "print(null_vector)"
      ]
    },
    {
      "cell_type": "markdown",
      "metadata": {
        "id": "fuERM2RPfAlb"
      },
      "source": [
        "#### 4.  How to find the memory size of any array (★☆☆) \n",
        "(**hint**: size, itemsize)"
      ]
    },
    {
      "cell_type": "code",
      "execution_count": null,
      "metadata": {
        "id": "T3bF8FCQfAlc",
        "colab": {
          "base_uri": "https://localhost:8080/"
        },
        "outputId": "dab2b3ed-ae36-4d52-8df6-515a6cd15065"
      },
      "outputs": [
        {
          "output_type": "stream",
          "name": "stdout",
          "text": [
            "80\n"
          ]
        }
      ],
      "source": [
        "print(null_vector.size*null_vector.itemsize)"
      ]
    },
    {
      "cell_type": "markdown",
      "metadata": {
        "id": "jAU0wIGLfAlc"
      },
      "source": [
        "#### 5.  How to get the documentation of the numpy add function from the command line? (★☆☆) \n",
        "(**hint**: np.info)"
      ]
    },
    {
      "cell_type": "code",
      "execution_count": null,
      "metadata": {
        "collapsed": true,
        "id": "x_adjoAtfAld"
      },
      "outputs": [],
      "source": [
        "np.info('add')"
      ]
    },
    {
      "cell_type": "markdown",
      "metadata": {
        "id": "4WhyU0z5fAld"
      },
      "source": [
        "#### 6.  Create a null vector of size 10 but the fifth value which is 1 (★☆☆) \n",
        "(**hint**: array\\[4\\])"
      ]
    },
    {
      "cell_type": "code",
      "execution_count": null,
      "metadata": {
        "id": "xP5UFRp0fAld",
        "colab": {
          "base_uri": "https://localhost:8080/"
        },
        "outputId": "47c7e5bf-82e4-4788-8967-474933b9f2a4"
      },
      "outputs": [
        {
          "output_type": "stream",
          "name": "stdout",
          "text": [
            "[0. 0. 0. 0. 1. 0. 0. 0. 0. 0.]\n"
          ]
        }
      ],
      "source": [
        "null_vector[4] = 1\n",
        "print(null_vector)"
      ]
    },
    {
      "cell_type": "markdown",
      "metadata": {
        "id": "WAE4XZOffAld"
      },
      "source": [
        "#### 7.  Create a vector with values ranging from 10 to 49 (★☆☆) \n",
        "(**hint**: np.arange)"
      ]
    },
    {
      "cell_type": "code",
      "execution_count": null,
      "metadata": {
        "id": "DmJ74qOefAle",
        "colab": {
          "base_uri": "https://localhost:8080/"
        },
        "outputId": "76620fd3-b7a6-4e46-b9ee-9c4c288d488d"
      },
      "outputs": [
        {
          "output_type": "stream",
          "name": "stdout",
          "text": [
            "[10 11 12 13 14 15 16 17 18 19 20 21 22 23 24 25 26 27 28 29 30 31 32 33\n",
            " 34 35 36 37 38 39 40 41 42 43 44 45 46 47 48 49]\n"
          ]
        }
      ],
      "source": [
        "ten_fortynine_vector = np.arange(10,50)\n",
        "print(ten_fortynine_vector)"
      ]
    },
    {
      "cell_type": "markdown",
      "metadata": {
        "id": "irz7caPmfAle"
      },
      "source": [
        "#### 8.  Reverse a vector (first element becomes last) (★☆☆) \n",
        "(**hint**: array\\[::-1\\])"
      ]
    },
    {
      "cell_type": "code",
      "execution_count": null,
      "metadata": {
        "id": "x5tSvl0lfAlf",
        "colab": {
          "base_uri": "https://localhost:8080/"
        },
        "outputId": "328c20c4-3159-436c-87b6-7959097e91eb"
      },
      "outputs": [
        {
          "output_type": "stream",
          "name": "stdout",
          "text": [
            "[49 48 47 46 45 44 43 42 41 40 39 38 37 36 35 34 33 32 31 30 29 28 27 26\n",
            " 25 24 23 22 21 20 19 18 17 16 15 14 13 12 11 10]\n"
          ]
        }
      ],
      "source": [
        "rev_ten_fortynine_vector = ten_fortynine_vector[::-1]\n",
        "print(rev_ten_fortynine_vector)"
      ]
    },
    {
      "cell_type": "markdown",
      "metadata": {
        "id": "qcfOisS6fAlf"
      },
      "source": [
        "#### 9.  Create a 3x3 matrix with values ranging from 0 to 8 (★☆☆) \n",
        "(**hint**: reshape)"
      ]
    },
    {
      "cell_type": "code",
      "execution_count": null,
      "metadata": {
        "id": "IjrUWmY9fAlf",
        "colab": {
          "base_uri": "https://localhost:8080/"
        },
        "outputId": "ef13c70b-d54c-4e3c-8f0a-4234fa509edb"
      },
      "outputs": [
        {
          "output_type": "stream",
          "name": "stdout",
          "text": [
            "[[0 1 2]\n",
            " [3 4 5]\n",
            " [6 7 8]]\n"
          ]
        }
      ],
      "source": [
        "nine_ele_vec = np.arange(9)\n",
        "tbt_nine_ele_vec = nine_ele_vec.reshape(3,3)\n",
        "print(tbt_nine_ele_vec)"
      ]
    },
    {
      "cell_type": "markdown",
      "metadata": {
        "id": "UbUBpnzsfAlg"
      },
      "source": [
        "#### 10. Find indices of non-zero elements from \\[1,2,0,0,4,0\\] (★☆☆) \n",
        "(**hint**: np.nonzero)"
      ]
    },
    {
      "cell_type": "code",
      "execution_count": null,
      "metadata": {
        "id": "Jgg56RUEfAlg",
        "colab": {
          "base_uri": "https://localhost:8080/"
        },
        "outputId": "57a944a3-581e-420e-a4f5-aa2b32860e6d"
      },
      "outputs": [
        {
          "output_type": "stream",
          "name": "stdout",
          "text": [
            "(array([0, 1, 4]),)\n"
          ]
        }
      ],
      "source": [
        "array10 = np.array([1,2,0,0,4,0])\n",
        "print(array10.nonzero())"
      ]
    },
    {
      "cell_type": "markdown",
      "metadata": {
        "id": "GfNa4k-OfAlg"
      },
      "source": [
        "#### 11. Create a 3x3 identity matrix (★☆☆) \n",
        "(**hint**: np.eye)"
      ]
    },
    {
      "cell_type": "code",
      "execution_count": null,
      "metadata": {
        "id": "GdGw_GJBfAlg",
        "colab": {
          "base_uri": "https://localhost:8080/"
        },
        "outputId": "e282bf6a-27c5-4cab-9a8f-58ff413998ba"
      },
      "outputs": [
        {
          "output_type": "stream",
          "name": "stdout",
          "text": [
            "[[1. 0. 0.]\n",
            " [0. 1. 0.]\n",
            " [0. 0. 1.]]\n"
          ]
        }
      ],
      "source": [
        "id_matx = np.eye(3)\n",
        "print(id_matx)"
      ]
    },
    {
      "cell_type": "markdown",
      "metadata": {
        "id": "k2N4h2u8fAlg"
      },
      "source": [
        "#### 12. Create a 3x3x3 array with random values (★☆☆) \n",
        "(**hint**: np.random.random)"
      ]
    },
    {
      "cell_type": "code",
      "execution_count": null,
      "metadata": {
        "collapsed": true,
        "id": "E_noQRAufAlh",
        "colab": {
          "base_uri": "https://localhost:8080/"
        },
        "outputId": "c824c509-a29b-46ff-bf31-fc037182eb03"
      },
      "outputs": [
        {
          "output_type": "stream",
          "name": "stdout",
          "text": [
            "[[[0.90806151 0.92166164 0.10164823]\n",
            "  [0.88360814 0.95631543 0.12816601]\n",
            "  [0.06579032 0.30748062 0.45717447]]\n",
            "\n",
            " [[0.99416129 0.82649025 0.72713329]\n",
            "  [0.95666255 0.65683915 0.30847234]\n",
            "  [0.15384824 0.35834203 0.74975951]]\n",
            "\n",
            " [[0.94655246 0.03190553 0.04262514]\n",
            "  [0.95210923 0.48890198 0.85163063]\n",
            "  [0.46408231 0.90191247 0.16700606]]]\n"
          ]
        }
      ],
      "source": [
        "tbtone_rand = np.random.random(27)\n",
        "tbt_rand = tbtone_rand.reshape(3,3,3)\n",
        "print(tbt_rand)"
      ]
    },
    {
      "cell_type": "markdown",
      "metadata": {
        "id": "9QYFm9ZOfAlh"
      },
      "source": [
        "#### 13. Create a 10x10 array with random values and find the minimum and maximum values (★☆☆) \n",
        "(**hint**: min, max)"
      ]
    },
    {
      "cell_type": "code",
      "execution_count": null,
      "metadata": {
        "id": "PC-LsSz_fAlh",
        "colab": {
          "base_uri": "https://localhost:8080/"
        },
        "outputId": "c1128678-7be4-4b60-a3ff-64862e0e7735"
      },
      "outputs": [
        {
          "output_type": "stream",
          "name": "stdout",
          "text": [
            "0.01883651616519333\n",
            "0.9854670500465363\n"
          ]
        }
      ],
      "source": [
        "onetbt_mat = np.random.random(100)\n",
        "tbt_mat = onetbt_mat.reshape(10,10)\n",
        "print(tbt_mat.min())\n",
        "print(tbt_mat.max())"
      ]
    },
    {
      "cell_type": "markdown",
      "metadata": {
        "id": "JYUnlqrNfAlh"
      },
      "source": [
        "#### 14. Create a random vector of size 30 and find the mean value (★☆☆) \n",
        "(**hint**: mean)"
      ]
    },
    {
      "cell_type": "code",
      "execution_count": null,
      "metadata": {
        "id": "Y-0Pe9BtfAlh",
        "colab": {
          "base_uri": "https://localhost:8080/"
        },
        "outputId": "af46efbc-2abd-401c-ba3d-e3aebc3433d9"
      },
      "outputs": [
        {
          "output_type": "stream",
          "name": "stdout",
          "text": [
            "0.48494330360973875\n"
          ]
        }
      ],
      "source": [
        "thirty_vec = np.random.random(30)\n",
        "print(thirty_vec.mean())"
      ]
    },
    {
      "cell_type": "markdown",
      "metadata": {
        "id": "Z_s3F0yVfAlh"
      },
      "source": [
        "#### 15. Create a 2d array with 1 on the border and 0 inside (★☆☆) \n",
        "(**hint**: array\\[1:-1, 1:-1\\])"
      ]
    },
    {
      "cell_type": "code",
      "execution_count": null,
      "metadata": {
        "id": "fnVkWChFfAlh",
        "colab": {
          "base_uri": "https://localhost:8080/"
        },
        "outputId": "9254dcdb-e881-4419-b6c3-42dc4d090381"
      },
      "outputs": [
        {
          "output_type": "stream",
          "name": "stdout",
          "text": [
            "[[1. 1. 1. 1. 1.]\n",
            " [1. 0. 0. 0. 1.]\n",
            " [1. 0. 0. 0. 1.]\n",
            " [1. 0. 0. 0. 1.]\n",
            " [1. 1. 1. 1. 1.]]\n"
          ]
        }
      ],
      "source": [
        "ftarray = np.ones(25).reshape(5,5)\n",
        "ftarray[1:-1,1:-1] = 0\n",
        "print(ftarray)"
      ]
    },
    {
      "cell_type": "markdown",
      "metadata": {
        "id": "q3PUi5ZmfAlh"
      },
      "source": [
        "#### 16. How to add a border (filled with 0's) around an existing array? (★☆☆) \n",
        "(**hint**: np.pad)"
      ]
    },
    {
      "cell_type": "code",
      "execution_count": null,
      "metadata": {
        "id": "zmlj36cxfAlh",
        "colab": {
          "base_uri": "https://localhost:8080/"
        },
        "outputId": "e8494d3a-facc-4a06-c504-ded85d4a3fc6"
      },
      "outputs": [
        {
          "output_type": "stream",
          "name": "stdout",
          "text": [
            "[[0 0 0 0 0 0 0]\n",
            " [0 1 8 2 2 8 0]\n",
            " [0 5 4 1 8 0 0]\n",
            " [0 6 8 4 4 6 0]\n",
            " [0 0 4 5 7 1 0]\n",
            " [0 7 3 5 2 8 0]\n",
            " [0 0 0 0 0 0 0]]\n"
          ]
        }
      ],
      "source": [
        "starray = np.random.randint(low = 0, high = 9, size = 25).reshape(5,5)\n",
        "pad_array = np.pad(starray,(1,1),'constant',constant_values=(0, 0))\n",
        "print(pad_array)"
      ]
    },
    {
      "cell_type": "markdown",
      "metadata": {
        "id": "iypw7UCjfAli"
      },
      "source": [
        "#### 17. What is the result of the following expression? (★☆☆) \n",
        "(**hint**: NaN = not a number, inf = infinity)"
      ]
    },
    {
      "cell_type": "markdown",
      "metadata": {
        "id": "jwIQ0mMsfAli"
      },
      "source": [
        "```python\n",
        "0 * np.nan\n",
        "np.nan == np.nan\n",
        "np.inf > np.nan\n",
        "np.nan - np.nan\n",
        "0.3 == 3 * 0.1\n",
        "```"
      ]
    },
    {
      "cell_type": "code",
      "execution_count": null,
      "metadata": {
        "id": "AUkRlRCCfAli",
        "colab": {
          "base_uri": "https://localhost:8080/"
        },
        "outputId": "9317a472-d2ef-4e72-ff64-e031b6ec1e9c"
      },
      "outputs": [
        {
          "output_type": "stream",
          "name": "stdout",
          "text": [
            "nan\n",
            "False\n",
            "False\n",
            "nan\n",
            "False\n"
          ]
        }
      ],
      "source": [
        "print(0*np.nan)\n",
        "print(np.nan == np.nan)\n",
        "print(np.inf > np.nan)\n",
        "print(np.nan - np.nan)\n",
        "print(0.3 == 3*0.1)"
      ]
    },
    {
      "cell_type": "markdown",
      "metadata": {
        "id": "t6oo3oUafAli"
      },
      "source": [
        "#### 18. Create a 5x5 matrix with values 1,2,3,4 just below the diagonal (★☆☆) \n",
        "(**hint**: np.diag)"
      ]
    },
    {
      "cell_type": "code",
      "source": [
        "fbf = np.diag(1+np.arange(4),k=-1)\n",
        "print(fbf)"
      ],
      "metadata": {
        "colab": {
          "base_uri": "https://localhost:8080/"
        },
        "id": "O1UcK9AoEvW7",
        "outputId": "badd70f7-2364-4779-abb8-3afa24a2527c"
      },
      "execution_count": null,
      "outputs": [
        {
          "output_type": "stream",
          "name": "stdout",
          "text": [
            "[[0 0 0 0 0]\n",
            " [1 0 0 0 0]\n",
            " [0 2 0 0 0]\n",
            " [0 0 3 0 0]\n",
            " [0 0 0 4 0]]\n"
          ]
        }
      ]
    },
    {
      "cell_type": "markdown",
      "metadata": {
        "id": "OA2LvEC7fAli"
      },
      "source": [
        "#### 19. Create a 8x8 matrix and fill it with a checkerboard pattern (★☆☆) \n",
        "(**hint**: array\\[::2\\])"
      ]
    },
    {
      "cell_type": "code",
      "execution_count": null,
      "metadata": {
        "id": "67x7YbgbfAlj",
        "colab": {
          "base_uri": "https://localhost:8080/"
        },
        "outputId": "d6177e6c-7b50-489e-8b1c-07865a363d13"
      },
      "outputs": [
        {
          "output_type": "stream",
          "name": "stdout",
          "text": [
            "[[0. 1. 0. 1. 0. 1. 0. 1.]\n",
            " [1. 0. 1. 0. 1. 0. 1. 0.]\n",
            " [0. 1. 0. 1. 0. 1. 0. 1.]\n",
            " [1. 0. 1. 0. 1. 0. 1. 0.]\n",
            " [0. 1. 0. 1. 0. 1. 0. 1.]\n",
            " [1. 0. 1. 0. 1. 0. 1. 0.]\n",
            " [0. 1. 0. 1. 0. 1. 0. 1.]\n",
            " [1. 0. 1. 0. 1. 0. 1. 0.]]\n"
          ]
        }
      ],
      "source": [
        "ebe = np.zeros(64).reshape(8,8)\n",
        "ebe[1::2,::2] = 1\n",
        "ebe[::2,1::2] = 1\n",
        "print(ebe)"
      ]
    },
    {
      "cell_type": "markdown",
      "metadata": {
        "id": "far2Cw77fAlj"
      },
      "source": [
        "#### 20. Consider a (6,7,8) shape array, what is the index (x,y,z) of the 100th element? \n",
        "(**hint**: np.unravel_index)"
      ]
    },
    {
      "cell_type": "code",
      "source": [
        "print(np.unravel_index(100,(6,7,8)))"
      ],
      "metadata": {
        "colab": {
          "base_uri": "https://localhost:8080/"
        },
        "id": "tTFLTYAJIfbs",
        "outputId": "da242607-1c71-4c91-e1fd-93d79da5d2a4"
      },
      "execution_count": null,
      "outputs": [
        {
          "output_type": "stream",
          "name": "stdout",
          "text": [
            "(1, 5, 4)\n"
          ]
        }
      ]
    },
    {
      "cell_type": "markdown",
      "metadata": {
        "id": "5aLnVA2ofAlj"
      },
      "source": [
        "#### 21. Create a checkerboard 8x8 matrix using the tile function (★☆☆) \n",
        "(**hint**: np.tile)"
      ]
    },
    {
      "cell_type": "code",
      "execution_count": null,
      "metadata": {
        "id": "Wc4Av--sfAlj",
        "colab": {
          "base_uri": "https://localhost:8080/"
        },
        "outputId": "7cf020d0-08c4-4cf9-df53-5e5bcdef3b85"
      },
      "outputs": [
        {
          "output_type": "stream",
          "name": "stdout",
          "text": [
            "[[0 1 0 1 0 1 0 1]\n",
            " [1 0 1 0 1 0 1 0]\n",
            " [0 1 0 1 0 1 0 1]\n",
            " [1 0 1 0 1 0 1 0]\n",
            " [0 1 0 1 0 1 0 1]\n",
            " [1 0 1 0 1 0 1 0]\n",
            " [0 1 0 1 0 1 0 1]\n",
            " [1 0 1 0 1 0 1 0]]\n"
          ]
        }
      ],
      "source": [
        "oz = [[0,1],[1,0]]\n",
        "oztile = np.tile(oz,(4,4))\n",
        "print(oztile)"
      ]
    },
    {
      "cell_type": "markdown",
      "metadata": {
        "id": "NW4GyUAZfAlj"
      },
      "source": [
        "#### 22. Normalize a 5x5 random matrix (★☆☆) \n",
        "(**hint**: (x - min) / (max - min))"
      ]
    },
    {
      "cell_type": "code",
      "execution_count": null,
      "metadata": {
        "id": "qSPzkHMbfAlj",
        "colab": {
          "base_uri": "https://localhost:8080/"
        },
        "outputId": "762f6a97-fe76-4bde-fc98-29ede46e825c"
      },
      "outputs": [
        {
          "output_type": "stream",
          "name": "stdout",
          "text": [
            "[[0.57142857 0.         1.         0.42857143 0.28571429]\n",
            " [0.14285714 0.85714286 0.28571429 0.57142857 0.14285714]\n",
            " [0.14285714 0.28571429 1.         0.85714286 0.42857143]\n",
            " [0.57142857 0.57142857 0.         0.         0.14285714]\n",
            " [0.28571429 0.42857143 0.14285714 1.         0.        ]]\n"
          ]
        }
      ],
      "source": [
        "fbf = np.random.randint(low=1,high=9,size=25).reshape(5,5)\n",
        "normfbf = (fbf-fbf.min())/(fbf.max()-fbf.min())\n",
        "print(normfbf)"
      ]
    },
    {
      "cell_type": "markdown",
      "metadata": {
        "id": "GgImkP8BfAlk"
      },
      "source": [
        "#### 23. Create a custom dtype that describes a color as four unsigned bytes (RGBA) (★☆☆) \n",
        "(**hint**: np.dtype)"
      ]
    },
    {
      "cell_type": "code",
      "execution_count": null,
      "metadata": {
        "collapsed": true,
        "id": "ZaHJsRuRfAlk",
        "colab": {
          "base_uri": "https://localhost:8080/"
        },
        "outputId": "533b9fa0-b8a2-4ac7-e74a-649b8ed1d732"
      },
      "outputs": [
        {
          "output_type": "stream",
          "name": "stdout",
          "text": [
            "2\n"
          ]
        },
        {
          "output_type": "execute_result",
          "data": {
            "text/plain": [
              "numpy.ndarray"
            ]
          },
          "metadata": {},
          "execution_count": 52
        }
      ],
      "source": [
        "RGBA = np.dtype([('red',np.uint8),('green',np.uint8),('blue',np.uint8),('alpha',np.uint8)])\n",
        "color = np.array((1,2,4,3),dtype = RGBA)\n",
        "print(color['green'])\n",
        "type(color)"
      ]
    },
    {
      "cell_type": "markdown",
      "metadata": {
        "id": "1gTwNYsgfAlk"
      },
      "source": [
        "#### 24. Multiply a 5x3 matrix by a 3x2 matrix (real matrix product) (★☆☆) \n",
        "(**hint**: np.dot | @)"
      ]
    },
    {
      "cell_type": "code",
      "execution_count": null,
      "metadata": {
        "id": "iHu-UWCpfAlk",
        "colab": {
          "base_uri": "https://localhost:8080/"
        },
        "outputId": "6ab77f9f-3a9b-44a2-ea3d-38e64653c57d"
      },
      "outputs": [
        {
          "output_type": "stream",
          "name": "stdout",
          "text": [
            "[[88 49]\n",
            " [64 27]\n",
            " [44 21]\n",
            " [76 42]\n",
            " [68 24]]\n"
          ]
        }
      ],
      "source": [
        "amat = np.random.randint(low=0,high=9,size=15).reshape(5,3)\n",
        "bmat = np.random.randint(low=0,high=9,size=6).reshape(3,2)\n",
        "pdtmat = amat.dot(bmat)\n",
        "print(pdtmat)"
      ]
    },
    {
      "cell_type": "markdown",
      "metadata": {
        "id": "xKpIXilQfAlk"
      },
      "source": [
        "#### 25. Given a 1D array, negate all elements which are between 3 and 8, in place. (★☆☆) \n",
        "(**hint**: >, <=)"
      ]
    },
    {
      "cell_type": "code",
      "execution_count": null,
      "metadata": {
        "id": "SSEsD9kOfAlk",
        "colab": {
          "base_uri": "https://localhost:8080/"
        },
        "outputId": "1bcce342-5bbe-4b6d-f51e-8ddeb21c2774"
      },
      "outputs": [
        {
          "output_type": "stream",
          "name": "stdout",
          "text": [
            "[0 1 2 3 4 5 6 7 8 9]\n",
            "[ 0  1  2 -3 -4 -5 -6 -7 -8  9]\n"
          ]
        }
      ],
      "source": [
        "onemat = np.arange(10)\n",
        "print(onemat)\n",
        "onemat[(onemat>2) & (onemat<9)] = -1*onemat[(onemat>2) & (onemat<9)]\n",
        "print(onemat)"
      ]
    },
    {
      "cell_type": "markdown",
      "metadata": {
        "id": "IUK0qlUhfAlk"
      },
      "source": [
        "#### 26. What is the output of the following script? (★☆☆) \n",
        "(**hint**: np.sum)"
      ]
    },
    {
      "cell_type": "markdown",
      "metadata": {
        "id": "TkVidmXwfAlk"
      },
      "source": [
        "```python\n",
        "# Author: Jake VanderPlas\n",
        "\n",
        "print(sum(range(5),-1))\n",
        "from numpy import *\n",
        "print(sum(range(5),-1))\n",
        "```"
      ]
    },
    {
      "cell_type": "code",
      "execution_count": null,
      "metadata": {
        "id": "Kv0HHcz_fAll",
        "colab": {
          "base_uri": "https://localhost:8080/"
        },
        "outputId": "701f16e5-f43c-49a7-9303-481227e7985c"
      },
      "outputs": [
        {
          "output_type": "stream",
          "name": "stdout",
          "text": [
            "10\n",
            "10\n"
          ]
        }
      ],
      "source": [
        "print(sum(range(5),-1))\n",
        "from numpy import *\n",
        "print(sum(range(5),-1))"
      ]
    },
    {
      "cell_type": "markdown",
      "metadata": {
        "id": "LQVqgzg8fAll"
      },
      "source": [
        "#### 27. Consider an integer vector Z, which of these expressions are legal? (★☆☆)"
      ]
    },
    {
      "cell_type": "markdown",
      "metadata": {
        "id": "qU936g0GfAll"
      },
      "source": [
        "```python\n",
        "Z**Z\n",
        "2 << Z >> 2\n",
        "Z <- Z\n",
        "1j*Z\n",
        "Z/1/1\n",
        "Z<Z>Z\n",
        "```"
      ]
    },
    {
      "cell_type": "code",
      "execution_count": null,
      "metadata": {
        "id": "eveVyj8gfAll",
        "colab": {
          "base_uri": "https://localhost:8080/"
        },
        "outputId": "05acebec-eca5-41e6-f51d-90172437872c"
      },
      "outputs": [
        {
          "output_type": "stream",
          "name": "stdout",
          "text": [
            "[0 1 2 3 4]\n"
          ]
        }
      ],
      "source": [
        "z = np.arange(5)\n",
        "print(z)"
      ]
    },
    {
      "cell_type": "code",
      "source": [
        "z**z #legal"
      ],
      "metadata": {
        "colab": {
          "base_uri": "https://localhost:8080/"
        },
        "id": "KR-YrIuEdF2u",
        "outputId": "77dabedf-1afe-4992-cc4c-a532787c8e6f"
      },
      "execution_count": null,
      "outputs": [
        {
          "output_type": "execute_result",
          "data": {
            "text/plain": [
              "array([  1,   1,   4,  27, 256])"
            ]
          },
          "metadata": {},
          "execution_count": 19
        }
      ]
    },
    {
      "cell_type": "code",
      "source": [
        "z <- z #legal"
      ],
      "metadata": {
        "colab": {
          "base_uri": "https://localhost:8080/"
        },
        "id": "v55v_u5ZdZ7G",
        "outputId": "344da8a6-dfbd-4acd-8344-b9949e09e347"
      },
      "execution_count": null,
      "outputs": [
        {
          "output_type": "execute_result",
          "data": {
            "text/plain": [
              "array([False, False, False, False, False])"
            ]
          },
          "metadata": {},
          "execution_count": 21
        }
      ]
    },
    {
      "cell_type": "code",
      "source": [
        "1j*z #legal"
      ],
      "metadata": {
        "colab": {
          "base_uri": "https://localhost:8080/"
        },
        "id": "9oGgQCsedZ27",
        "outputId": "19055611-ce27-4c2b-bffd-e2ef842ef955"
      },
      "execution_count": null,
      "outputs": [
        {
          "output_type": "execute_result",
          "data": {
            "text/plain": [
              "array([0.+0.j, 0.+1.j, 0.+2.j, 0.+3.j, 0.+4.j])"
            ]
          },
          "metadata": {},
          "execution_count": 22
        }
      ]
    },
    {
      "cell_type": "code",
      "source": [
        "z/1/1 #legal"
      ],
      "metadata": {
        "colab": {
          "base_uri": "https://localhost:8080/"
        },
        "id": "ilPYqoCidZqu",
        "outputId": "24f1e159-d39c-4c82-ff1f-306e9ae81652"
      },
      "execution_count": null,
      "outputs": [
        {
          "output_type": "execute_result",
          "data": {
            "text/plain": [
              "array([0., 1., 2., 3., 4.])"
            ]
          },
          "metadata": {},
          "execution_count": 23
        }
      ]
    },
    {
      "cell_type": "code",
      "source": [
        "z<z>z #not legal"
      ],
      "metadata": {
        "id": "dHfVqqWVdnWK"
      },
      "execution_count": null,
      "outputs": []
    },
    {
      "cell_type": "markdown",
      "metadata": {
        "id": "KxdizLEEfAll"
      },
      "source": [
        "#### 28. What are the result of the following expressions?"
      ]
    },
    {
      "cell_type": "markdown",
      "metadata": {
        "id": "wxE5o1OKfAll"
      },
      "source": [
        "```python\n",
        "np.array(0) / np.array(0)\n",
        "np.array(0) // np.array(0)\n",
        "np.array([np.nan]).astype(int).astype(float)\n",
        "```"
      ]
    },
    {
      "cell_type": "code",
      "execution_count": null,
      "metadata": {
        "id": "E_33DWzSfAll",
        "colab": {
          "base_uri": "https://localhost:8080/"
        },
        "outputId": "37eb3fcc-fe04-46f6-abca-c4f2913746d2"
      },
      "outputs": [
        {
          "output_type": "stream",
          "name": "stderr",
          "text": [
            "/usr/local/lib/python3.7/dist-packages/ipykernel_launcher.py:1: RuntimeWarning: invalid value encountered in true_divide\n",
            "  \"\"\"Entry point for launching an IPython kernel.\n"
          ]
        },
        {
          "output_type": "execute_result",
          "data": {
            "text/plain": [
              "nan"
            ]
          },
          "metadata": {},
          "execution_count": 25
        }
      ],
      "source": [
        "np.array(0) / np.array(0)"
      ]
    },
    {
      "cell_type": "code",
      "source": [
        "np.array(0) // np.array(0)"
      ],
      "metadata": {
        "colab": {
          "base_uri": "https://localhost:8080/"
        },
        "id": "xXS0YYGCfI2q",
        "outputId": "1ba3c1c4-53b1-41b1-954b-697f5c76b09b"
      },
      "execution_count": null,
      "outputs": [
        {
          "output_type": "stream",
          "name": "stderr",
          "text": [
            "/usr/local/lib/python3.7/dist-packages/ipykernel_launcher.py:1: RuntimeWarning: divide by zero encountered in floor_divide\n",
            "  \"\"\"Entry point for launching an IPython kernel.\n"
          ]
        },
        {
          "output_type": "execute_result",
          "data": {
            "text/plain": [
              "0"
            ]
          },
          "metadata": {},
          "execution_count": 29
        }
      ]
    },
    {
      "cell_type": "code",
      "source": [
        "np.array([np.nan]).astype(int).astype(float)"
      ],
      "metadata": {
        "colab": {
          "base_uri": "https://localhost:8080/"
        },
        "id": "wcEEQWoafRLN",
        "outputId": "ddb714f4-bafb-4899-c77b-587ae0db2333"
      },
      "execution_count": null,
      "outputs": [
        {
          "output_type": "execute_result",
          "data": {
            "text/plain": [
              "array([-9.22337204e+18])"
            ]
          },
          "metadata": {},
          "execution_count": 33
        }
      ]
    },
    {
      "cell_type": "markdown",
      "metadata": {
        "id": "LXKFMPb_fAll"
      },
      "source": [
        "#### 29. How to round away from zero a float array ? (★☆☆) \n",
        "(**hint**: np.uniform, np.copysign, np.ceil, np.abs)"
      ]
    },
    {
      "cell_type": "code",
      "execution_count": null,
      "metadata": {
        "id": "ry9DjLE5fAll",
        "colab": {
          "base_uri": "https://localhost:8080/"
        },
        "outputId": "25df920e-bf36-4e01-98b4-168e1bc7834b"
      },
      "outputs": [
        {
          "output_type": "stream",
          "name": "stdout",
          "text": [
            "[0.23547004 0.00620748 0.78482887 0.39911518 0.05843047]\n",
            "[0.2 0.  0.8 0.4 0.1]\n"
          ]
        }
      ],
      "source": [
        "tnarr = np.random.random(5)\n",
        "print(tnarr)\n",
        "tnarr = np.round(tnarr,1)\n",
        "print(tnarr) "
      ]
    },
    {
      "cell_type": "markdown",
      "metadata": {
        "id": "Pa0snDWVfAll"
      },
      "source": [
        "#### 30. How to find common values between two arrays? (★☆☆) \n",
        "(**hint**: np.intersect1d)"
      ]
    },
    {
      "cell_type": "code",
      "execution_count": null,
      "metadata": {
        "id": "aZDCCn1RfAll",
        "colab": {
          "base_uri": "https://localhost:8080/"
        },
        "outputId": "ff176a9a-b9fb-464d-f95a-4d95bbf42a2b"
      },
      "outputs": [
        {
          "output_type": "execute_result",
          "data": {
            "text/plain": [
              "array([11, 13])"
            ]
          },
          "metadata": {},
          "execution_count": 43
        }
      ],
      "source": [
        "tarr1 = np.random.randint(low=1,high=15,size=10)\n",
        "tarr2 = np.random.randint(low=1,high=15,size=10)\n",
        "np.intersect1d(tarr1,tarr2)"
      ]
    },
    {
      "cell_type": "markdown",
      "metadata": {
        "id": "vdlGcwp_fAlm"
      },
      "source": [
        "#### 31. How to ignore all numpy warnings (not recommended)? (★☆☆) \n",
        "(**hint**: np.seterr, np.errstate)"
      ]
    },
    {
      "cell_type": "code",
      "execution_count": null,
      "metadata": {
        "id": "8GOwhdvcfAlm"
      },
      "outputs": [],
      "source": [
        "np.seterr(all='ignore')\n",
        "np.errstate(divide='ignore')"
      ]
    },
    {
      "cell_type": "markdown",
      "metadata": {
        "id": "-F1ZU7vjfAlm"
      },
      "source": [
        "#### 32. Is the following expressions true? (★☆☆) \n",
        "(**hint**: imaginary number)"
      ]
    },
    {
      "cell_type": "markdown",
      "metadata": {
        "id": "n6zf9rFSfAlm"
      },
      "source": [
        "```python\n",
        "np.sqrt(-1) == np.emath.sqrt(-1)\n",
        "```"
      ]
    },
    {
      "cell_type": "code",
      "source": [
        "print(np.sqrt(-1)) #imaginary number not in numpy by default"
      ],
      "metadata": {
        "colab": {
          "base_uri": "https://localhost:8080/"
        },
        "id": "TorXW604jcUg",
        "outputId": "f7e41c88-9cf5-4e6b-f932-cfba73678308"
      },
      "execution_count": null,
      "outputs": [
        {
          "output_type": "stream",
          "name": "stdout",
          "text": [
            "nan\n"
          ]
        },
        {
          "output_type": "stream",
          "name": "stderr",
          "text": [
            "/usr/local/lib/python3.7/dist-packages/ipykernel_launcher.py:1: RuntimeWarning: invalid value encountered in sqrt\n",
            "  \"\"\"Entry point for launching an IPython kernel.\n"
          ]
        }
      ]
    },
    {
      "cell_type": "code",
      "source": [
        "np.emath.sqrt(-1) #use emath for handling imaginary numbers"
      ],
      "metadata": {
        "colab": {
          "base_uri": "https://localhost:8080/"
        },
        "id": "EFUze_q_jh9e",
        "outputId": "d5156eba-daa4-4f27-d787-614ea4765b17"
      },
      "execution_count": null,
      "outputs": [
        {
          "output_type": "execute_result",
          "data": {
            "text/plain": [
              "1j"
            ]
          },
          "metadata": {},
          "execution_count": 47
        }
      ]
    },
    {
      "cell_type": "code",
      "execution_count": null,
      "metadata": {
        "id": "PrFVwMjJfAlm",
        "colab": {
          "base_uri": "https://localhost:8080/"
        },
        "outputId": "ec465af4-b104-4943-c5d4-db4a1a31f90e"
      },
      "outputs": [
        {
          "output_type": "stream",
          "name": "stderr",
          "text": [
            "/usr/local/lib/python3.7/dist-packages/ipykernel_launcher.py:1: RuntimeWarning: invalid value encountered in sqrt\n",
            "  \"\"\"Entry point for launching an IPython kernel.\n"
          ]
        },
        {
          "output_type": "execute_result",
          "data": {
            "text/plain": [
              "False"
            ]
          },
          "metadata": {},
          "execution_count": 44
        }
      ],
      "source": [
        "np.sqrt(-1) == np.emath.sqrt(-1) #false"
      ]
    },
    {
      "cell_type": "markdown",
      "metadata": {
        "id": "OlF2mKhQfAlm"
      },
      "source": [
        "#### 33. How to get the dates of yesterday, today and tomorrow? (★☆☆) \n",
        "(**hint**: np.datetime64, np.timedelta64)"
      ]
    },
    {
      "cell_type": "code",
      "execution_count": null,
      "metadata": {
        "collapsed": true,
        "id": "mm4gYFj2fAlm",
        "colab": {
          "base_uri": "https://localhost:8080/"
        },
        "outputId": "38cdd563-5740-4590-a064-42ac0e93cb75"
      },
      "outputs": [
        {
          "output_type": "stream",
          "name": "stdout",
          "text": [
            "2022-08-18\n",
            "2022-08-17\n",
            "2022-08-19\n"
          ]
        }
      ],
      "source": [
        "print(np.datetime64('today'))\n",
        "print(np.datetime64('today') - np.timedelta64(1,'D')) # 'D' is for forcing Date unit\n",
        "print(np.datetime64('today') + np.timedelta64(1,'D'))"
      ]
    },
    {
      "cell_type": "markdown",
      "metadata": {
        "id": "rYRn5fpMfAlm"
      },
      "source": [
        "#### 34. How to get all the dates corresponding to the month of July 2016? (★★☆) \n",
        "(**hint**: np.arange(dtype=datetime64\\['D'\\]))"
      ]
    },
    {
      "cell_type": "code",
      "execution_count": null,
      "metadata": {
        "id": "w4E4cR5PfAlm",
        "colab": {
          "base_uri": "https://localhost:8080/"
        },
        "outputId": "c43f3833-4c3c-4377-faae-678abd4e1888"
      },
      "outputs": [
        {
          "output_type": "stream",
          "name": "stdout",
          "text": [
            "['2016-07-01' '2016-07-02' '2016-07-03' '2016-07-04' '2016-07-05'\n",
            " '2016-07-06' '2016-07-07' '2016-07-08' '2016-07-09' '2016-07-10'\n",
            " '2016-07-11' '2016-07-12' '2016-07-13' '2016-07-14' '2016-07-15'\n",
            " '2016-07-16' '2016-07-17' '2016-07-18' '2016-07-19' '2016-07-20'\n",
            " '2016-07-21' '2016-07-22' '2016-07-23' '2016-07-24' '2016-07-25'\n",
            " '2016-07-26' '2016-07-27' '2016-07-28' '2016-07-29' '2016-07-30'\n",
            " '2016-07-31']\n"
          ]
        }
      ],
      "source": [
        "days = np.arange('2016-07','2016-08', dtype='datetime64[D]')\n",
        "print(days)"
      ]
    },
    {
      "cell_type": "markdown",
      "metadata": {
        "id": "j1sf4jCnfAlm"
      },
      "source": [
        "#### 35. How to compute ((A+B)\\*(-A/2)) in place (without copy)? (★★☆) \n",
        "(**hint**: np.add(out=), np.negative(out=), np.multiply(out=), np.divide(out=))"
      ]
    },
    {
      "cell_type": "code",
      "execution_count": null,
      "metadata": {
        "id": "UiV7rf5ffAln",
        "colab": {
          "base_uri": "https://localhost:8080/"
        },
        "outputId": "c69908b4-1595-4a2f-865a-3ae25e9ffdb2"
      },
      "outputs": [
        {
          "output_type": "stream",
          "name": "stdout",
          "text": [
            "[ -0.    -0.25  -1.    -2.25  -4.    -6.25  -9.   -12.25 -16.   -20.25]\n"
          ]
        }
      ],
      "source": [
        "A = np.arange(10)/2\n",
        "B = np.arange(10)/2\n",
        "np.add(A,B,out=B)\n",
        "np.divide(A,2,out=A)\n",
        "np.negative(A,out=A)\n",
        "np.multiply(B,A,out=B)\n",
        "print(B)"
      ]
    },
    {
      "cell_type": "markdown",
      "metadata": {
        "id": "347ifV2xfAln"
      },
      "source": [
        "#### 36. Extract the integer part of a random array using 5 different methods (★★☆) \n",
        "(**hint**: %, np.floor, np.ceil, astype, np.trunc)"
      ]
    },
    {
      "cell_type": "code",
      "execution_count": null,
      "metadata": {
        "id": "4_8XcDNZfAln",
        "colab": {
          "base_uri": "https://localhost:8080/"
        },
        "outputId": "b3664502-b820-4724-9145-56379b395860"
      },
      "outputs": [
        {
          "output_type": "stream",
          "name": "stdout",
          "text": [
            "[-1.  0. -1. -1. -1. -1. -1. -1. -2. -2.]\n",
            "[-0.  1. -0. -0. -0. -0. -0. -0. -1. -1.]\n",
            "[-0.  0. -0. -0. -0. -0. -0. -0. -1. -1.]\n"
          ]
        }
      ],
      "source": [
        "tsarr = np.random.randn(10)\n",
        "print(np.floor(tsarr))\n",
        "print(np.ceil(tsarr))\n",
        "print(np.trunc(tsarr))"
      ]
    },
    {
      "cell_type": "markdown",
      "metadata": {
        "id": "_fRErzK_fAln"
      },
      "source": [
        "#### 37. Create a 5x5 matrix with row values ranging from 0 to 4 (★★☆) \n",
        "(**hint**: np.arange)"
      ]
    },
    {
      "cell_type": "code",
      "execution_count": null,
      "metadata": {
        "id": "PNPLEvARfAln",
        "colab": {
          "base_uri": "https://localhost:8080/"
        },
        "outputId": "51319b5f-8682-4f6b-e721-e2bd4f1a7e6a"
      },
      "outputs": [
        {
          "output_type": "stream",
          "name": "stdout",
          "text": [
            "[[0 0 0 3 3]\n",
            " [2 1 1 3 2]\n",
            " [1 0 0 3 3]\n",
            " [3 3 1 3 2]\n",
            " [3 2 3 2 1]]\n"
          ]
        }
      ],
      "source": [
        "tsar = np.random.randint(low=0,high=4,size=25).reshape(5,5)\n",
        "print(tsar)"
      ]
    },
    {
      "cell_type": "markdown",
      "metadata": {
        "id": "MEWNB3KxfAln"
      },
      "source": [
        "#### 38. Consider a generator function that generates 10 integers and use it to build an array (★☆☆) \n",
        "(**hint**: np.fromiter)"
      ]
    },
    {
      "cell_type": "code",
      "execution_count": null,
      "metadata": {
        "id": "MvXffPJkfAln",
        "colab": {
          "base_uri": "https://localhost:8080/"
        },
        "outputId": "3c877a11-26e9-4ac4-9aae-f8f7d2bafcf2"
      },
      "outputs": [
        {
          "output_type": "stream",
          "name": "stdout",
          "text": [
            "[0 1 2 3 4 5 6 7 8 9]\n"
          ]
        }
      ],
      "source": [
        "iter = (a for a in range(10))\n",
        "te = np.fromiter(iter,dtype=int)\n",
        "print(te)"
      ]
    },
    {
      "cell_type": "markdown",
      "metadata": {
        "id": "JSW5UI3mfAln"
      },
      "source": [
        "#### 39. Create a vector of size 10 with values ranging from 0 to 1, both excluded (★★☆) \n",
        "(**hint**: np.linspace)"
      ]
    },
    {
      "cell_type": "code",
      "execution_count": null,
      "metadata": {
        "id": "2Py56-dYfAln",
        "colab": {
          "base_uri": "https://localhost:8080/"
        },
        "outputId": "55ef918b-254a-4623-c2bc-dcaa1c92bcf9"
      },
      "outputs": [
        {
          "output_type": "stream",
          "name": "stdout",
          "text": [
            "[0.1  0.19 0.28 0.37 0.46 0.55 0.64 0.73 0.82 0.91]\n"
          ]
        }
      ],
      "source": [
        "tn = np.linspace(0.1,1,num=10,endpoint=False)\n",
        "print(tn)"
      ]
    },
    {
      "cell_type": "markdown",
      "metadata": {
        "id": "YE51ZrVIfAln"
      },
      "source": [
        "#### 40. Create a random vector of size 10 and sort it (★★☆) \n",
        "(**hint**: sort)"
      ]
    },
    {
      "cell_type": "code",
      "execution_count": null,
      "metadata": {
        "id": "7auGQpXZfAln",
        "colab": {
          "base_uri": "https://localhost:8080/"
        },
        "outputId": "464303cc-6a74-4da5-c7b1-0f35ffa93b1d"
      },
      "outputs": [
        {
          "output_type": "stream",
          "name": "stdout",
          "text": [
            "[0.13595051 0.1607565  0.23982149 0.4411362  0.502957   0.53896756\n",
            " 0.60997082 0.64804917 0.70902495 0.91649622]\n"
          ]
        }
      ],
      "source": [
        "fo = np.random.random(10)\n",
        "fo = np.sort(fo)\n",
        "print(fo)"
      ]
    },
    {
      "cell_type": "markdown",
      "metadata": {
        "id": "hAF6o8uTfAln"
      },
      "source": [
        "#### 41. How to sum a small array faster than np.sum? (★★☆) \n",
        "(**hint**: np.add.reduce)"
      ]
    },
    {
      "cell_type": "code",
      "execution_count": null,
      "metadata": {
        "id": "us2ejRWmfAlo",
        "colab": {
          "base_uri": "https://localhost:8080/"
        },
        "outputId": "72162b20-e979-4e95-bf38-e95725a5fd16"
      },
      "outputs": [
        {
          "output_type": "stream",
          "name": "stdout",
          "text": [
            "10\n"
          ]
        }
      ],
      "source": [
        "f1 = np.arange(5)\n",
        "sum = np.add.reduce(f1)\n",
        "print(sum)"
      ]
    },
    {
      "cell_type": "markdown",
      "metadata": {
        "id": "w51tVankfAlo"
      },
      "source": [
        "#### 42. Consider two random array A and B, check if they are equal (★★☆) \n",
        "(**hint**: np.allclose, np.array\\_equal)"
      ]
    },
    {
      "cell_type": "code",
      "execution_count": null,
      "metadata": {
        "id": "usu7HibjfAlo",
        "colab": {
          "base_uri": "https://localhost:8080/"
        },
        "outputId": "74750a6c-bfd1-4dc2-caaf-01a6debb66de"
      },
      "outputs": [
        {
          "output_type": "stream",
          "name": "stdout",
          "text": [
            "False\n",
            "False\n"
          ]
        }
      ],
      "source": [
        "f21 = np.random.random(5)\n",
        "f22 = np.random.random(5)\n",
        "print(np.array_equal(f21,f22))\n",
        "print(np.allclose(f21,f22,rtol=0.1,atol=0.1))"
      ]
    },
    {
      "cell_type": "markdown",
      "metadata": {
        "id": "DNuYuY2IfAlo"
      },
      "source": [
        "#### 43. Make an array immutable (read-only) (★★☆) \n",
        "(**hint**: flags.writeable)"
      ]
    },
    {
      "cell_type": "code",
      "execution_count": null,
      "metadata": {
        "id": "7cy-CklQfAlo",
        "colab": {
          "base_uri": "https://localhost:8080/"
        },
        "outputId": "40c22745-5acf-4690-bc93-4095f98297bd"
      },
      "outputs": [
        {
          "output_type": "stream",
          "name": "stdout",
          "text": [
            "[0 1 2 3 4]\n",
            "[0 1 9 3 4]\n",
            "[0 1 9 3 4]\n"
          ]
        }
      ],
      "source": [
        "ftr = np.arange(5)\n",
        "print(ftr)\n",
        "ftr[2] = 9\n",
        "print(ftr)\n",
        "ftr.setflags(write=False)\n",
        "#ftr[1] = 8\n",
        "print(ftr)"
      ]
    },
    {
      "cell_type": "markdown",
      "metadata": {
        "id": "pAwrTihVfAlo"
      },
      "source": [
        "#### 44. Consider a random 10x2 matrix representing cartesian coordinates, convert them to polar coordinates (★★☆) \n",
        "(**hint**: np.sqrt, np.arctan2)"
      ]
    },
    {
      "cell_type": "code",
      "execution_count": null,
      "metadata": {
        "id": "6zKz0GQ6fAlo",
        "colab": {
          "base_uri": "https://localhost:8080/"
        },
        "outputId": "61a4ff5c-bd74-488a-8034-8432afc12aad"
      },
      "outputs": [
        {
          "output_type": "stream",
          "name": "stdout",
          "text": [
            "[[7.81024968 0.69473828]\n",
            " [8.06225775 0.51914611]\n",
            " [4.12310563 0.24497866]\n",
            " [7.07106781 0.14189705]\n",
            " [5.83095189 0.5404195 ]\n",
            " [9.21954446 0.86217005]\n",
            " [8.60232527 0.95054684]\n",
            " [7.61577311 0.40489179]\n",
            " [8.54400375 1.21202566]\n",
            " [4.47213595 1.10714872]]\n"
          ]
        }
      ],
      "source": [
        "z = np.random.randint(1,9,(10,2))\n",
        "x = z[:,0]\n",
        "y = z[:,1]\n",
        "pL = np.sqrt(x**2+y**2)\n",
        "pA = np.arctan2(y,x)\n",
        "polar = np.c_[pL,pA]\n",
        "print(polar)"
      ]
    },
    {
      "cell_type": "markdown",
      "metadata": {
        "id": "V-cJuS9JfAlo"
      },
      "source": [
        "#### 45. Create random vector of size 10 and replace the maximum value by 0 (★★☆) \n",
        "(**hint**: argmax)"
      ]
    },
    {
      "cell_type": "code",
      "execution_count": null,
      "metadata": {
        "id": "_ghB2qu6fAlo",
        "colab": {
          "base_uri": "https://localhost:8080/"
        },
        "outputId": "0d9f7781-7850-4d96-af24-1edfdb39daf3"
      },
      "outputs": [
        {
          "output_type": "stream",
          "name": "stdout",
          "text": [
            "[14  3  9 19 15  2 10  1  5 18]\n",
            "[14  3  9  0 15  2 10  1  5 18]\n"
          ]
        }
      ],
      "source": [
        "ff = np.random.randint(1,20,10)\n",
        "print(ff)\n",
        "ff[ff.argmax()] = 0\n",
        "print(ff)"
      ]
    },
    {
      "cell_type": "markdown",
      "metadata": {
        "id": "ZfHA_LvXfAlo"
      },
      "source": [
        "#### 46. Create a structured array with `x` and `y` coordinates covering the \\[0,1\\]x\\[0,1\\] area (★★☆) \n",
        "(**hint**: np.meshgrid)"
      ]
    },
    {
      "cell_type": "code",
      "execution_count": null,
      "metadata": {
        "id": "Uy3CW002fAlo",
        "colab": {
          "base_uri": "https://localhost:8080/"
        },
        "outputId": "04fc1747-036e-4451-8294-a6823d778c5c"
      },
      "outputs": [
        {
          "output_type": "stream",
          "name": "stdout",
          "text": [
            "[array([[ 0. ,  2.5,  5. ,  7.5, 10. ],\n",
            "       [ 0. ,  2.5,  5. ,  7.5, 10. ],\n",
            "       [ 0. ,  2.5,  5. ,  7.5, 10. ],\n",
            "       [ 0. ,  2.5,  5. ,  7.5, 10. ],\n",
            "       [ 0. ,  2.5,  5. ,  7.5, 10. ]]), array([[ 0. ,  0. ,  0. ,  0. ,  0. ],\n",
            "       [ 2.5,  2.5,  2.5,  2.5,  2.5],\n",
            "       [ 5. ,  5. ,  5. ,  5. ,  5. ],\n",
            "       [ 7.5,  7.5,  7.5,  7.5,  7.5],\n",
            "       [10. , 10. , 10. , 10. , 10. ]])]\n"
          ]
        }
      ],
      "source": [
        "x = np.linspace(0,10,5)\n",
        "y = np.linspace(0,10,5)\n",
        "xymesh = np.meshgrid(x,y)\n",
        "#print(x)\n",
        "print(xymesh)"
      ]
    },
    {
      "cell_type": "markdown",
      "metadata": {
        "id": "mBBWRpeKfAlo"
      },
      "source": [
        "####  47. Given two arrays, X and Y, construct the Cauchy matrix C (Cij =1/(xi - yj)) \n",
        "(**hint**: np.subtract.outer)"
      ]
    },
    {
      "cell_type": "code",
      "execution_count": null,
      "metadata": {
        "id": "481cMI4UfAlp",
        "colab": {
          "base_uri": "https://localhost:8080/"
        },
        "outputId": "8647e2b0-d204-41ca-c514-44d587775757"
      },
      "outputs": [
        {
          "output_type": "stream",
          "name": "stdout",
          "text": [
            "[[0.16666667 0.21052632 0.28571429 0.44444444 1.        ]\n",
            " [0.13793103 0.16666667 0.21052632 0.28571429 0.44444444]\n",
            " [0.11764706 0.13793103 0.16666667 0.21052632 0.28571429]\n",
            " [0.1025641  0.11764706 0.13793103 0.16666667 0.21052632]\n",
            " [0.09090909 0.1025641  0.11764706 0.13793103 0.16666667]]\n"
          ]
        }
      ],
      "source": [
        "x = np.linspace(6,11,5)\n",
        "y = np.linspace(0,5,5)\n",
        "xmy = np.subtract.outer(x,y)\n",
        "cxy = 1/xmy\n",
        "print(cxy)"
      ]
    },
    {
      "cell_type": "markdown",
      "metadata": {
        "id": "qf2S6qbVfAlp"
      },
      "source": [
        "#### 48. Print the minimum and maximum representable value for each numpy scalar type (★★☆) \n",
        "(**hint**: np.iinfo, np.finfo, eps)"
      ]
    },
    {
      "cell_type": "code",
      "execution_count": null,
      "metadata": {
        "id": "zlWlbr4rfAlp",
        "colab": {
          "base_uri": "https://localhost:8080/"
        },
        "outputId": "9719e19e-625c-437d-f50a-a0568014b638"
      },
      "outputs": [
        {
          "output_type": "stream",
          "name": "stdout",
          "text": [
            "-128\n",
            "127\n",
            "-2147483648\n",
            "2147483647\n",
            "-9223372036854775808\n",
            "9223372036854775807\n",
            "-3.4028235e+38\n",
            "3.4028235e+38\n",
            "1.1920929e-07\n",
            "-1.7976931348623157e+308\n",
            "1.7976931348623157e+308\n",
            "2.220446049250313e-16\n"
          ]
        }
      ],
      "source": [
        "for dtype in [np.int8, np.int32, np.int64, ]:\n",
        "    print(np.iinfo(dtype).min)\n",
        "    print(np.iinfo(dtype).max)\n",
        "for dtype in [np.float32, np.float64]:\n",
        "    print(np.finfo(dtype).min)\n",
        "    print(np.finfo(dtype).max)\n",
        "    print(np.finfo(dtype).eps)"
      ]
    },
    {
      "cell_type": "markdown",
      "metadata": {
        "id": "F7PQUe4RfAlp"
      },
      "source": [
        "#### 49. How to print all the values of an array? (★★☆) \n",
        "(**hint**: np.set\\_printoptions)"
      ]
    },
    {
      "cell_type": "code",
      "execution_count": null,
      "metadata": {
        "id": "gVLCbYaQfAlp"
      },
      "outputs": [],
      "source": [
        "np.set_printoptions(threshold=sys.maxsize)\n",
        "x = np.randn(5)\n",
        "print(x)"
      ]
    },
    {
      "cell_type": "markdown",
      "metadata": {
        "id": "u1xUVrCvfAlp"
      },
      "source": [
        "#### 50. How to find the closest value (to a given scalar) in a vector? (★★☆) \n",
        "(**hint**: argmin)"
      ]
    },
    {
      "cell_type": "code",
      "execution_count": null,
      "metadata": {
        "id": "Q-r7TqsFfAlp",
        "colab": {
          "base_uri": "https://localhost:8080/"
        },
        "outputId": "10bea745-ec07-4666-c2db-5374a708ae66"
      },
      "outputs": [
        {
          "output_type": "stream",
          "name": "stdout",
          "text": [
            "[3.31932652 1.71948771 2.27569977 4.98135901 4.48844889]\n",
            "2.275699773673901\n"
          ]
        }
      ],
      "source": [
        "myarray = np.random.uniform(0,5,5)\n",
        "scalar = 2\n",
        "diffarr = np.abs(myarray - scalar)\n",
        "leastdiff = diffarr.argmin()\n",
        "print(myarray)\n",
        "print(myarray[leastdiff])"
      ]
    },
    {
      "cell_type": "markdown",
      "metadata": {
        "id": "0H39nJFOfAlp"
      },
      "source": [
        "#### 51. Create a structured array representing a position (x,y) and a color (r,g,b) (★★☆) \n",
        "(**hint**: dtype)"
      ]
    },
    {
      "cell_type": "code",
      "execution_count": null,
      "metadata": {
        "id": "7f09utl3fAlp",
        "colab": {
          "base_uri": "https://localhost:8080/"
        },
        "outputId": "3f6f558a-0a01-4a26-d78f-9e080748fff1"
      },
      "outputs": [
        {
          "output_type": "stream",
          "name": "stdout",
          "text": [
            "[((1., 1.), (1., 1., 1.)) ((1., 1.), (1., 1., 1.))\n",
            " ((1., 1.), (1., 1., 1.)) ((1., 1.), (1., 1., 1.))\n",
            " ((1., 1.), (1., 1., 1.)) ((1., 1.), (1., 1., 1.))\n",
            " ((1., 1.), (1., 1., 1.)) ((1., 1.), (1., 1., 1.))\n",
            " ((1., 1.), (1., 1., 1.)) ((1., 1.), (1., 1., 1.))]\n"
          ]
        }
      ],
      "source": [
        "z = np.ones(10, [ ('position', [ ('x', float),\n",
        "                                  ('y', float)]),\n",
        "                   ('color',    [ ('r', float),\n",
        "                                  ('g', float),\n",
        "                                  ('b', float)])])\n",
        "print(z)"
      ]
    },
    {
      "cell_type": "markdown",
      "metadata": {
        "id": "aVV2mmyJfAlp"
      },
      "source": [
        "#### 52. Consider a random vector with shape (100,2) representing coordinates, find point by point distances (★★☆) \n",
        "(**hint**: np.atleast\\_2d, T, np.sqrt)"
      ]
    },
    {
      "cell_type": "code",
      "execution_count": null,
      "metadata": {
        "id": "vPnb53CDfAlp",
        "colab": {
          "base_uri": "https://localhost:8080/"
        },
        "outputId": "5f9bc166-54ba-408f-bbe5-6f52b964091f"
      },
      "outputs": [
        {
          "output_type": "stream",
          "name": "stdout",
          "text": [
            "[[0.         1.1648727  0.88343955 1.11078912 0.82066678 0.71367366\n",
            "  0.69651689 0.52133097 0.89664619 0.92252211]\n",
            " [1.1648727  0.         0.28144846 0.05834856 0.34869333 0.48243651\n",
            "  0.74316377 0.64922866 0.29391335 0.26913229]\n",
            " [0.88343955 0.28144846 0.         0.22840546 0.07788048 0.22419506\n",
            "  0.53814829 0.37012837 0.10802849 0.10673022]\n",
            " [1.11078912 0.05834856 0.22840546 0.         0.29912198 0.43759686\n",
            "  0.6864774  0.59349426 0.23556774 0.23093577]\n",
            " [0.82066678 0.34869333 0.07788048 0.29912198 0.         0.14633284\n",
            "  0.53944101 0.31862775 0.16783953 0.11287927]\n",
            " [0.71367366 0.48243651 0.22419506 0.43759686 0.14633284 0.\n",
            "  0.57500692 0.26404127 0.30435471 0.21744212]\n",
            " [0.69651689 0.74316377 0.53814829 0.6864774  0.53944101 0.57500692\n",
            "  0.         0.36711131 0.46283879 0.63965926]\n",
            " [0.52133097 0.64922866 0.37012837 0.59349426 0.31862775 0.26404127\n",
            "  0.36711131 0.         0.37535083 0.42986284]\n",
            " [0.89664619 0.29391335 0.10802849 0.23556774 0.16783953 0.30435471\n",
            "  0.46283879 0.37535083 0.         0.21086698]\n",
            " [0.92252211 0.26913229 0.10673022 0.23093577 0.11287927 0.21744212\n",
            "  0.63965926 0.42986284 0.21086698 0.        ]]\n"
          ]
        }
      ],
      "source": [
        "arr = np.random.random((100,2))\n",
        "X,Y = np.atleast_2d(arr[:,0],arr[:,1])\n",
        "D = np.sqrt( (X-X.T)**2 + (Y-Y.T)**2)\n",
        "\n",
        "import scipy\n",
        "\n",
        "import scipy.spatial\n",
        "\n",
        "Z = np.random.random((10,2))\n",
        "D = scipy.spatial.distance.cdist(Z,Z)\n",
        "print(D)"
      ]
    },
    {
      "cell_type": "markdown",
      "metadata": {
        "id": "W6DH9m_tfAlp"
      },
      "source": [
        "#### 53. How to convert a float (32 bits) array into an integer (32 bits) in place? \n",
        "(**hint**: astype(copy=False))"
      ]
    },
    {
      "cell_type": "code",
      "execution_count": null,
      "metadata": {
        "id": "QATU7p76fAlq",
        "colab": {
          "base_uri": "https://localhost:8080/"
        },
        "outputId": "9231af9d-12db-466d-9f5c-4474477cfdfc"
      },
      "outputs": [
        {
          "output_type": "stream",
          "name": "stdout",
          "text": [
            "[0. 1. 2. 3. 4. 5. 6. 7. 8. 9.]\n",
            "[0 1 2 3 4 5 6 7 8 9]\n"
          ]
        }
      ],
      "source": [
        "Z = np.arange(10, dtype=np.float32)\n",
        "Z_1 = Z.astype(np.int32, copy=False)\n",
        "print(Z)\n",
        "print(Z_1)"
      ]
    },
    {
      "cell_type": "markdown",
      "metadata": {
        "id": "YBhXBV5pfAlq"
      },
      "source": [
        "#### 54. How to read the following file? (★★☆) \n",
        "(**hint**: np.genfromtxt)"
      ]
    },
    {
      "cell_type": "markdown",
      "metadata": {
        "id": "qJtWyzDVfAlq"
      },
      "source": [
        "```\n",
        "1, 2, 3, 4, 5\n",
        "6,  ,  , 7, 8\n",
        " ,  , 9,10,11\n",
        "```"
      ]
    },
    {
      "cell_type": "code",
      "execution_count": 3,
      "metadata": {
        "id": "WBTpjXJyfAlq",
        "colab": {
          "base_uri": "https://localhost:8080/"
        },
        "outputId": "30f97c70-11eb-440a-c990-2676303c9358"
      },
      "outputs": [
        {
          "output_type": "stream",
          "name": "stdout",
          "text": [
            "[[ 1  2  3  4  5]\n",
            " [ 6 -1 -1  7  8]\n",
            " [-1 -1  9 10 11]]\n"
          ]
        },
        {
          "output_type": "stream",
          "name": "stderr",
          "text": [
            "/usr/local/lib/python3.7/dist-packages/ipykernel_launcher.py:7: DeprecationWarning: `np.int` is a deprecated alias for the builtin `int`. To silence this warning, use `int` by itself. Doing this will not modify any behavior and is safe. When replacing `np.int`, you may wish to use e.g. `np.int64` or `np.int32` to specify the precision. If you wish to review your current use, check the release note link for additional information.\n",
            "Deprecated in NumPy 1.20; for more details and guidance: https://numpy.org/devdocs/release/1.20.0-notes.html#deprecations\n",
            "  import sys\n"
          ]
        }
      ],
      "source": [
        "from io import StringIO\n",
        "\n",
        "# Fake file \n",
        "s = StringIO(\"\"\"1, 2, 3, 4, 5\\n\n",
        "                6,  ,  , 7, 8\\n\n",
        "                 ,  , 9,10,11\\n\"\"\")\n",
        "Z = np.genfromtxt(s, delimiter=\",\", dtype=np.int)\n",
        "print(Z)"
      ]
    },
    {
      "cell_type": "markdown",
      "metadata": {
        "id": "E4il4vKmfAlq"
      },
      "source": [
        "#### 55. What is the equivalent of enumerate for numpy arrays? (★★☆) \n",
        "(**hint**: np.ndenumerate, np.ndindex)"
      ]
    },
    {
      "cell_type": "code",
      "execution_count": 6,
      "metadata": {
        "id": "XmOx0mxdfAlq",
        "colab": {
          "base_uri": "https://localhost:8080/"
        },
        "outputId": "ca9f61df-b254-49f6-85fe-70f5895156c7"
      },
      "outputs": [
        {
          "output_type": "stream",
          "name": "stdout",
          "text": [
            "(0,) 5\n",
            "(1,) 6\n",
            "(2,) 7\n",
            "(3,) 8\n",
            "(4,) 9\n",
            "(0, 0)\n",
            "(0, 1)\n",
            "(1, 0)\n",
            "(1, 1)\n"
          ]
        }
      ],
      "source": [
        "ff = np.arange(5,10)\n",
        "# np.ndenumerate is equivalent of enumerate in numpy\n",
        "for i,e in np.ndenumerate(ff):\n",
        "  print(i,e)\n",
        "# np.ndindex gives the indices for a given shape of array\n",
        "for i in np.ndindex(2,2):\n",
        "  print(i)"
      ]
    },
    {
      "cell_type": "markdown",
      "metadata": {
        "id": "jxpS_oTYfAlq"
      },
      "source": [
        "#### 56. Generate a generic 2D Gaussian-like array (★★☆) \n",
        "(**hint**: np.meshgrid, np.exp)"
      ]
    },
    {
      "cell_type": "code",
      "execution_count": 7,
      "metadata": {
        "id": "PjiZmwq5fAlq",
        "colab": {
          "base_uri": "https://localhost:8080/"
        },
        "outputId": "47149c1e-9c23-4ca6-93e1-fe72e788e420"
      },
      "outputs": [
        {
          "output_type": "stream",
          "name": "stdout",
          "text": [
            "[[0.36787944 0.44822088 0.51979489 0.57375342 0.60279818 0.60279818\n",
            "  0.57375342 0.51979489 0.44822088 0.36787944]\n",
            " [0.44822088 0.54610814 0.63331324 0.69905581 0.73444367 0.73444367\n",
            "  0.69905581 0.63331324 0.54610814 0.44822088]\n",
            " [0.51979489 0.63331324 0.73444367 0.81068432 0.85172308 0.85172308\n",
            "  0.81068432 0.73444367 0.63331324 0.51979489]\n",
            " [0.57375342 0.69905581 0.81068432 0.89483932 0.9401382  0.9401382\n",
            "  0.89483932 0.81068432 0.69905581 0.57375342]\n",
            " [0.60279818 0.73444367 0.85172308 0.9401382  0.98773022 0.98773022\n",
            "  0.9401382  0.85172308 0.73444367 0.60279818]\n",
            " [0.60279818 0.73444367 0.85172308 0.9401382  0.98773022 0.98773022\n",
            "  0.9401382  0.85172308 0.73444367 0.60279818]\n",
            " [0.57375342 0.69905581 0.81068432 0.89483932 0.9401382  0.9401382\n",
            "  0.89483932 0.81068432 0.69905581 0.57375342]\n",
            " [0.51979489 0.63331324 0.73444367 0.81068432 0.85172308 0.85172308\n",
            "  0.81068432 0.73444367 0.63331324 0.51979489]\n",
            " [0.44822088 0.54610814 0.63331324 0.69905581 0.73444367 0.73444367\n",
            "  0.69905581 0.63331324 0.54610814 0.44822088]\n",
            " [0.36787944 0.44822088 0.51979489 0.57375342 0.60279818 0.60279818\n",
            "  0.57375342 0.51979489 0.44822088 0.36787944]]\n"
          ]
        }
      ],
      "source": [
        "sigma,myu = 1.0,0.0\n",
        "\n",
        "X,Y  = np.meshgrid(np.linspace(-1,1,10),np.linspace(-1,1,10))\n",
        "D = np.sqrt(X**2+Y**2)\n",
        "G = np.exp(-(D-myu)**2/(2*sigma**2))\n",
        "print(G)"
      ]
    },
    {
      "cell_type": "markdown",
      "metadata": {
        "id": "koqFQGTtfAlq"
      },
      "source": [
        "#### 57. How to randomly place p elements in a 2D array? (★★☆) \n",
        "(**hint**: np.put, np.random.choice)"
      ]
    },
    {
      "cell_type": "code",
      "execution_count": 19,
      "metadata": {
        "id": "jG4xVnUifAlq",
        "colab": {
          "base_uri": "https://localhost:8080/"
        },
        "outputId": "39bd7a44-2e89-4551-bdac-a458fbc13b78"
      },
      "outputs": [
        {
          "output_type": "stream",
          "name": "stdout",
          "text": [
            "Original Matrix \n",
            " [[0. 0. 0. 0. 0. 0. 0. 0. 0. 0.]\n",
            " [0. 0. 0. 0. 0. 0. 0. 0. 0. 0.]\n",
            " [0. 0. 0. 0. 0. 0. 0. 0. 0. 0.]\n",
            " [0. 0. 0. 0. 0. 0. 0. 0. 0. 0.]\n",
            " [0. 0. 0. 0. 0. 0. 0. 0. 0. 0.]\n",
            " [0. 0. 0. 0. 0. 0. 0. 0. 0. 0.]\n",
            " [0. 0. 0. 0. 0. 0. 0. 0. 0. 0.]\n",
            " [0. 0. 0. 0. 0. 0. 0. 0. 0. 0.]\n",
            " [0. 0. 0. 0. 0. 0. 0. 0. 0. 0.]\n",
            " [0. 0. 0. 0. 0. 0. 0. 0. 0. 0.]]\n",
            "New Matrix \n",
            " [[0. 0. 0. 0. 0. 0. 0. 0. 0. 0.]\n",
            " [0. 0. 0. 0. 1. 0. 0. 0. 0. 0.]\n",
            " [0. 0. 0. 0. 0. 0. 0. 0. 0. 0.]\n",
            " [0. 1. 0. 0. 0. 0. 0. 0. 0. 0.]\n",
            " [0. 0. 0. 0. 0. 0. 0. 0. 0. 0.]\n",
            " [0. 0. 0. 0. 0. 1. 0. 0. 0. 0.]\n",
            " [0. 0. 0. 0. 0. 0. 0. 0. 1. 0.]\n",
            " [0. 1. 0. 0. 0. 0. 0. 1. 0. 0.]\n",
            " [0. 0. 0. 0. 0. 0. 0. 0. 0. 0.]\n",
            " [0. 0. 0. 0. 0. 1. 0. 0. 0. 0.]]\n"
          ]
        }
      ],
      "source": [
        "n = 10\n",
        "p = 8\n",
        "Z = np.zeros((n,n))\n",
        "print('Original Matrix \\n',Z)\n",
        "np.put(Z, np.random.choice(range(n*n), p, replace=True),1)\n",
        "print('New Matrix \\n',Z)"
      ]
    },
    {
      "cell_type": "markdown",
      "metadata": {
        "id": "J5SI_EQPfAlq"
      },
      "source": [
        "#### 58. Subtract the mean of each row of a matrix (★★☆) \n",
        "(**hint**: mean(axis=,keepdims=))"
      ]
    },
    {
      "cell_type": "code",
      "execution_count": 24,
      "metadata": {
        "id": "YxXlTHqgfAlr",
        "colab": {
          "base_uri": "https://localhost:8080/"
        },
        "outputId": "57717f47-b075-419b-be24-65fde614142c"
      },
      "outputs": [
        {
          "output_type": "stream",
          "name": "stdout",
          "text": [
            "[[8 8 6 8 4]\n",
            " [8 3 7 6 3]\n",
            " [7 7 1 4 7]\n",
            " [5 2 2 2 3]\n",
            " [3 8 6 1 6]]\n",
            "[[ 1.8  2.4  1.6  3.8 -0.6]\n",
            " [ 1.8 -2.6  2.6  1.8 -1.6]\n",
            " [ 0.8  1.4 -3.4 -0.2  2.4]\n",
            " [-1.2 -3.6 -2.4 -2.2 -1.6]\n",
            " [-3.2  2.4  1.6 -3.2  1.4]]\n"
          ]
        }
      ],
      "source": [
        "fe = np.random.randint(1,9,25).reshape(5,5)\n",
        "print(fe)\n",
        "fe = fe-fe.mean(axis=0)\n",
        "print(fe)"
      ]
    },
    {
      "cell_type": "markdown",
      "metadata": {
        "id": "YJnlqMhMfAlr"
      },
      "source": [
        "#### 59. How to sort an array by the nth column? (★★☆) \n",
        "(**hint**: argsort)"
      ]
    },
    {
      "cell_type": "code",
      "execution_count": 36,
      "metadata": {
        "id": "QFtpZ2tnfAlr",
        "colab": {
          "base_uri": "https://localhost:8080/"
        },
        "outputId": "568321c4-7878-4625-ffb5-573b91445607"
      },
      "outputs": [
        {
          "output_type": "stream",
          "name": "stdout",
          "text": [
            "[[2 0 5]\n",
            " [5 0 3]\n",
            " [5 3 3]]\n",
            "[[1 0 2]\n",
            " [1 2 0]\n",
            " [1 2 0]]\n"
          ]
        }
      ],
      "source": [
        "fn = np.random.randint(0,9,(3,3))\n",
        "print(fn)\n",
        "fns = np.argsort(fn,axis=-1)\n",
        "print(fns)"
      ]
    },
    {
      "cell_type": "markdown",
      "metadata": {
        "id": "r9JtGrUgfAlr"
      },
      "source": [
        "#### 60. How to tell if a given 2D array has null columns? (★★☆) \n",
        "(**hint**: any, ~)"
      ]
    },
    {
      "cell_type": "code",
      "execution_count": 46,
      "metadata": {
        "id": "nQG79QjjfAlr",
        "colab": {
          "base_uri": "https://localhost:8080/"
        },
        "outputId": "0012fdf5-d756-4e54-91c7-f8b2528dbb5b"
      },
      "outputs": [
        {
          "output_type": "stream",
          "name": "stdout",
          "text": [
            "[[0 1 1]\n",
            " [1 0 1]\n",
            " [1 1 0]]\n",
            "No Null column present\n"
          ]
        }
      ],
      "source": [
        "sy = np.random.randint(0,2,(3,3))\n",
        "print(sy)\n",
        "if False in sy.any(axis=0):\n",
        "  print('Yes, Null column present')\n",
        "else:\n",
        "  print('No Null column present')"
      ]
    },
    {
      "cell_type": "markdown",
      "metadata": {
        "id": "2ReF4ed1fAlr"
      },
      "source": [
        "#### 61. Find the nearest value from a given value in an array (★★☆) \n",
        "(**hint**: np.abs, argmin, flat)"
      ]
    },
    {
      "cell_type": "code",
      "execution_count": 50,
      "metadata": {
        "id": "sVW4QlGWfAlr",
        "colab": {
          "base_uri": "https://localhost:8080/"
        },
        "outputId": "38afa5ee-df75-43ed-98ea-f90accc1bdfa"
      },
      "outputs": [
        {
          "output_type": "stream",
          "name": "stdout",
          "text": [
            "[1.9309103  8.96145573 2.19534119 4.22232095 1.10686846 4.38953403\n",
            " 1.56988959 0.99564485 9.0217198  2.14026871]\n"
          ]
        },
        {
          "output_type": "execute_result",
          "data": {
            "text/plain": [
              "1.9309103041088937"
            ]
          },
          "metadata": {},
          "execution_count": 50
        }
      ],
      "source": [
        "so_array = np.random.uniform(0,10,10)\n",
        "print(so_array)\n",
        "giv_value = 2\n",
        "diff_array = abs(so_array-giv_value)\n",
        "so_array[diff_array.argmin()]"
      ]
    },
    {
      "cell_type": "markdown",
      "metadata": {
        "id": "a7Hn57WQfAlr"
      },
      "source": [
        "#### 62. Considering two arrays with shape (1,3) and (3,1), how to compute their sum using an iterator? (★★☆) \n",
        "(**hint**: np.nditer)"
      ]
    },
    {
      "cell_type": "code",
      "execution_count": 74,
      "metadata": {
        "id": "KrcODKPpfAlr",
        "colab": {
          "base_uri": "https://localhost:8080/"
        },
        "outputId": "b363d923-1818-4516-dab9-f714622cbabd"
      },
      "outputs": [
        {
          "output_type": "stream",
          "name": "stdout",
          "text": [
            "[[7 4 3]]\n",
            "[[1]\n",
            " [7]\n",
            " [2]]\n",
            "[8, 5, 4, 14, 11, 10, 9, 6, 5]\n"
          ]
        }
      ],
      "source": [
        "starr1 = np.random.randint(1,9,(1,3))\n",
        "starr2 = np.random.randint(1,9,(3,1))\n",
        "sumv = []\n",
        "print(starr1)\n",
        "print(starr2)\n",
        "for i,e in np.nditer((starr1,starr2)):\n",
        "  sumv.append(i+e)\n",
        "print(sumv)"
      ]
    },
    {
      "cell_type": "markdown",
      "metadata": {
        "id": "0RdpHxH6fAlr"
      },
      "source": [
        "#### 63. Create an array class that has a name attribute (★★☆) \n",
        "(**hint**: class method)"
      ]
    },
    {
      "cell_type": "code",
      "execution_count": 6,
      "metadata": {
        "id": "CahcokeofAlr",
        "colab": {
          "base_uri": "https://localhost:8080/"
        },
        "outputId": "4574064e-6a12-4f24-b20a-49b6b575926e"
      },
      "outputs": [
        {
          "output_type": "stream",
          "name": "stdout",
          "text": [
            "['Adam' 'Bob' 'Clarke' 'Dave']\n"
          ]
        }
      ],
      "source": [
        "class A:\n",
        "  def __init__(self):\n",
        "    self.name = np.array(['Adam','Bob','Clarke','Dave'])\n",
        "Aobj = A()\n",
        "print(Aobj.name)"
      ]
    },
    {
      "cell_type": "markdown",
      "metadata": {
        "id": "y2-Q11vPfAlr"
      },
      "source": [
        "#### 64. Consider a given vector, how to add 1 to each element indexed by a second vector (be careful with repeated indices)? (★★★) \n",
        "(**hint**: np.bincount | np.add.at)"
      ]
    },
    {
      "cell_type": "code",
      "execution_count": 12,
      "metadata": {
        "id": "3e95bNjsfAlr",
        "colab": {
          "base_uri": "https://localhost:8080/"
        },
        "outputId": "03564109-f311-4f03-ced4-3a9f23384ff2"
      },
      "outputs": [
        {
          "output_type": "stream",
          "name": "stdout",
          "text": [
            "[1. 3. 1. 4. 2. 4. 1. 1. 2. 1.]\n"
          ]
        }
      ],
      "source": [
        "Z = np.zeros(10)\n",
        "I = np.random.randint(0,len(Z),20)\n",
        "#print(I)\n",
        "Z += np.bincount(I)\n",
        "print(Z)"
      ]
    },
    {
      "cell_type": "markdown",
      "metadata": {
        "id": "nJwRiPZAfAlr"
      },
      "source": [
        "#### 65. How to accumulate elements of a vector (X) to an array (F) based on an index list (I)? (★★★) \n",
        "(**hint**: np.bincount)"
      ]
    },
    {
      "cell_type": "code",
      "execution_count": 13,
      "metadata": {
        "id": "5UdBbx4cfAls",
        "colab": {
          "base_uri": "https://localhost:8080/"
        },
        "outputId": "479dea97-bfeb-4919-96f8-6521d3aaba47"
      },
      "outputs": [
        {
          "output_type": "stream",
          "name": "stdout",
          "text": [
            "[0. 7. 0. 6. 5. 0. 0. 0. 0. 3.]\n"
          ]
        }
      ],
      "source": [
        "X = [1,2,3,4,5,6]\n",
        "I = [1,3,9,3,4,1]\n",
        "F = np.bincount(I,X)\n",
        "print(F)"
      ]
    },
    {
      "cell_type": "markdown",
      "metadata": {
        "id": "1x-IDcqCfAls"
      },
      "source": [
        "#### 66. Considering a (w,h,3) image of (dtype=ubyte), compute the number of unique colors (★★★) \n",
        "(**hint**: np.unique)"
      ]
    },
    {
      "cell_type": "code",
      "execution_count": 14,
      "metadata": {
        "id": "RCuJuwfgfAls",
        "colab": {
          "base_uri": "https://localhost:8080/"
        },
        "outputId": "f75c512b-0136-4daa-e412-717587ab1cb4"
      },
      "outputs": [
        {
          "output_type": "stream",
          "name": "stdout",
          "text": [
            "[0 1]\n"
          ]
        }
      ],
      "source": [
        "w,h = 16,16\n",
        "I = np.random.randint(0,2,(h,w,3)).astype(np.ubyte)\n",
        "F = I[...,0]*256*256 + I[...,1]*256 +I[...,2]\n",
        "n = len(np.unique(F))\n",
        "print(np.unique(I))"
      ]
    },
    {
      "cell_type": "markdown",
      "metadata": {
        "id": "s9Ef3TyQfAls"
      },
      "source": [
        "#### 67. Considering a four dimensions array, how to get sum over the last two axis at once? (★★★) \n",
        "(**hint**: sum(axis=(-2,-1)))"
      ]
    },
    {
      "cell_type": "code",
      "execution_count": 15,
      "metadata": {
        "id": "YWe7yGUvfAls",
        "colab": {
          "base_uri": "https://localhost:8080/"
        },
        "outputId": "7de524b0-9701-4562-cfba-12761be7e47a"
      },
      "outputs": [
        {
          "output_type": "stream",
          "name": "stdout",
          "text": [
            "[[72 41 45 34]\n",
            " [58 51 58 62]\n",
            " [48 60 41 62]]\n"
          ]
        }
      ],
      "source": [
        "A = np.random.randint(0,10,(3,4,3,4))\n",
        "sum = A.reshape(A.shape[:-2] + (-1,)).sum(axis=-1)\n",
        "print(sum)"
      ]
    },
    {
      "cell_type": "markdown",
      "metadata": {
        "id": "BsUxiJ9-fAls"
      },
      "source": [
        "#### 68. Considering a one-dimensional vector D, how to compute means of subsets of D using a vector S of same size describing subset  indices? (★★★) \n",
        "(**hint**: np.bincount)"
      ]
    },
    {
      "cell_type": "code",
      "execution_count": 16,
      "metadata": {
        "id": "56EZALIKfAls",
        "colab": {
          "base_uri": "https://localhost:8080/"
        },
        "outputId": "cab1f12c-d329-4c82-ff2d-8bd07a8ebc0b"
      },
      "outputs": [
        {
          "output_type": "stream",
          "name": "stdout",
          "text": [
            "[0.4925154  0.48968662 0.46337905 0.4915801  0.55400701 0.41481324\n",
            " 0.44332136 0.32751033 0.44919117 0.62362731]\n"
          ]
        }
      ],
      "source": [
        "D = np.random.uniform(0,1,100)\n",
        "S = np.random.randint(0,10,100)\n",
        "D_sums = np.bincount(S, weights=D)\n",
        "D_counts = np.bincount(S)\n",
        "D_means = D_sums / D_counts\n",
        "print(D_means)"
      ]
    },
    {
      "cell_type": "markdown",
      "metadata": {
        "id": "H3Md_KZZfAls"
      },
      "source": [
        "#### 69. How to get the diagonal of a dot product? (★★★) \n",
        "(**hint**: np.diag)"
      ]
    },
    {
      "cell_type": "code",
      "execution_count": 20,
      "metadata": {
        "id": "VXHkGYj_fAls",
        "colab": {
          "base_uri": "https://localhost:8080/"
        },
        "outputId": "ca5abc20-12f6-4b99-d93c-316467cf91c0"
      },
      "outputs": [
        {
          "output_type": "stream",
          "name": "stdout",
          "text": [
            "[[28]]\n"
          ]
        }
      ],
      "source": [
        "arr1 = np.random.randint(1,5,5)\n",
        "arr2 = np.random.randint(1,5,5).reshape(5,1)\n",
        "arr3 = np.dot(arr1,arr2)\n",
        "print(np.diag(arr3))"
      ]
    },
    {
      "cell_type": "markdown",
      "metadata": {
        "id": "ycen960OfAls"
      },
      "source": [
        "#### 70. Consider the vector \\[1, 2, 3, 4, 5\\], how to build a new vector with 3 consecutive zeros interleaved between each value? (★★★) \n",
        "(**hint**: array\\[::4\\])"
      ]
    },
    {
      "cell_type": "code",
      "execution_count": 21,
      "metadata": {
        "id": "1mzjajxmfAls",
        "colab": {
          "base_uri": "https://localhost:8080/"
        },
        "outputId": "eafd5479-bc88-4cc8-f72b-aceee94af21c"
      },
      "outputs": [
        {
          "output_type": "stream",
          "name": "stdout",
          "text": [
            "[1. 0. 0. 0. 2. 0. 0. 0. 3. 0. 0. 0. 4. 0. 0. 0. 5.]\n"
          ]
        }
      ],
      "source": [
        "Z = np.array([1,2,3,4,5])\n",
        "nz = 3\n",
        "Z0 = np.zeros(len(Z) + (len(Z)-1)*(nz))\n",
        "Z0[::nz+1] = Z\n",
        "print(Z0)"
      ]
    },
    {
      "cell_type": "markdown",
      "metadata": {
        "id": "D7apCTm_fAls"
      },
      "source": [
        "#### 71. Consider an array of dimension (5,5,3), how to mulitply it by an array with dimensions (5,5)? (★★★) \n",
        "(**hint**: array\\[:, :, None\\])"
      ]
    },
    {
      "cell_type": "code",
      "execution_count": 22,
      "metadata": {
        "collapsed": true,
        "id": "yx1_3yS4fAls",
        "colab": {
          "base_uri": "https://localhost:8080/"
        },
        "outputId": "489a5ada-8ada-47c0-ef5a-872d4a331838"
      },
      "outputs": [
        {
          "output_type": "stream",
          "name": "stdout",
          "text": [
            "[[[2. 2. 2.]\n",
            "  [2. 2. 2.]\n",
            "  [2. 2. 2.]\n",
            "  [2. 2. 2.]\n",
            "  [2. 2. 2.]]\n",
            "\n",
            " [[2. 2. 2.]\n",
            "  [2. 2. 2.]\n",
            "  [2. 2. 2.]\n",
            "  [2. 2. 2.]\n",
            "  [2. 2. 2.]]\n",
            "\n",
            " [[2. 2. 2.]\n",
            "  [2. 2. 2.]\n",
            "  [2. 2. 2.]\n",
            "  [2. 2. 2.]\n",
            "  [2. 2. 2.]]\n",
            "\n",
            " [[2. 2. 2.]\n",
            "  [2. 2. 2.]\n",
            "  [2. 2. 2.]\n",
            "  [2. 2. 2.]\n",
            "  [2. 2. 2.]]\n",
            "\n",
            " [[2. 2. 2.]\n",
            "  [2. 2. 2.]\n",
            "  [2. 2. 2.]\n",
            "  [2. 2. 2.]\n",
            "  [2. 2. 2.]]]\n"
          ]
        }
      ],
      "source": [
        "A = np.ones((5,5,3))\n",
        "B = 2*np.ones((5,5))\n",
        "print(A * B[:,:,None])"
      ]
    },
    {
      "cell_type": "markdown",
      "metadata": {
        "id": "Ybk5oZozfAlt"
      },
      "source": [
        "#### 72. How to swap two rows of an array? (★★★) \n",
        "(**hint**: array\\[\\[\\]\\] = array\\[\\[\\]\\])"
      ]
    },
    {
      "cell_type": "code",
      "execution_count": 30,
      "metadata": {
        "id": "5OnR388ofAlt",
        "colab": {
          "base_uri": "https://localhost:8080/"
        },
        "outputId": "ddaeb846-d3c3-4152-ca45-ff53d8fb5206"
      },
      "outputs": [
        {
          "output_type": "stream",
          "name": "stdout",
          "text": [
            "[[10 11 12 13 14]\n",
            " [ 5  6  7  8  9]\n",
            " [ 0  1  2  3  4]\n",
            " [15 16 17 18 19]\n",
            " [20 21 22 23 24]]\n"
          ]
        }
      ],
      "source": [
        "A = np.arange(25).reshape(5,5)\n",
        "A[[0,1,2]] = A[[2,1,0]] # swap 1st and 3rd row\n",
        "print(A)"
      ]
    },
    {
      "cell_type": "markdown",
      "metadata": {
        "id": "9BDd51HefAlt"
      },
      "source": [
        "#### 73. Consider a set of 10 triplets describing 10 triangles (with shared vertices), find the set of unique line segments composing all the  triangles (★★★) \n",
        "(**hint**: repeat, np.roll, np.sort, view, np.unique)"
      ]
    },
    {
      "cell_type": "code",
      "execution_count": 31,
      "metadata": {
        "id": "YT6wZXpdfAlt",
        "colab": {
          "base_uri": "https://localhost:8080/"
        },
        "outputId": "fd545d8a-0f86-44bd-9f69-6823606e6249"
      },
      "outputs": [
        {
          "output_type": "stream",
          "name": "stdout",
          "text": [
            "[( 1, 10) ( 1, 33) ( 1, 58) ( 1, 59) ( 6, 21) ( 6, 23) ( 7, 35) ( 7, 72)\n",
            " (10, 58) (10, 77) (10, 83) (13, 19) (13, 99) (19, 99) (21, 23) (27, 38)\n",
            " (27, 86) (33, 59) (35, 72) (36, 49) (36, 88) (38, 86) (39, 53) (39, 81)\n",
            " (40, 52) (40, 59) (49, 88) (52, 59) (53, 81) (77, 83)]\n"
          ]
        }
      ],
      "source": [
        "faces = np.random.randint(0,100,(10,3))\n",
        "F = np.roll(faces.repeat(2,axis=1),-1,axis=1)\n",
        "F = F.reshape(len(F)*3,2)\n",
        "F = np.sort(F,axis=1)\n",
        "G = F.view( dtype=[('p0',F.dtype),('p1',F.dtype)] )\n",
        "G = np.unique(G)\n",
        "print(G)"
      ]
    },
    {
      "cell_type": "markdown",
      "metadata": {
        "id": "TGwhZHc5fAlt"
      },
      "source": [
        "#### 74. Given an array C that is a bincount, how to produce an array A such that np.bincount(A) == C? (★★★) \n",
        "(**hint**: np.repeat)"
      ]
    },
    {
      "cell_type": "code",
      "execution_count": 32,
      "metadata": {
        "id": "I5gmGBnUfAlt",
        "colab": {
          "base_uri": "https://localhost:8080/"
        },
        "outputId": "f135a0e0-d08c-4e53-87f5-7f838ef1f842"
      },
      "outputs": [
        {
          "output_type": "stream",
          "name": "stdout",
          "text": [
            "[1 1 2 3 4 4 6]\n"
          ]
        }
      ],
      "source": [
        "C = np.bincount([1,1,2,3,4,4,6])\n",
        "A = np.repeat(np.arange(len(C)), C)\n",
        "print(A)"
      ]
    },
    {
      "cell_type": "markdown",
      "metadata": {
        "id": "w2xEMbcSfAlt"
      },
      "source": [
        "#### 75. How to compute averages using a sliding window over an array? (★★★) \n",
        "(**hint**: np.cumsum)"
      ]
    },
    {
      "cell_type": "code",
      "execution_count": 33,
      "metadata": {
        "id": "1ucvtnEffAlt",
        "colab": {
          "base_uri": "https://localhost:8080/"
        },
        "outputId": "abaafcb0-f914-4290-b5e7-3738cc65dacc"
      },
      "outputs": [
        {
          "output_type": "stream",
          "name": "stdout",
          "text": [
            "[ 1.  2.  3.  4.  5.  6.  7.  8.  9. 10. 11. 12. 13. 14. 15. 16. 17. 18.]\n"
          ]
        }
      ],
      "source": [
        "def moving_average(a, n=3) :\n",
        "    ret = np.cumsum(a, dtype=float)\n",
        "    ret[n:] = ret[n:] - ret[:-n]\n",
        "    return ret[n - 1:] / n\n",
        "Z = np.arange(20)\n",
        "print(moving_average(Z, n=3))"
      ]
    },
    {
      "cell_type": "markdown",
      "metadata": {
        "id": "5Lw5mahSfAlt"
      },
      "source": [
        "#### 76. Consider a one-dimensional array Z, build a two-dimensional array whose first row is (Z\\[0\\],Z\\[1\\],Z\\[2\\]) and each subsequent row is  shifted by 1 (last row should be (Z\\[-3\\],Z\\[-2\\],Z\\[-1\\]) (★★★) \n",
        "(**hint**: from numpy.lib import stride_tricks)"
      ]
    },
    {
      "cell_type": "code",
      "execution_count": 34,
      "metadata": {
        "id": "Av3tQyqlfAlt",
        "colab": {
          "base_uri": "https://localhost:8080/"
        },
        "outputId": "ef21ec48-7025-4be9-b655-c88236403fa8"
      },
      "outputs": [
        {
          "output_type": "stream",
          "name": "stdout",
          "text": [
            "[[0 1 2]\n",
            " [1 2 3]\n",
            " [2 3 4]\n",
            " [3 4 5]\n",
            " [4 5 6]\n",
            " [5 6 7]\n",
            " [6 7 8]\n",
            " [7 8 9]]\n"
          ]
        }
      ],
      "source": [
        "def rolling(a, window):\n",
        "    shape = (a.size - window + 1, window)\n",
        "    strides = (a.itemsize, a.itemsize)\n",
        "    return np.lib.stride_tricks.as_strided(a, shape=shape, strides=strides)\n",
        "Z = rolling(np.arange(10), 3)\n",
        "print(Z)"
      ]
    },
    {
      "cell_type": "markdown",
      "metadata": {
        "id": "zY-9SNGbfAlt"
      },
      "source": [
        "#### 77. How to negate a boolean, or to change the sign of a float inplace? (★★★) \n",
        "(**hint**: np.logical_not, np.negative)"
      ]
    },
    {
      "cell_type": "code",
      "execution_count": 37,
      "metadata": {
        "id": "5CFBiLGefAlt",
        "colab": {
          "base_uri": "https://localhost:8080/"
        },
        "outputId": "4ac1d0b7-c31e-461c-eb2b-54940aff3bdf"
      },
      "outputs": [
        {
          "output_type": "stream",
          "name": "stdout",
          "text": [
            "original: \n",
            "[0 1 1 1 1 0 1 1 1 1]\n",
            "Negating a boolean: \n",
            "[1 0 0 0 0 1 0 0 0 0]\n",
            "original: \n",
            "[ 2.72671684  2.91387844  9.49527202 -3.38092498]\n",
            "Change the sign of float inplace: \n",
            "[-2.72671684 -2.91387844 -9.49527202  3.38092498]\n"
          ]
        }
      ],
      "source": [
        "Z = np.random.randint(0,2,10)\n",
        "print ('original: ')\n",
        "print (Z)\n",
        "print('Negating a boolean: ')\n",
        "print(np.logical_not(Z, out=Z))\n",
        "\n",
        "Z = np.random.uniform(-10,10,4)\n",
        "print ('original: ')\n",
        "print (Z)\n",
        "print ('Change the sign of float inplace: ')\n",
        "print(np.negative(Z, out=Z))"
      ]
    },
    {
      "cell_type": "markdown",
      "metadata": {
        "id": "gILpSLvzfAlt"
      },
      "source": [
        "#### 78. Consider 2 sets of points P0,P1 describing lines (2d) and a point p, how to compute distance from p to each line i  (P0\\[i\\],P1\\[i\\])? (★★★)"
      ]
    },
    {
      "cell_type": "code",
      "execution_count": 38,
      "metadata": {
        "id": "NNmyrRmHfAlu",
        "colab": {
          "base_uri": "https://localhost:8080/"
        },
        "outputId": "72f02c82-5c90-4765-8ae5-839f6a6f3dd4"
      },
      "outputs": [
        {
          "output_type": "stream",
          "name": "stdout",
          "text": [
            "[ 3.4919108   3.73019581  4.24560978  2.51198934  5.75053076  6.30265805\n",
            "  1.37204361 10.13772302  2.09513651  7.84134305]\n"
          ]
        }
      ],
      "source": [
        "def distance(P0, P1, p):\n",
        "    T = P1 - P0\n",
        "    L = (T**2).sum(axis=1)\n",
        "    U = -((P0[:,0]-p[...,0])*T[:,0] + (P0[:,1]-p[...,1])*T[:,1]) / L\n",
        "    U = U.reshape(len(U),1)\n",
        "    D = P0 + U*T - p\n",
        "    return np.sqrt((D**2).sum(axis=1))\n",
        "\n",
        "P0 = np.random.uniform(-10,10,(10,2))\n",
        "P1 = np.random.uniform(-10,10,(10,2))\n",
        "p  = np.random.uniform(-10,10,( 1,2))\n",
        "print(distance(P0, P1, p))"
      ]
    },
    {
      "cell_type": "markdown",
      "metadata": {
        "id": "3_BJi3nrfAlu"
      },
      "source": [
        "#### 79. Consider 2 sets of points P0,P1 describing lines (2d) and a set of points P, how to compute distance from each point j (P\\[j\\]) to each line i (P0\\[i\\],P1\\[i\\])? (★★★)"
      ]
    },
    {
      "cell_type": "code",
      "execution_count": 39,
      "metadata": {
        "id": "Z1fUfR6SfAlu",
        "colab": {
          "base_uri": "https://localhost:8080/"
        },
        "outputId": "88329a49-acc2-4267-f72f-e7650fad1671"
      },
      "outputs": [
        {
          "output_type": "stream",
          "name": "stdout",
          "text": [
            "[[ 6.44093323  5.42340094  6.59271038 10.47829968  3.3527949 ]\n",
            " [ 3.12682842  8.461388    0.35153205  6.44781258  9.70641039]\n",
            " [ 2.93047449  0.51232048  7.37328556  7.41484265  0.03836739]\n",
            " [ 7.18515786  8.91845988  3.9711575  10.76375868  7.08756298]\n",
            " [ 9.49250335 10.59644968  5.00942628 13.00721298  7.35089932]]\n"
          ]
        }
      ],
      "source": [
        "P0 = np.random.uniform(-10, 10, (5,2))\n",
        "P1 = np.random.uniform(-10,10,(5,2))\n",
        "p = np.random.uniform(-10, 10, (5,2))\n",
        "print (np.array([distance(P0,P1,p_i) for p_i in p]))"
      ]
    },
    {
      "cell_type": "markdown",
      "metadata": {
        "id": "nVE7tk0efAlu"
      },
      "source": [
        "#### 80. Consider an arbitrary array, write a function that extract a subpart with a fixed shape and centered on a given element (pad with a `fill` value when necessary) (★★★) \n",
        "(**hint**: minimum, maximum)"
      ]
    },
    {
      "cell_type": "code",
      "execution_count": 40,
      "metadata": {
        "id": "AYCsgQyUfAlu",
        "colab": {
          "base_uri": "https://localhost:8080/"
        },
        "outputId": "3cfb4032-6ee6-4dae-ddcd-9a46119ec92a"
      },
      "outputs": [
        {
          "output_type": "stream",
          "name": "stdout",
          "text": [
            "[[7 2 5 6 4 7 8 2 5 1]\n",
            " [5 3 3 1 8 3 1 1 4 0]\n",
            " [1 5 1 7 5 2 1 4 3 7]\n",
            " [3 2 4 9 7 4 5 4 4 0]\n",
            " [3 1 5 9 2 4 2 3 0 1]\n",
            " [5 0 7 3 4 4 8 3 3 1]\n",
            " [7 7 6 8 7 3 0 2 7 5]\n",
            " [9 5 3 5 9 6 1 5 6 9]\n",
            " [6 8 6 7 2 3 3 3 8 4]\n",
            " [8 9 2 2 9 3 1 6 1 0]]\n",
            "[[0 0 0 0 0]\n",
            " [0 7 2 5 6]\n",
            " [0 5 3 3 1]\n",
            " [0 1 5 1 7]\n",
            " [0 3 2 4 9]]\n"
          ]
        },
        {
          "output_type": "stream",
          "name": "stderr",
          "text": [
            "/usr/local/lib/python3.7/dist-packages/ipykernel_launcher.py:23: FutureWarning: Using a non-tuple sequence for multidimensional indexing is deprecated; use `arr[tuple(seq)]` instead of `arr[seq]`. In the future this will be interpreted as an array index, `arr[np.array(seq)]`, which will result either in an error or a different result.\n"
          ]
        }
      ],
      "source": [
        "Z = np.random.randint(0,10,(10,10))\n",
        "shape = (5,5)\n",
        "fill  = 0\n",
        "position = (1,1)\n",
        "\n",
        "R = np.ones(shape, dtype=Z.dtype)*fill\n",
        "P  = np.array(list(position)).astype(int)\n",
        "Rs = np.array(list(R.shape)).astype(int)\n",
        "Zs = np.array(list(Z.shape)).astype(int)\n",
        "\n",
        "R_start = np.zeros((len(shape),)).astype(int)\n",
        "R_stop  = np.array(list(shape)).astype(int)\n",
        "Z_start = (P-Rs//2)\n",
        "Z_stop  = (P+Rs//2)+Rs%2\n",
        "\n",
        "R_start = (R_start - np.minimum(Z_start,0)).tolist()\n",
        "Z_start = (np.maximum(Z_start,0)).tolist()\n",
        "R_stop = np.maximum(R_start, (R_stop - np.maximum(Z_stop-Zs,0))).tolist()\n",
        "Z_stop = (np.minimum(Z_stop,Zs)).tolist()\n",
        "\n",
        "r = [slice(start,stop) for start,stop in zip(R_start,R_stop)]\n",
        "z = [slice(start,stop) for start,stop in zip(Z_start,Z_stop)]\n",
        "R[r] = Z[z]\n",
        "print(Z)\n",
        "print(R)"
      ]
    },
    {
      "cell_type": "markdown",
      "metadata": {
        "id": "AIaKaDrQfAlu"
      },
      "source": [
        "#### 81. Consider an array Z = \\[1,2,3,4,5,6,7,8,9,10,11,12,13,14\\], how to generate an array R = \\[\\[1,2,3,4\\], \\[2,3,4,5\\], \\[3,4,5,6\\], ..., \\[11,12,13,14\\]\\]? (★★★) \n",
        "(**hint**: stride\\_tricks.as\\_strided)"
      ]
    },
    {
      "cell_type": "code",
      "execution_count": 41,
      "metadata": {
        "id": "IrHKjbHkfAlu",
        "colab": {
          "base_uri": "https://localhost:8080/"
        },
        "outputId": "4c369436-e001-4ec1-87ea-80b4ab2ba9fc"
      },
      "outputs": [
        {
          "output_type": "stream",
          "name": "stdout",
          "text": [
            "original: \n",
            "[ 1  2  3  4  5  6  7  8  9 10 11 12 13 14]\n",
            "after strides: \n",
            "[[ 1  2  3  4]\n",
            " [ 2  3  4  5]\n",
            " [ 3  4  5  6]\n",
            " [ 4  5  6  7]\n",
            " [ 5  6  7  8]\n",
            " [ 6  7  8  9]\n",
            " [ 7  8  9 10]\n",
            " [ 8  9 10 11]\n",
            " [ 9 10 11 12]\n",
            " [10 11 12 13]\n",
            " [11 12 13 14]]\n"
          ]
        }
      ],
      "source": [
        "Z = np.arange(1,15,dtype=int)\n",
        "\n",
        "def rolling(a, window):\n",
        "    shape = (a.size - window + 1, window)\n",
        "    strides = (a.itemsize, a.itemsize)\n",
        "    return np.lib.stride_tricks.as_strided(a, shape=shape, strides=strides)\n",
        "R = rolling(Z, 4)\n",
        "print ('original: ')\n",
        "print (Z)\n",
        "print ('after strides: ')\n",
        "print(R)"
      ]
    },
    {
      "cell_type": "markdown",
      "metadata": {
        "id": "0fdydiPhfAlu"
      },
      "source": [
        "#### 82. Compute a matrix rank (★★★) \n",
        "(**hint**: np.linalg.svd) (suggestion: np.linalg.svd)"
      ]
    },
    {
      "cell_type": "code",
      "execution_count": 42,
      "metadata": {
        "id": "2PSJQVVQfAlu",
        "colab": {
          "base_uri": "https://localhost:8080/"
        },
        "outputId": "34a645bd-a66a-441f-de4e-682b65ef660d"
      },
      "outputs": [
        {
          "output_type": "stream",
          "name": "stdout",
          "text": [
            "10\n"
          ]
        }
      ],
      "source": [
        "Z = np.random.uniform(0,1,(10,10))\n",
        "U, S, V = np.linalg.svd(Z) # Singular Value Decomposition\n",
        "rank = np.sum(S > 1e-10)\n",
        "print (rank)"
      ]
    },
    {
      "cell_type": "markdown",
      "metadata": {
        "id": "uMzH9UCmfAlu"
      },
      "source": [
        "#### 83. How to find the most frequent value in an array? \n",
        "(**hint**: np.bincount, argmax)"
      ]
    },
    {
      "cell_type": "code",
      "execution_count": 43,
      "metadata": {
        "id": "LuKuqg6hfAlu",
        "colab": {
          "base_uri": "https://localhost:8080/"
        },
        "outputId": "e79215e1-d4df-41d7-fd3f-2500155ec69d"
      },
      "outputs": [
        {
          "output_type": "stream",
          "name": "stdout",
          "text": [
            "[1 3 4 2 4 2 2 4 1 4]\n",
            "4\n"
          ]
        }
      ],
      "source": [
        "et = np.random.randint(1,5,10)\n",
        "print(et)\n",
        "etbin = np.bincount(et)\n",
        "print(np.argmax(etbin))"
      ]
    },
    {
      "cell_type": "markdown",
      "metadata": {
        "id": "MyThLvwQfAlu"
      },
      "source": [
        "#### 84. Extract all the contiguous 3x3 blocks from a random 10x10 matrix (★★★) \n",
        "(**hint**: stride\\_tricks.as\\_strided)"
      ]
    },
    {
      "cell_type": "code",
      "execution_count": 45,
      "metadata": {
        "id": "LE_2RxkzfAlu",
        "colab": {
          "base_uri": "https://localhost:8080/"
        },
        "outputId": "83801850-da26-4cd8-e1e4-0583a109bb66"
      },
      "outputs": [
        {
          "output_type": "stream",
          "name": "stdout",
          "text": [
            "Original arrays:\n",
            "[[1 2 0 3 4 1 1 4 2 3]\n",
            " [1 3 0 4 2 0 2 0 4 2]\n",
            " [3 2 4 4 1 2 0 2 0 0]\n",
            " [4 1 0 1 4 2 4 4 2 0]\n",
            " [3 1 4 4 2 2 0 1 3 1]\n",
            " [4 3 3 4 4 1 2 2 1 2]\n",
            " [1 2 3 2 1 3 2 1 0 0]\n",
            " [0 1 3 4 0 4 1 0 1 1]\n",
            " [4 4 0 4 2 3 3 2 0 2]\n",
            " [0 4 1 2 0 1 1 1 3 3]]\n",
            "\n",
            "Contiguous 3x3 blocks:\n",
            "[[[[1 2 0]\n",
            "   [1 3 0]\n",
            "   [3 2 4]]\n",
            "\n",
            "  [[2 0 3]\n",
            "   [3 0 4]\n",
            "   [2 4 4]]\n",
            "\n",
            "  [[0 3 4]\n",
            "   [0 4 2]\n",
            "   [4 4 1]]\n",
            "\n",
            "  [[3 4 1]\n",
            "   [4 2 0]\n",
            "   [4 1 2]]\n",
            "\n",
            "  [[4 1 1]\n",
            "   [2 0 2]\n",
            "   [1 2 0]]\n",
            "\n",
            "  [[1 1 4]\n",
            "   [0 2 0]\n",
            "   [2 0 2]]\n",
            "\n",
            "  [[1 4 2]\n",
            "   [2 0 4]\n",
            "   [0 2 0]]\n",
            "\n",
            "  [[4 2 3]\n",
            "   [0 4 2]\n",
            "   [2 0 0]]]\n",
            "\n",
            "\n",
            " [[[1 3 0]\n",
            "   [3 2 4]\n",
            "   [4 1 0]]\n",
            "\n",
            "  [[3 0 4]\n",
            "   [2 4 4]\n",
            "   [1 0 1]]\n",
            "\n",
            "  [[0 4 2]\n",
            "   [4 4 1]\n",
            "   [0 1 4]]\n",
            "\n",
            "  [[4 2 0]\n",
            "   [4 1 2]\n",
            "   [1 4 2]]\n",
            "\n",
            "  [[2 0 2]\n",
            "   [1 2 0]\n",
            "   [4 2 4]]\n",
            "\n",
            "  [[0 2 0]\n",
            "   [2 0 2]\n",
            "   [2 4 4]]\n",
            "\n",
            "  [[2 0 4]\n",
            "   [0 2 0]\n",
            "   [4 4 2]]\n",
            "\n",
            "  [[0 4 2]\n",
            "   [2 0 0]\n",
            "   [4 2 0]]]\n",
            "\n",
            "\n",
            " [[[3 2 4]\n",
            "   [4 1 0]\n",
            "   [3 1 4]]\n",
            "\n",
            "  [[2 4 4]\n",
            "   [1 0 1]\n",
            "   [1 4 4]]\n",
            "\n",
            "  [[4 4 1]\n",
            "   [0 1 4]\n",
            "   [4 4 2]]\n",
            "\n",
            "  [[4 1 2]\n",
            "   [1 4 2]\n",
            "   [4 2 2]]\n",
            "\n",
            "  [[1 2 0]\n",
            "   [4 2 4]\n",
            "   [2 2 0]]\n",
            "\n",
            "  [[2 0 2]\n",
            "   [2 4 4]\n",
            "   [2 0 1]]\n",
            "\n",
            "  [[0 2 0]\n",
            "   [4 4 2]\n",
            "   [0 1 3]]\n",
            "\n",
            "  [[2 0 0]\n",
            "   [4 2 0]\n",
            "   [1 3 1]]]\n",
            "\n",
            "\n",
            " [[[4 1 0]\n",
            "   [3 1 4]\n",
            "   [4 3 3]]\n",
            "\n",
            "  [[1 0 1]\n",
            "   [1 4 4]\n",
            "   [3 3 4]]\n",
            "\n",
            "  [[0 1 4]\n",
            "   [4 4 2]\n",
            "   [3 4 4]]\n",
            "\n",
            "  [[1 4 2]\n",
            "   [4 2 2]\n",
            "   [4 4 1]]\n",
            "\n",
            "  [[4 2 4]\n",
            "   [2 2 0]\n",
            "   [4 1 2]]\n",
            "\n",
            "  [[2 4 4]\n",
            "   [2 0 1]\n",
            "   [1 2 2]]\n",
            "\n",
            "  [[4 4 2]\n",
            "   [0 1 3]\n",
            "   [2 2 1]]\n",
            "\n",
            "  [[4 2 0]\n",
            "   [1 3 1]\n",
            "   [2 1 2]]]\n",
            "\n",
            "\n",
            " [[[3 1 4]\n",
            "   [4 3 3]\n",
            "   [1 2 3]]\n",
            "\n",
            "  [[1 4 4]\n",
            "   [3 3 4]\n",
            "   [2 3 2]]\n",
            "\n",
            "  [[4 4 2]\n",
            "   [3 4 4]\n",
            "   [3 2 1]]\n",
            "\n",
            "  [[4 2 2]\n",
            "   [4 4 1]\n",
            "   [2 1 3]]\n",
            "\n",
            "  [[2 2 0]\n",
            "   [4 1 2]\n",
            "   [1 3 2]]\n",
            "\n",
            "  [[2 0 1]\n",
            "   [1 2 2]\n",
            "   [3 2 1]]\n",
            "\n",
            "  [[0 1 3]\n",
            "   [2 2 1]\n",
            "   [2 1 0]]\n",
            "\n",
            "  [[1 3 1]\n",
            "   [2 1 2]\n",
            "   [1 0 0]]]\n",
            "\n",
            "\n",
            " [[[4 3 3]\n",
            "   [1 2 3]\n",
            "   [0 1 3]]\n",
            "\n",
            "  [[3 3 4]\n",
            "   [2 3 2]\n",
            "   [1 3 4]]\n",
            "\n",
            "  [[3 4 4]\n",
            "   [3 2 1]\n",
            "   [3 4 0]]\n",
            "\n",
            "  [[4 4 1]\n",
            "   [2 1 3]\n",
            "   [4 0 4]]\n",
            "\n",
            "  [[4 1 2]\n",
            "   [1 3 2]\n",
            "   [0 4 1]]\n",
            "\n",
            "  [[1 2 2]\n",
            "   [3 2 1]\n",
            "   [4 1 0]]\n",
            "\n",
            "  [[2 2 1]\n",
            "   [2 1 0]\n",
            "   [1 0 1]]\n",
            "\n",
            "  [[2 1 2]\n",
            "   [1 0 0]\n",
            "   [0 1 1]]]\n",
            "\n",
            "\n",
            " [[[1 2 3]\n",
            "   [0 1 3]\n",
            "   [4 4 0]]\n",
            "\n",
            "  [[2 3 2]\n",
            "   [1 3 4]\n",
            "   [4 0 4]]\n",
            "\n",
            "  [[3 2 1]\n",
            "   [3 4 0]\n",
            "   [0 4 2]]\n",
            "\n",
            "  [[2 1 3]\n",
            "   [4 0 4]\n",
            "   [4 2 3]]\n",
            "\n",
            "  [[1 3 2]\n",
            "   [0 4 1]\n",
            "   [2 3 3]]\n",
            "\n",
            "  [[3 2 1]\n",
            "   [4 1 0]\n",
            "   [3 3 2]]\n",
            "\n",
            "  [[2 1 0]\n",
            "   [1 0 1]\n",
            "   [3 2 0]]\n",
            "\n",
            "  [[1 0 0]\n",
            "   [0 1 1]\n",
            "   [2 0 2]]]\n",
            "\n",
            "\n",
            " [[[0 1 3]\n",
            "   [4 4 0]\n",
            "   [0 4 1]]\n",
            "\n",
            "  [[1 3 4]\n",
            "   [4 0 4]\n",
            "   [4 1 2]]\n",
            "\n",
            "  [[3 4 0]\n",
            "   [0 4 2]\n",
            "   [1 2 0]]\n",
            "\n",
            "  [[4 0 4]\n",
            "   [4 2 3]\n",
            "   [2 0 1]]\n",
            "\n",
            "  [[0 4 1]\n",
            "   [2 3 3]\n",
            "   [0 1 1]]\n",
            "\n",
            "  [[4 1 0]\n",
            "   [3 3 2]\n",
            "   [1 1 1]]\n",
            "\n",
            "  [[1 0 1]\n",
            "   [3 2 0]\n",
            "   [1 1 3]]\n",
            "\n",
            "  [[0 1 1]\n",
            "   [2 0 2]\n",
            "   [1 3 3]]]]\n"
          ]
        }
      ],
      "source": [
        "arra1 = np.random.randint(0,5,(10,10))\n",
        "print(\"Original arrays:\")\n",
        "print(arra1)\n",
        "n = 3\n",
        "i = 1 + (arra1.shape[0]-3)\n",
        "j = 1 + (arra1.shape[1]-3)\n",
        "result = np.lib.stride_tricks.as_strided(arra1, shape=(i, j, n, n), strides = arra1.strides + arra1.strides)\n",
        "print(\"\\nContiguous 3x3 blocks:\")\n",
        "print(result)"
      ]
    },
    {
      "cell_type": "markdown",
      "metadata": {
        "id": "CPdIn7iXfAlu"
      },
      "source": [
        "#### 85. Create a 2D array subclass such that Z\\[i,j\\] == Z\\[j,i\\] (★★★) \n",
        "(**hint**: class method)"
      ]
    },
    {
      "cell_type": "code",
      "execution_count": 46,
      "metadata": {
        "id": "YsFUHTtsfAlv"
      },
      "outputs": [],
      "source": [
        ""
      ]
    },
    {
      "cell_type": "markdown",
      "metadata": {
        "id": "IWCmKG9YfAlv"
      },
      "source": [
        "#### 86. Consider a set of p matrices wich shape (n,n) and a set of p vectors with shape (n,1). How to compute the sum of of the p matrix products at once? (result has shape (n,1)) (★★★) \n",
        "(**hint**: np.tensordot)"
      ]
    },
    {
      "cell_type": "code",
      "execution_count": 47,
      "metadata": {
        "id": "wOIKDeYKfAlv",
        "colab": {
          "base_uri": "https://localhost:8080/"
        },
        "outputId": "ed3d1bd5-f086-48eb-8b0f-39fe5580b4ca"
      },
      "outputs": [
        {
          "output_type": "stream",
          "name": "stdout",
          "text": [
            "[[200.]\n",
            " [200.]\n",
            " [200.]\n",
            " [200.]\n",
            " [200.]\n",
            " [200.]\n",
            " [200.]\n",
            " [200.]\n",
            " [200.]\n",
            " [200.]\n",
            " [200.]\n",
            " [200.]\n",
            " [200.]\n",
            " [200.]\n",
            " [200.]\n",
            " [200.]\n",
            " [200.]\n",
            " [200.]\n",
            " [200.]\n",
            " [200.]]\n"
          ]
        }
      ],
      "source": [
        "p, n = 10, 20\n",
        "M = np.ones((p,n,n))\n",
        "V = np.ones((p,n,1))\n",
        "S = np.tensordot(M, V, axes=[[0, 2], [0, 1]])\n",
        "print(S)"
      ]
    },
    {
      "cell_type": "markdown",
      "metadata": {
        "id": "4Kw9EP3pfAlv"
      },
      "source": [
        "#### 87. Consider a 16x16 array, how to get the block-sum (block size is 4x4)? (★★★) \n",
        "(**hint**: np.add.reduceat)"
      ]
    },
    {
      "cell_type": "code",
      "execution_count": 48,
      "metadata": {
        "id": "QLO2WTEefAlv",
        "colab": {
          "base_uri": "https://localhost:8080/"
        },
        "outputId": "673141f8-07b8-486c-f309-c65cb2b79ab2"
      },
      "outputs": [
        {
          "output_type": "stream",
          "name": "stdout",
          "text": [
            "input array\n",
            "[[1. 1. 1. 1. 1. 1. 1. 1. 1. 1. 1. 1. 1. 1. 1. 1.]\n",
            " [1. 1. 1. 1. 1. 1. 1. 1. 1. 1. 1. 1. 1. 1. 1. 1.]\n",
            " [1. 1. 1. 1. 1. 1. 1. 1. 1. 1. 1. 1. 1. 1. 1. 1.]\n",
            " [1. 1. 1. 1. 1. 1. 1. 1. 1. 1. 1. 1. 1. 1. 1. 1.]\n",
            " [1. 1. 1. 1. 1. 1. 1. 1. 1. 1. 1. 1. 1. 1. 1. 1.]\n",
            " [1. 1. 1. 1. 1. 1. 1. 1. 1. 1. 1. 1. 1. 1. 1. 1.]\n",
            " [1. 1. 1. 1. 1. 1. 1. 1. 1. 1. 1. 1. 1. 1. 1. 1.]\n",
            " [1. 1. 1. 1. 1. 1. 1. 1. 1. 1. 1. 1. 1. 1. 1. 1.]\n",
            " [1. 1. 1. 1. 1. 1. 1. 1. 1. 1. 1. 1. 1. 1. 1. 1.]\n",
            " [1. 1. 1. 1. 1. 1. 1. 1. 1. 1. 1. 1. 1. 1. 1. 1.]\n",
            " [1. 1. 1. 1. 1. 1. 1. 1. 1. 1. 1. 1. 1. 1. 1. 1.]\n",
            " [1. 1. 1. 1. 1. 1. 1. 1. 1. 1. 1. 1. 1. 1. 1. 1.]\n",
            " [1. 1. 1. 1. 1. 1. 1. 1. 1. 1. 1. 1. 1. 1. 1. 1.]\n",
            " [1. 1. 1. 1. 1. 1. 1. 1. 1. 1. 1. 1. 1. 1. 1. 1.]\n",
            " [1. 1. 1. 1. 1. 1. 1. 1. 1. 1. 1. 1. 1. 1. 1. 1.]\n",
            " [1. 1. 1. 1. 1. 1. 1. 1. 1. 1. 1. 1. 1. 1. 1. 1.]]\n",
            "block sum\n",
            "[[16. 16. 16. 16.]\n",
            " [16. 16. 16. 16.]\n",
            " [16. 16. 16. 16.]\n",
            " [16. 16. 16. 16.]]\n"
          ]
        }
      ],
      "source": [
        "Z = np.ones((16,16))\n",
        "k = 4\n",
        "S = np.add.reduceat(np.add.reduceat(Z, np.arange(0, Z.shape[0], k), axis=0),\n",
        "                                       np.arange(0, Z.shape[1], k), axis=1)\n",
        "print ('input array')\n",
        "print (Z)\n",
        "print ('block sum')\n",
        "print (S)"
      ]
    },
    {
      "cell_type": "markdown",
      "metadata": {
        "id": "d-mILAoPfAlv"
      },
      "source": [
        "#### 88. How to implement the Game of Life using numpy arrays? (★★★)"
      ]
    },
    {
      "cell_type": "code",
      "execution_count": 49,
      "metadata": {
        "id": "vhuvdWqefAlv"
      },
      "outputs": [],
      "source": [
        "def iterate(Z):\n",
        "    # Count neighbours\n",
        "    N = (Z[0:-2,0:-2] + Z[0:-2,1:-1] + Z[0:-2,2:] +\n",
        "         Z[1:-1,0:-2]                + Z[1:-1,2:] +\n",
        "         Z[2:  ,0:-2] + Z[2:  ,1:-1] + Z[2:  ,2:])\n",
        "\n",
        "    # Apply rules\n",
        "    birth = (N==3) & (Z[1:-1,1:-1]==0)\n",
        "    survive = ((N==2) | (N==3)) & (Z[1:-1,1:-1]==1)\n",
        "    Z[...] = 0\n",
        "    Z[1:-1,1:-1][birth | survive] = 1\n",
        "    return Z\n",
        "\n",
        "Z = np.random.randint(0,2,(50,50))\n",
        "for i in range(100): Z = iterate(Z)"
      ]
    },
    {
      "cell_type": "markdown",
      "metadata": {
        "id": "s1srB3kvfAlv"
      },
      "source": [
        "#### 89. How to get the n largest values of an array (★★★) \n",
        "(**hint**: np.argsort | np.argpartition)"
      ]
    },
    {
      "cell_type": "code",
      "execution_count": 50,
      "metadata": {
        "id": "5pDvaWSRfAlv",
        "colab": {
          "base_uri": "https://localhost:8080/"
        },
        "outputId": "51e8a568-32cf-4795-c645-932077268ca7"
      },
      "outputs": [
        {
          "output_type": "stream",
          "name": "stdout",
          "text": [
            "[99 98 97 96 95]\n"
          ]
        }
      ],
      "source": [
        "Z = np.arange(100)\n",
        "np.random.shuffle(Z)\n",
        "n = 5\n",
        "\n",
        "# Fast\n",
        "print (Z[np.argpartition(-Z,n)[:n]])"
      ]
    },
    {
      "cell_type": "markdown",
      "metadata": {
        "id": "7wYNnNkpfAlv"
      },
      "source": [
        "#### 90. Given an arbitrary number of vectors, build the cartesian product (every combinations of every item) (★★★) \n",
        "(**hint**: np.indices)"
      ]
    },
    {
      "cell_type": "code",
      "execution_count": 51,
      "metadata": {
        "scrolled": true,
        "id": "FAG7-_ODfAlv",
        "colab": {
          "base_uri": "https://localhost:8080/"
        },
        "outputId": "cb76b4bb-ad22-474d-eb77-a49bf56a7ff9"
      },
      "outputs": [
        {
          "output_type": "stream",
          "name": "stdout",
          "text": [
            "[[1 4 6]\n",
            " [1 4 7]\n",
            " [1 5 6]\n",
            " [1 5 7]\n",
            " [2 4 6]\n",
            " [2 4 7]\n",
            " [2 5 6]\n",
            " [2 5 7]\n",
            " [3 4 6]\n",
            " [3 4 7]\n",
            " [3 5 6]\n",
            " [3 5 7]]\n"
          ]
        }
      ],
      "source": [
        "def cartesian(arrays):\n",
        "    arrays = [np.asarray(a) for a in arrays]\n",
        "    shape = (len(x) for x in arrays)\n",
        "\n",
        "    ix = np.indices(shape, dtype=int)\n",
        "    ix = ix.reshape(len(arrays), -1).T\n",
        "\n",
        "    for n, arr in enumerate(arrays):\n",
        "        ix[:, n] = arrays[n][ix[:, n]]\n",
        "\n",
        "    return ix\n",
        "\n",
        "print (cartesian(([1, 2, 3], [4, 5], [6, 7])))"
      ]
    },
    {
      "cell_type": "markdown",
      "metadata": {
        "id": "DFAolbMjfAlv"
      },
      "source": [
        "#### 91. How to create a record array from a regular array? (★★★) \n",
        "(**hint**: np.core.records.fromarrays)"
      ]
    },
    {
      "cell_type": "code",
      "execution_count": 52,
      "metadata": {
        "id": "aOpRKSG7fAlv"
      },
      "outputs": [],
      "source": [
        "Z = np.array([(\"Hello\", 2.5, 3),\n",
        "              (\"World\", 3.6, 2)])\n",
        "R = np.core.records.fromarrays(Z.T,\n",
        "                               names='col1, col2, col3',\n",
        "                               formats = 'S8, f8, i8')"
      ]
    },
    {
      "cell_type": "markdown",
      "metadata": {
        "id": "ZcFhNFtVfAlv"
      },
      "source": [
        "#### 92. Consider a large vector Z, compute Z to the power of 3 using 3 different methods (★★★) \n",
        "(**hint**: np.power, \\*, np.einsum)"
      ]
    },
    {
      "cell_type": "code",
      "execution_count": 54,
      "metadata": {
        "id": "x6mTezR8fAlv",
        "colab": {
          "base_uri": "https://localhost:8080/"
        },
        "outputId": "5cc83401-f076-4569-ac97-195b4303d96e"
      },
      "outputs": [
        {
          "output_type": "stream",
          "name": "stdout",
          "text": [
            "2.08 µs ± 55.2 ns per loop (mean ± std. dev. of 7 runs, 100000 loops each)\n",
            "1.04 µs ± 6.13 ns per loop (mean ± std. dev. of 7 runs, 1000000 loops each)\n",
            "3.15 µs ± 93.1 ns per loop (mean ± std. dev. of 7 runs, 100000 loops each)\n"
          ]
        }
      ],
      "source": [
        "x = np.random.rand(5)\n",
        "\n",
        "%timeit np.power(x,3)\n",
        "%timeit x*x*x\n",
        "%timeit np.einsum('i,i,i->i',x,x,x)"
      ]
    },
    {
      "cell_type": "markdown",
      "metadata": {
        "id": "IYK-v8wQfAlv"
      },
      "source": [
        "#### 93. Consider two arrays A and B of shape (8,3) and (2,2). How to find rows of A that contain elements of each row of B regardless of the order of the elements in B? (★★★) \n",
        "(**hint**: np.where)"
      ]
    },
    {
      "cell_type": "code",
      "execution_count": 55,
      "metadata": {
        "id": "jo4KHP0YfAlw",
        "colab": {
          "base_uri": "https://localhost:8080/"
        },
        "outputId": "c1168537-3bf4-46dd-cdd7-6ae9de85c7e3"
      },
      "outputs": [
        {
          "output_type": "stream",
          "name": "stdout",
          "text": [
            "[0 1 2 3 6]\n"
          ]
        }
      ],
      "source": [
        "A = np.random.randint(0,5,(8,3))\n",
        "B = np.random.randint(0,5,(2,2))\n",
        "\n",
        "C = (A[..., np.newaxis, np.newaxis] == B)\n",
        "rows = (C.sum(axis=(1,2,3)) >= B.shape[1]).nonzero()[0]\n",
        "print(rows)"
      ]
    },
    {
      "cell_type": "markdown",
      "metadata": {
        "id": "yE1l0_xSfAlw"
      },
      "source": [
        "#### 94. Considering a 10x3 matrix, extract rows with unequal values (e.g. \\[2,2,3\\]) (★★★)"
      ]
    },
    {
      "cell_type": "code",
      "execution_count": 56,
      "metadata": {
        "id": "8EuDyAPIfAlw",
        "colab": {
          "base_uri": "https://localhost:8080/"
        },
        "outputId": "38a7e47a-6f7e-48cf-d569-c1d6ed4f0ba8"
      },
      "outputs": [
        {
          "output_type": "stream",
          "name": "stdout",
          "text": [
            "[[3 0 3]\n",
            " [4 0 0]\n",
            " [0 3 0]\n",
            " [0 0 0]\n",
            " [2 4 3]\n",
            " [0 1 2]\n",
            " [3 0 2]\n",
            " [3 1 1]\n",
            " [0 0 1]\n",
            " [1 0 2]]\n",
            "[[3 0 3]\n",
            " [4 0 0]\n",
            " [0 3 0]\n",
            " [2 4 3]\n",
            " [0 1 2]\n",
            " [3 0 2]\n",
            " [3 1 1]\n",
            " [0 0 1]\n",
            " [1 0 2]]\n"
          ]
        }
      ],
      "source": [
        "Z = np.random.randint(0,5,(10,3))\n",
        "E = np.logical_and.reduce(Z[:,1:] == Z[:,:-1], axis=1)\n",
        "U = Z[~E]\n",
        "print(Z)\n",
        "print(U)"
      ]
    },
    {
      "cell_type": "markdown",
      "metadata": {
        "id": "yxw7uHzCfAlw"
      },
      "source": [
        "#### 95. Convert a vector of ints into a matrix binary representation (★★★) \n",
        "(**hint**: np.unpackbits)"
      ]
    },
    {
      "cell_type": "code",
      "execution_count": 57,
      "metadata": {
        "id": "vIaK08IYfAlw",
        "colab": {
          "base_uri": "https://localhost:8080/"
        },
        "outputId": "acfc4947-0b8d-49b3-ecd6-a9d03c6f5e1b"
      },
      "outputs": [
        {
          "output_type": "stream",
          "name": "stdout",
          "text": [
            "[[0 0 0 0 0 0 0 0]\n",
            " [0 0 0 0 0 0 0 1]\n",
            " [0 0 0 0 0 0 1 0]\n",
            " [0 0 0 0 0 0 1 1]\n",
            " [0 0 0 0 1 1 1 1]\n",
            " [0 0 0 1 0 0 0 0]\n",
            " [0 0 1 0 0 0 0 0]\n",
            " [0 1 0 0 0 0 0 0]\n",
            " [1 0 0 0 0 0 0 0]]\n",
            "[[0 0 0 0 0 0 0 0]\n",
            " [0 0 0 0 0 0 0 1]\n",
            " [0 0 0 0 0 0 1 0]\n",
            " [0 0 0 0 0 0 1 1]\n",
            " [0 0 0 0 1 1 1 1]\n",
            " [0 0 0 1 0 0 0 0]\n",
            " [0 0 1 0 0 0 0 0]\n",
            " [0 1 0 0 0 0 0 0]\n",
            " [1 0 0 0 0 0 0 0]]\n"
          ]
        }
      ],
      "source": [
        "I = np.array([0, 1, 2, 3, 15, 16, 32, 64, 128])\n",
        "B = ((I.reshape(-1,1) & (2**np.arange(8))) != 0).astype(int)\n",
        "print(B[:,::-1])\n",
        "\n",
        "I = np.array([0, 1, 2, 3, 15, 16, 32, 64, 128], dtype=np.uint8)\n",
        "print(np.unpackbits(I[:, np.newaxis], axis=1))"
      ]
    },
    {
      "cell_type": "markdown",
      "metadata": {
        "id": "s0V-BXXafAlw"
      },
      "source": [
        "#### 96. Given a two dimensional array, how to extract unique rows? (★★★) \n",
        "(**hint**: np.ascontiguousarray)"
      ]
    },
    {
      "cell_type": "code",
      "execution_count": 58,
      "metadata": {
        "id": "FCipkFelfAlw",
        "colab": {
          "base_uri": "https://localhost:8080/"
        },
        "outputId": "20af9f28-cb9a-4238-a42c-7e1c0a8b5d38"
      },
      "outputs": [
        {
          "output_type": "stream",
          "name": "stdout",
          "text": [
            "[[0 1 0]\n",
            " [0 1 1]\n",
            " [1 0 0]]\n"
          ]
        }
      ],
      "source": [
        "Z = np.random.randint(0,2,(6,3))\n",
        "T = np.ascontiguousarray(Z).view(np.dtype((np.void, Z.dtype.itemsize * Z.shape[1])))\n",
        "_, idx = np.unique(T, return_index=True)\n",
        "uZ = Z[idx]\n",
        "print(uZ)"
      ]
    },
    {
      "cell_type": "markdown",
      "metadata": {
        "id": "y3jFGDmXfAlw"
      },
      "source": [
        "#### 97. Considering 2 vectors A & B, write the einsum equivalent of inner, outer, sum, and mul function (★★★) \n",
        "(**hint**: np.einsum)"
      ]
    },
    {
      "cell_type": "code",
      "source": [
        ""
      ],
      "metadata": {
        "id": "gLV21pEQtf5m"
      },
      "execution_count": null,
      "outputs": []
    },
    {
      "cell_type": "markdown",
      "metadata": {
        "id": "hbfnbekMfAlw"
      },
      "source": [
        "#### 98. Considering a path described by two vectors (X,Y), how to sample it using equidistant samples (★★★)? \n",
        "(**hint**: np.cumsum, np.interp)"
      ]
    },
    {
      "cell_type": "code",
      "execution_count": 64,
      "metadata": {
        "collapsed": true,
        "id": "22TqWqoFfAlw"
      },
      "outputs": [],
      "source": [
        "phi = np.arange(0, 10*np.pi, 0.1)\n",
        "a = 1\n",
        "x = a*phi*np.cos(phi)\n",
        "y = a*phi*np.sin(phi)\n",
        "\n",
        "dr = (np.diff(x)**2 + np.diff(y)**2)**.5 # segment lengths\n",
        "r = np.zeros_like(x)\n",
        "r[1:] = np.cumsum(dr)                # integrate path\n",
        "r_int = np.linspace(0, r.max(), 200) # regular spaced path\n",
        "x_int = np.interp(r_int, r, x)       # integrate path\n",
        "y_int = np.interp(r_int, r, y)"
      ]
    },
    {
      "cell_type": "markdown",
      "metadata": {
        "id": "NIM1Zjf-fAlw"
      },
      "source": [
        "#### 99. Given an integer n and a 2D array X, select from X the rows which can be interpreted as draws from a multinomial distribution with n degrees, i.e., the rows which only contain integers and which sum to n. (★★★) \n",
        "(**hint**: np.logical\\_and.reduce, np.mod)"
      ]
    },
    {
      "cell_type": "code",
      "execution_count": null,
      "metadata": {
        "id": "jYDXjQWWfAlw"
      },
      "outputs": [],
      "source": [
        ""
      ]
    },
    {
      "cell_type": "markdown",
      "metadata": {
        "id": "92QD5nYbfAlw"
      },
      "source": [
        "#### 100. Compute bootstrapped 95% confidence intervals for the mean of a 1D array X (i.e., resample the elements of an array with replacement N times, compute the mean of each sample, and then compute percentiles over the means). (★★★) \n",
        "(**hint**: np.percentile)"
      ]
    },
    {
      "cell_type": "code",
      "execution_count": null,
      "metadata": {
        "id": "t2tmvDtIfAlw"
      },
      "outputs": [],
      "source": [
        ""
      ]
    }
  ],
  "metadata": {
    "kernelspec": {
      "display_name": "Python 3",
      "language": "python",
      "name": "python3"
    },
    "language_info": {
      "codemirror_mode": {
        "name": "ipython",
        "version": 3
      },
      "file_extension": ".py",
      "mimetype": "text/x-python",
      "name": "python",
      "nbconvert_exporter": "python",
      "pygments_lexer": "ipython3",
      "version": "3.8.3"
    },
    "colab": {
      "name": "Task 2: Numpy_tasks.ipynb",
      "provenance": [],
      "collapsed_sections": []
    }
  },
  "nbformat": 4,
  "nbformat_minor": 0
}